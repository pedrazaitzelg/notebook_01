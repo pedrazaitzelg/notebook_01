{
  "nbformat": 4,
  "nbformat_minor": 0,
  "metadata": {
    "colab": {
      "provenance": [],
      "toc_visible": true,
      "include_colab_link": true
    },
    "kernelspec": {
      "display_name": "Python 3",
      "language": "python",
      "name": "python3"
    },
    "language_info": {
      "codemirror_mode": {
        "name": "ipython",
        "version": 3
      },
      "file_extension": ".py",
      "mimetype": "text/x-python",
      "name": "python",
      "nbconvert_exporter": "python",
      "pygments_lexer": "ipython3",
      "version": "3.7.4"
    }
  },
  "cells": [
    {
      "cell_type": "markdown",
      "metadata": {
        "id": "view-in-github",
        "colab_type": "text"
      },
      "source": [
        "<a href=\"https://colab.research.google.com/github/pedrazaitzelg/notebook_01/blob/main/CSE20_Beginning_Python.ipynb\" target=\"_parent\"><img src=\"https://colab.research.google.com/assets/colab-badge.svg\" alt=\"Open In Colab\"/></a>"
      ]
    },
    {
      "cell_type": "markdown",
      "source": [
        "# **INTELLECTUAL PROPERTY**\n",
        "\n",
        "The materials in this notebook are **the intellectual property** of **Dr. Larissa Munishkina.**\n",
        "\n",
        "As a student or a user, you have access to the materials for the purpose of learning, engaging with your peers in the course, completing assignments, and so on. You have a moral and legal obligation to respect the rights of others by **only** using course materials for purposes associated with the course.\n",
        "\n",
        "You are **not permitted to share, upload, stream, sell, republish, share the login information for, or disseminate any of the course materials**, such as: slides, notes, syllabus, notebooks, video and audio files, assignments, simulations, datasets, discussion threads, etc."
      ],
      "metadata": {
        "id": "Qux3vlpnEr8q"
      }
    },
    {
      "cell_type": "markdown",
      "metadata": {
        "id": "5UyFJYXOx-WH"
      },
      "source": [
        "# Lecture 1 - Intro to Class\n",
        "* Syllabus\n",
        "* Class Resources Online\n",
        "  * Canvas\n",
        "  * Zoom Meetings\n",
        "  * Video Lectures on YuJa\n",
        "  * Discussion Forums on Ed\n",
        "* Assignments and Quizzes\n",
        "* Discussion and Tutoring Sections\n",
        "* Getting Help: Office Hours, MSI Tutoring, Discussions on Canvas and Ed\n",
        "\n",
        "\n"
      ]
    },
    {
      "cell_type": "markdown",
      "metadata": {
        "id": "3Bd3InM7KL5R"
      },
      "source": [
        "# Lecture 2 - Setting Up Programming Environment\n",
        "* IDEs (***I***ntegrated ***D***evelopment ***E***nvironment)\n",
        "* Python 2 vs Python 3\n",
        "* Python 3 and IDLE Installation\n",
        "* Intro to UNIX\n",
        "* Using sftp and ssh\n",
        "* Bash Shell Scripts\n"
      ]
    },
    {
      "cell_type": "markdown",
      "metadata": {
        "id": "_EwG6C0eLMJg"
      },
      "source": [
        "# Lecture 3 - Intro to Python\n",
        "* Software Development\n",
        "* Programming Languages\n",
        "* What is a Program?\n",
        "* Interpreted vs. Compiled Languages\n",
        "* Machine Code\n",
        "* Python IDEs, APIs, and Libraries\n",
        "* Language Basics\n",
        "  * Statements\n",
        "  * Expressions\n",
        "  * Operators, Keywords, Variables, Values, Delimiters\n",
        "  * Data Types\n",
        "  * Comments, Blocks, Indentations\n"
      ]
    },
    {
      "cell_type": "code",
      "metadata": {
        "id": "nqIdfQAYOd3T",
        "outputId": "51815e4e-9342-4c9c-9cc0-09bb16a25242",
        "colab": {
          "base_uri": "https://localhost:8080/"
        }
      },
      "source": [
        "print (\"Hello!\")  # this is a print statement"
      ],
      "execution_count": null,
      "outputs": [
        {
          "output_type": "stream",
          "name": "stdout",
          "text": [
            "Hello!\n"
          ]
        }
      ]
    },
    {
      "cell_type": "code",
      "metadata": {
        "id": "Kn3B9NxpO5zi",
        "outputId": "36293bda-7785-4a35-8fd2-ee447bac0f9b",
        "colab": {
          "base_uri": "https://localhost:8080/"
        }
      },
      "source": [
        "2 + 5    # this is an arithmetic expression"
      ],
      "execution_count": null,
      "outputs": [
        {
          "output_type": "execute_result",
          "data": {
            "text/plain": [
              "7"
            ]
          },
          "metadata": {},
          "execution_count": 3
        }
      ]
    },
    {
      "cell_type": "code",
      "metadata": {
        "id": "vMSRC3elPKLJ"
      },
      "source": [
        "# this is a comment! The Python interpreter does not read and execute this line"
      ],
      "execution_count": null,
      "outputs": []
    },
    {
      "cell_type": "code",
      "metadata": {
        "id": "QuNSGmngPovu",
        "outputId": "aa791085-9b19-433b-948b-38b8520d6927",
        "colab": {
          "base_uri": "https://localhost:8080/"
        }
      },
      "source": [
        "a = 10  # this is an assignment statement, the variable a is assigned to 10\n",
        "type(a) # this prints the variable data type"
      ],
      "execution_count": null,
      "outputs": [
        {
          "output_type": "execute_result",
          "data": {
            "text/plain": [
              "int"
            ]
          },
          "metadata": {},
          "execution_count": 1
        }
      ]
    },
    {
      "cell_type": "code",
      "metadata": {
        "id": "ImaeC0iO-gCO",
        "colab": {
          "base_uri": "https://localhost:8080/"
        },
        "outputId": "51e5bd98-6766-4f6f-d7ff-7110293e96d3"
      },
      "source": [
        "# this is a loop statement (two lines of code)\n",
        "for i in range(10):\n",
        "\tprint (i)    # this is a for loop block and it is indented\n"
      ],
      "execution_count": null,
      "outputs": [
        {
          "output_type": "stream",
          "name": "stdout",
          "text": [
            "0\n",
            "1\n",
            "2\n",
            "3\n",
            "4\n",
            "5\n",
            "6\n",
            "7\n",
            "8\n",
            "9\n"
          ]
        }
      ]
    },
    {
      "cell_type": "code",
      "metadata": {
        "id": "OpZmi5uPAfmt"
      },
      "source": [
        "import random\n",
        "import string\n",
        "\n",
        "# this is the main game loop with indented blocks\n",
        "game_over = False\n",
        "letter = random.choice(string.ascii_lowercase)\n",
        "#print(f'The hidden letter is {letter}.')\n",
        "while not game_over :\n",
        "    ans = input (\"Type quit or guess a letter:  \").lower()\n",
        "    if ans == 'quit' :\n",
        "        print (\"Thanks for playing.\")\n",
        "        game_over = True\n",
        "    else:\n",
        "        if ans == letter:\n",
        "            print(f'You won!\\nThe letter is {letter}.')\n",
        "            game_over = True\n"
      ],
      "execution_count": null,
      "outputs": []
    },
    {
      "cell_type": "markdown",
      "metadata": {
        "id": "_H89tIWgLTKb"
      },
      "source": [
        "# Lecture 4 - Variables and Operators\n",
        "* Identifiers\n",
        "* Values and Variables\n",
        "* Operators\n",
        "  * Assignment Operators\n",
        "  * Arithmetic Operators\n",
        "  * Comparison Operators\n",
        "  * Logical Operators\n",
        "  * Bitwise Operators\n",
        "  * Membership Operators\n",
        "* Precedence and Associativity\n"
      ]
    },
    {
      "cell_type": "markdown",
      "metadata": {
        "id": "yBxEzvO2v2Wh"
      },
      "source": [
        "##Identifiers"
      ]
    },
    {
      "cell_type": "code",
      "metadata": {
        "id": "M34bimM_xSjb",
        "colab": {
          "base_uri": "https://localhost:8080/"
        },
        "outputId": "2e493568-225e-4cde-ad93-be6ac346a763"
      },
      "source": [
        "word = 'while'\n",
        "word.isidentifier()"
      ],
      "execution_count": null,
      "outputs": [
        {
          "output_type": "execute_result",
          "data": {
            "text/plain": [
              "True"
            ]
          },
          "metadata": {},
          "execution_count": 1
        }
      ]
    },
    {
      "cell_type": "code",
      "metadata": {
        "id": "FoBNq1NhxtPT",
        "colab": {
          "base_uri": "https://localhost:8080/"
        },
        "outputId": "65f1ceaa-d20b-4482-f41a-ef631ee78ca7"
      },
      "source": [
        "import keyword        # import the keyword module\n",
        "keyword.iskeyword(word)"
      ],
      "execution_count": null,
      "outputs": [
        {
          "output_type": "execute_result",
          "data": {
            "text/plain": [
              "True"
            ]
          },
          "metadata": {},
          "execution_count": 2
        }
      ]
    },
    {
      "cell_type": "code",
      "metadata": {
        "id": "R0LjAmcgznZH",
        "colab": {
          "base_uri": "https://localhost:8080/"
        },
        "outputId": "46bd97e8-59ab-4af2-811b-4b1857ea4138"
      },
      "source": [
        "import keyword\n",
        "keyword.kwlist"
      ],
      "execution_count": null,
      "outputs": [
        {
          "output_type": "execute_result",
          "data": {
            "text/plain": [
              "['False',\n",
              " 'None',\n",
              " 'True',\n",
              " 'and',\n",
              " 'as',\n",
              " 'assert',\n",
              " 'async',\n",
              " 'await',\n",
              " 'break',\n",
              " 'class',\n",
              " 'continue',\n",
              " 'def',\n",
              " 'del',\n",
              " 'elif',\n",
              " 'else',\n",
              " 'except',\n",
              " 'finally',\n",
              " 'for',\n",
              " 'from',\n",
              " 'global',\n",
              " 'if',\n",
              " 'import',\n",
              " 'in',\n",
              " 'is',\n",
              " 'lambda',\n",
              " 'nonlocal',\n",
              " 'not',\n",
              " 'or',\n",
              " 'pass',\n",
              " 'raise',\n",
              " 'return',\n",
              " 'try',\n",
              " 'while',\n",
              " 'with',\n",
              " 'yield']"
            ]
          },
          "metadata": {},
          "execution_count": 3
        }
      ]
    },
    {
      "cell_type": "markdown",
      "metadata": {
        "id": "_rRPce62x4L4"
      },
      "source": [
        "Check which words are valid identifiers (they are not keywords and have the valid format):"
      ]
    },
    {
      "cell_type": "code",
      "metadata": {
        "id": "_Q5PYRo1xs-s",
        "colab": {
          "base_uri": "https://localhost:8080/"
        },
        "outputId": "87a505a4-bf08-44ff-e2f9-129511234107"
      },
      "source": [
        "import keyword\n",
        "list_of_words = ['continue', 'break', 'while', 'list', 'class', 'int', 'start', 'end']\n",
        "for word in list_of_words:\n",
        "  if word.isidentifier() and not keyword.iskeyword(word):\n",
        "    print(f'{word} is a valid identifier.')\n",
        "  else:\n",
        "    print(f'{word} is not a valid identifier.')"
      ],
      "execution_count": null,
      "outputs": [
        {
          "output_type": "stream",
          "name": "stdout",
          "text": [
            "continue is not a valid identifier.\n",
            "break is not a valid identifier.\n",
            "while is not a valid identifier.\n",
            "list is a valid identifier.\n",
            "class is not a valid identifier.\n",
            "int is a valid identifier.\n",
            "start is a valid identifier.\n",
            "end is a valid identifier.\n"
          ]
        }
      ]
    },
    {
      "cell_type": "markdown",
      "metadata": {
        "id": "eUQ7Af-nvu1L"
      },
      "source": [
        "##Assignment and Arithmetic Operators"
      ]
    },
    {
      "cell_type": "code",
      "metadata": {
        "id": "sImm-d0nu7BY",
        "colab": {
          "base_uri": "https://localhost:8080/"
        },
        "outputId": "d7549d04-fd4e-4e44-c5b7-1c3d5a20a4fd"
      },
      "source": [
        "# this is a simple assignment statement\n",
        "num = 100\n",
        "print(num)"
      ],
      "execution_count": null,
      "outputs": [
        {
          "output_type": "stream",
          "name": "stdout",
          "text": [
            "100\n"
          ]
        }
      ]
    },
    {
      "cell_type": "code",
      "metadata": {
        "id": "qA79fIaWRs6k",
        "colab": {
          "base_uri": "https://localhost:8080/"
        },
        "outputId": "6f6071ed-8730-445d-8c20-8bf8bb4a0531"
      },
      "source": [
        "# this is a multiple assignment statement\n",
        "a, b = 5, 2\n",
        "print (a, b)"
      ],
      "execution_count": null,
      "outputs": [
        {
          "output_type": "stream",
          "name": "stdout",
          "text": [
            "5 2\n"
          ]
        }
      ]
    },
    {
      "cell_type": "code",
      "metadata": {
        "id": "z-nzRtRiR4rv",
        "colab": {
          "base_uri": "https://localhost:8080/"
        },
        "outputId": "7e80daf8-3dd0-4724-b9cb-4d8b4ea3f3fd"
      },
      "source": [
        "# this is a compound assignment statement\n",
        "a += b\n",
        "print (a)"
      ],
      "execution_count": null,
      "outputs": [
        {
          "output_type": "stream",
          "name": "stdout",
          "text": [
            "7\n"
          ]
        }
      ]
    },
    {
      "cell_type": "code",
      "metadata": {
        "id": "wV7Vsl-ZQfqe"
      },
      "source": [
        "# this is another compound statement\n",
        "a = 5\n",
        "a /= b\n",
        "print (a)"
      ],
      "execution_count": null,
      "outputs": []
    },
    {
      "cell_type": "markdown",
      "source": [
        "##Division Theorem\n",
        "\n",
        "There are two types of divisions:\n",
        "* Proper (float) division\n",
        "* Floor (integer) division\n",
        "\n",
        "Division of integers is called Euclidean division that is based on the Euclid's division lemma:\n",
        "\n",
        "Given two integers $a$ and $b$, with $b ≠ 0$, there exist unique integers $q$ and $r$ such that\n",
        "\n",
        "$a = bq + r$\n",
        "\n",
        "and\n",
        "\n",
        "$0 ≤ r < |b|$,\n",
        "where $|b|$ denotes the absolute value of $b$.\n",
        "\n",
        "Integer $a$ is called the **dividend**, $b$ is called the **divisor**, $q$ is called the **quotient** and $r$ is called the **remainder**."
      ],
      "metadata": {
        "id": "84vx7Lyo9d_h"
      }
    },
    {
      "cell_type": "code",
      "metadata": {
        "id": "Ms8YK6rDRJOb"
      },
      "source": [
        "# this is an integer division\n",
        "a = 5\n",
        "c = a // b\n",
        "print (c)"
      ],
      "execution_count": null,
      "outputs": []
    },
    {
      "cell_type": "code",
      "metadata": {
        "id": "RKdOdbYRROfK"
      },
      "source": [
        "# this is a modulo operation (finding a remainder of integer division)\n",
        "d = a % b\n",
        "print (d)"
      ],
      "execution_count": null,
      "outputs": []
    },
    {
      "cell_type": "markdown",
      "metadata": {
        "id": "4drbhpIM0Amp"
      },
      "source": [
        "##Comparisson Operators\n",
        "\n",
        "---\n",
        "\n"
      ]
    },
    {
      "cell_type": "markdown",
      "source": [
        "###Number Comparison"
      ],
      "metadata": {
        "id": "vLCkqxUCK1A_"
      }
    },
    {
      "cell_type": "code",
      "metadata": {
        "id": "sz2FDR4J0GIw"
      },
      "source": [
        "1 < 0"
      ],
      "execution_count": null,
      "outputs": []
    },
    {
      "cell_type": "code",
      "metadata": {
        "id": "C5pWDC2a0WF2"
      },
      "source": [
        "0 > 1"
      ],
      "execution_count": null,
      "outputs": []
    },
    {
      "cell_type": "code",
      "metadata": {
        "id": "ZPn7BmTk0cgM"
      },
      "source": [
        "a = 0\n",
        "b = 10 * a\n",
        "print (a == b)"
      ],
      "execution_count": null,
      "outputs": []
    },
    {
      "cell_type": "markdown",
      "source": [
        "###String Comparison"
      ],
      "metadata": {
        "id": "pA1xjUh0K8lz"
      }
    },
    {
      "cell_type": "markdown",
      "source": [
        "Strings can be compared using $>$, $<$, and $==$ operators. Each character in the strings is converted into its numeric code:\n",
        " * ASCII (American Standard Code for  Information Interchange)\n",
        " * Unicode\n",
        "\n",
        " For example, letter **A** has numeric code **65**, letter **B** -- **66**, whereas letter **a** has numeric code **97**, letter **b** -- **98**."
      ],
      "metadata": {
        "id": "tLxvYdgMLlKm"
      }
    },
    {
      "cell_type": "code",
      "source": [
        "print(ord('A'))\n",
        "print(ord('B'))\n",
        "print(ord('a'))\n",
        "print(ord('b'))"
      ],
      "metadata": {
        "colab": {
          "base_uri": "https://localhost:8080/"
        },
        "id": "qVpoC9XCNUDp",
        "outputId": "5d941bfc-f723-41fd-8719-335fb997b078"
      },
      "execution_count": null,
      "outputs": [
        {
          "output_type": "stream",
          "name": "stdout",
          "text": [
            "65\n",
            "66\n",
            "97\n",
            "98\n"
          ]
        }
      ]
    },
    {
      "cell_type": "code",
      "source": [
        "'a' < 'b'"
      ],
      "metadata": {
        "colab": {
          "base_uri": "https://localhost:8080/"
        },
        "id": "IFaWigj2LJjR",
        "outputId": "903b6eb5-e3ef-4084-fcf8-24715db219da"
      },
      "execution_count": null,
      "outputs": [
        {
          "output_type": "execute_result",
          "data": {
            "text/plain": [
              "True"
            ]
          },
          "metadata": {},
          "execution_count": 9
        }
      ]
    },
    {
      "cell_type": "code",
      "source": [
        "'a' < 'b' < 'c'"
      ],
      "metadata": {
        "colab": {
          "base_uri": "https://localhost:8080/"
        },
        "id": "6fNLcrozLR3l",
        "outputId": "f761137c-11fc-4c13-ad35-573e9fd4cd71"
      },
      "execution_count": null,
      "outputs": [
        {
          "output_type": "execute_result",
          "data": {
            "text/plain": [
              "True"
            ]
          },
          "metadata": {},
          "execution_count": 10
        }
      ]
    },
    {
      "cell_type": "code",
      "source": [
        "'abba' < 'beetles'"
      ],
      "metadata": {
        "colab": {
          "base_uri": "https://localhost:8080/"
        },
        "id": "IyZcKSkNLbpb",
        "outputId": "e68b96aa-a0c2-43dc-8d27-bf28633ff80c"
      },
      "execution_count": null,
      "outputs": [
        {
          "output_type": "execute_result",
          "data": {
            "text/plain": [
              "True"
            ]
          },
          "metadata": {},
          "execution_count": 11
        }
      ]
    },
    {
      "cell_type": "code",
      "source": [
        "'A' > 'a'"
      ],
      "metadata": {
        "colab": {
          "base_uri": "https://localhost:8080/"
        },
        "id": "fa5emD1zLDxp",
        "outputId": "a38f32f0-d084-4b13-cd2f-7a0e7e15e9d9"
      },
      "execution_count": null,
      "outputs": [
        {
          "output_type": "execute_result",
          "data": {
            "text/plain": [
              "False"
            ]
          },
          "metadata": {},
          "execution_count": 8
        }
      ]
    },
    {
      "cell_type": "markdown",
      "metadata": {
        "id": "kyBT_K3W0rBy"
      },
      "source": [
        "##Logical Operators"
      ]
    },
    {
      "cell_type": "code",
      "source": [
        "A = False\n",
        "B = True\n",
        "print(A or B)\n",
        "print(A and B)\n",
        "print(not A)"
      ],
      "metadata": {
        "colab": {
          "base_uri": "https://localhost:8080/"
        },
        "id": "kIiVyWy8KeqF",
        "outputId": "10c71e1c-e98f-405c-ed88-0d6f0a16e879"
      },
      "execution_count": null,
      "outputs": [
        {
          "output_type": "stream",
          "name": "stdout",
          "text": [
            "True\n",
            "False\n",
            "True\n"
          ]
        }
      ]
    },
    {
      "cell_type": "code",
      "metadata": {
        "id": "darzsqZw0vdk",
        "colab": {
          "base_uri": "https://localhost:8080/"
        },
        "outputId": "fb2cfe33-c2f5-4cc7-de77-c06d4384aafd"
      },
      "source": [
        "A = 0 > 1  # is false\n",
        "B = 1 > 0  # is true\n",
        "print(A or B)\n",
        "print(A and B)\n",
        "print(not A)"
      ],
      "execution_count": null,
      "outputs": [
        {
          "output_type": "stream",
          "name": "stdout",
          "text": [
            "True\n",
            "False\n",
            "True\n"
          ]
        }
      ]
    },
    {
      "cell_type": "markdown",
      "metadata": {
        "id": "2qJ6q0nO5wRl"
      },
      "source": [
        "##Membership Operators"
      ]
    },
    {
      "cell_type": "code",
      "metadata": {
        "id": "zD07YjOM6AyZ"
      },
      "source": [
        "if 'y' in 'python':\n",
        "  print(\"The word 'python' has a letter 'y'.\")\n",
        "if 'e' not in 'python':\n",
        "  print(\"There is no letter 'e' in 'python'.\")"
      ],
      "execution_count": null,
      "outputs": []
    },
    {
      "cell_type": "markdown",
      "source": [
        "##Identity Operators"
      ],
      "metadata": {
        "id": "Fu81LZu_KDzK"
      }
    },
    {
      "cell_type": "code",
      "metadata": {
        "id": "N8Pli0E66tBq"
      },
      "source": [
        "a = 10\n",
        "b = 10\n",
        "print (a is b)\n",
        "s1 = 'hello'\n",
        "s2 = 'hello'\n",
        "print (s1 is s2)\n",
        "list1 = [1,2,3]\n",
        "list2 = [1,2,3]\n",
        "print(list1 is list2)"
      ],
      "execution_count": null,
      "outputs": []
    },
    {
      "cell_type": "markdown",
      "metadata": {
        "id": "HAajfX3p1P8c"
      },
      "source": [
        "##Bitwise Operators\n",
        "\n",
        "\n",
        "> Bitwise operators operate on bits. For example, an integer in the decimal notation can be converted into the binary notation:\n",
        "\n",
        "$12 = 1*2^3  + 1*2^2 + 0*2^1 + 0*2^0$\n",
        "\n",
        "or **1100**\n",
        "\n",
        "$13 = 1*2^3  + 1*2^2 + 0*2^1 + 1*2^0$\n",
        "\n",
        "or **1101**\n",
        "\n"
      ]
    },
    {
      "cell_type": "code",
      "metadata": {
        "id": "_hA8XvCb1TC8",
        "colab": {
          "base_uri": "https://localhost:8080/"
        },
        "outputId": "4084945d-8433-4aa7-af79-e82186b82b52"
      },
      "source": [
        "num1 = 12\n",
        "num2 = 13\n",
        "print(num1 & num2) # bitwise AND\n",
        "print(num1 | num2) # bitwise OR\n",
        "print(num1 ^ num2) # bitwise XOR\n",
        "print(~num1)       # binary ones complement\n",
        "print(num1<<1)     # binary left shift or multiply by 2\n",
        "print(num1>>1)     # binary right shift or divide by 2"
      ],
      "execution_count": null,
      "outputs": [
        {
          "output_type": "stream",
          "name": "stdout",
          "text": [
            "12\n",
            "13\n",
            "1\n",
            "-13\n",
            "24\n",
            "6\n"
          ]
        }
      ]
    },
    {
      "cell_type": "markdown",
      "metadata": {
        "id": "Cs46eWf2LbEp"
      },
      "source": [
        "\n",
        "# Lecture 5 - Data Types\n",
        "* Overview of Python Built-In Data Types\n",
        "  * Basic Data Types\n",
        "  * Data Collections\n",
        "* Basic Data Types\n",
        "  * Integer\n",
        "  * Float\n",
        "  * Boolean\n",
        "  * Complex\n",
        "  * String\n",
        "  * None\n",
        "* Standard Input and Output\n",
        "* String Formating\n",
        "  * f-Strings\n",
        "  * Method format\n",
        "  * String Concatenation\n"
      ]
    },
    {
      "cell_type": "markdown",
      "metadata": {
        "id": "QN5nQCoNFFlb"
      },
      "source": [
        "##Integer"
      ]
    },
    {
      "cell_type": "code",
      "metadata": {
        "id": "sZckeeCbFItz",
        "colab": {
          "base_uri": "https://localhost:8080/"
        },
        "outputId": "eedc4bfd-9980-4b54-8b7f-6dc0ac1bd186"
      },
      "source": [
        "num_students = 302\n",
        "print(num_students)\n",
        "type(num_students)"
      ],
      "execution_count": null,
      "outputs": [
        {
          "output_type": "stream",
          "name": "stdout",
          "text": [
            "302\n"
          ]
        },
        {
          "output_type": "execute_result",
          "data": {
            "text/plain": [
              "int"
            ]
          },
          "metadata": {},
          "execution_count": 2
        }
      ]
    },
    {
      "cell_type": "code",
      "metadata": {
        "id": "t0RELVTyFiQG"
      },
      "source": [
        "if num_students > 200:\n",
        "  print('It is a large class.')"
      ],
      "execution_count": null,
      "outputs": []
    },
    {
      "cell_type": "markdown",
      "metadata": {
        "id": "jn-sK0dMGJhU"
      },
      "source": [
        "##Float"
      ]
    },
    {
      "cell_type": "code",
      "metadata": {
        "id": "99InosCOGLvn",
        "colab": {
          "base_uri": "https://localhost:8080/"
        },
        "outputId": "b9d9b5a7-7c43-4f0d-d166-b21e2ebbcf1d"
      },
      "source": [
        "area = 32.456\n",
        "print(type(area))"
      ],
      "execution_count": null,
      "outputs": [
        {
          "output_type": "stream",
          "name": "stdout",
          "text": [
            "<class 'float'>\n"
          ]
        }
      ]
    },
    {
      "cell_type": "code",
      "metadata": {
        "id": "UuQ-tsvZGY2J"
      },
      "source": [
        "side1, side2 = 12.31, 15.28         # sides of a rectangle\n",
        "perimeter = (side1 + side2)*2\n",
        "area = side1 * side2\n",
        "print(f'The perimeter of the rectagle is {perimeter} and the area of the rectangle is {area}.')"
      ],
      "execution_count": null,
      "outputs": []
    },
    {
      "cell_type": "markdown",
      "metadata": {
        "id": "qcSnnNOtHgGz"
      },
      "source": [
        "##Boolean"
      ]
    },
    {
      "cell_type": "code",
      "metadata": {
        "id": "FfthfY_1Hi2N"
      },
      "source": [
        "is_over = True\n",
        "print (type(is_over))"
      ],
      "execution_count": null,
      "outputs": []
    },
    {
      "cell_type": "code",
      "metadata": {
        "id": "cP_-RhzJH_km"
      },
      "source": [
        "is_done = False\n",
        "if not is_done:\n",
        "  print(\"The class is not over yet.\")"
      ],
      "execution_count": null,
      "outputs": []
    },
    {
      "cell_type": "markdown",
      "metadata": {
        "id": "uRBsYsZEIRSU"
      },
      "source": [
        "##String"
      ]
    },
    {
      "cell_type": "code",
      "metadata": {
        "id": "FdBQm8c8IbcA",
        "colab": {
          "base_uri": "https://localhost:8080/"
        },
        "outputId": "396f543e-d056-4388-923e-3e58c72b82e4"
      },
      "source": [
        "word = \"hello\"\n",
        "phrase = \"How are you?\"\n",
        "verse = \"\"\"Heaven/Earth\n",
        "Death/Birth\"\"\"\n",
        "print(f\"The word is '{word}'\\nThe prase is '{phrase}'.\\nThe verse is:\\n{verse}\")"
      ],
      "execution_count": null,
      "outputs": [
        {
          "output_type": "stream",
          "name": "stdout",
          "text": [
            "The word is 'hello'\n",
            "The prase is 'How are you?'.\n",
            "The verse is:\n",
            "Heaven/Earth\n",
            "Death/Birth\n"
          ]
        }
      ]
    },
    {
      "cell_type": "code",
      "metadata": {
        "id": "tG6okTIUKNCP",
        "colab": {
          "base_uri": "https://localhost:8080/"
        },
        "outputId": "8e8f75a2-a121-4ca1-c566-63025e9b7253"
      },
      "source": [
        "greet = \"Hi Sam!\"\n",
        "question = \"Where have you been?\"\n",
        "print(greet + question)\n",
        "print(greet + ' ' + question)"
      ],
      "execution_count": null,
      "outputs": [
        {
          "output_type": "stream",
          "name": "stdout",
          "text": [
            "Hi Sam!Where have you been?\n",
            "Hi Sam! Where have you been?\n"
          ]
        }
      ]
    },
    {
      "cell_type": "code",
      "metadata": {
        "id": "4JRx4-o6Kj-q",
        "colab": {
          "base_uri": "https://localhost:8080/"
        },
        "outputId": "9ad2e25a-3d19-46d7-927a-290bc9e13afd"
      },
      "source": [
        "greet = \"Hi Sam! \"\n",
        "print (greet * 3)"
      ],
      "execution_count": null,
      "outputs": [
        {
          "output_type": "stream",
          "name": "stdout",
          "text": [
            "Hi Sam! Hi Sam! Hi Sam! \n"
          ]
        }
      ]
    },
    {
      "cell_type": "code",
      "metadata": {
        "id": "9kTgAIeHLMs7",
        "colab": {
          "base_uri": "https://localhost:8080/"
        },
        "outputId": "1893e14c-5c67-48b1-be0f-d5f035f2d402"
      },
      "source": [
        "letter = 'a'\n",
        "code = ord(letter)\n",
        "print (f\"The letter {letter} has an ASCII code {code}.\")"
      ],
      "execution_count": null,
      "outputs": [
        {
          "output_type": "stream",
          "name": "stdout",
          "text": [
            "The letter a has an ASCII code 97.\n"
          ]
        }
      ]
    },
    {
      "cell_type": "code",
      "metadata": {
        "id": "s1eOgfqbLu5u",
        "colab": {
          "base_uri": "https://localhost:8080/"
        },
        "outputId": "faae44d4-dd6c-4b7e-a85c-327857e966ab"
      },
      "source": [
        "code = 36\n",
        "char = chr(code)\n",
        "print(f\"The ASCII code {code} corresponds to the character '{char}'.\")"
      ],
      "execution_count": null,
      "outputs": [
        {
          "output_type": "stream",
          "name": "stdout",
          "text": [
            "The ASCII code 36 corresponds to the character '$'.\n"
          ]
        }
      ]
    },
    {
      "cell_type": "markdown",
      "metadata": {
        "id": "BI_eDmz7LJfb"
      },
      "source": [
        "##Conversion Between Binary, Octal, Hexadecimal, and Decimal Numbers\n",
        "\n"
      ]
    },
    {
      "cell_type": "code",
      "metadata": {
        "id": "WUTDOXiRMf_W"
      },
      "source": [
        "d = 12            # d is an integer\n",
        "print(type(d))\n",
        "b = bin(d)        # b is a binary form of the integer stored as a string\n",
        "print(b)\n",
        "print(type(b))"
      ],
      "execution_count": null,
      "outputs": []
    },
    {
      "cell_type": "code",
      "metadata": {
        "id": "eQI-PGxsNlU0"
      },
      "source": [
        "d = 12\n",
        "o = oct(d)\n",
        "h = hex(d)\n",
        "print (f\"Integer {d} has octal form {o} and hexadecimal form {h}.\")"
      ],
      "execution_count": null,
      "outputs": []
    },
    {
      "cell_type": "markdown",
      "metadata": {
        "id": "Q9CveJYOOuD_"
      },
      "source": [
        "##Integer Casting"
      ]
    },
    {
      "cell_type": "code",
      "metadata": {
        "id": "1BjlPUrrOyCM"
      },
      "source": [
        "a, b = '12', '13'\n",
        "c = a + b\n",
        "print(f\"This is the result of string concatenation {c}.\")\n",
        "d = int(a) + int(b)\n",
        "print(f\"This is the result of integer addition {d}.\")"
      ],
      "execution_count": null,
      "outputs": []
    },
    {
      "cell_type": "markdown",
      "metadata": {
        "id": "K41SdZj9PpSw"
      },
      "source": [
        "The function int() can be used to convert **strings** or **floats** into integers"
      ]
    },
    {
      "cell_type": "code",
      "metadata": {
        "id": "ffjMVCs1OKfQ"
      },
      "source": [
        "d = 12\n",
        "b = bin(d)\n",
        "o = oct(d)\n",
        "h = hex(d)\n",
        "# let's convert them back\n",
        "print(int(b, 2))\n",
        "print(int(o, 8))\n",
        "print(int(h, 16))"
      ],
      "execution_count": null,
      "outputs": []
    },
    {
      "cell_type": "code",
      "metadata": {
        "id": "3ZvBvo-JQQ8-"
      },
      "source": [
        "f = 12.345\n",
        "print(int(f))"
      ],
      "execution_count": null,
      "outputs": []
    },
    {
      "cell_type": "markdown",
      "metadata": {
        "id": "Q-tVUJdzV9gi"
      },
      "source": [
        "##Standard Input\n",
        "\n",
        "\n",
        "> The standard input is the input received from the keyboard. In Python, we use the built-in function input() to get input typed by the user on the keyboard.\n",
        "\n"
      ]
    },
    {
      "cell_type": "code",
      "metadata": {
        "id": "8lw152c4WfA9"
      },
      "source": [
        "first = input (\"What is your name?\\n\")\n",
        "last = input (\"What is your last name?\\n\")\n",
        "age = int (input (\"How old are you?\\n\") )\n",
        "age += 1\n",
        "print(\"Your name is {}.\".format(first))\n",
        "print(f\"Your last name is {last}.\")\n",
        "print(\"Next year you will be \" + str(age) + \" years old.\")"
      ],
      "execution_count": null,
      "outputs": []
    },
    {
      "cell_type": "markdown",
      "metadata": {
        "id": "MjA19RrIXj21"
      },
      "source": [
        "##Standard Output and String Formatting\n",
        "\n",
        "\n",
        "> The standard output is the output to the screen (the computer display). In Python, we use the built-in function print() to send data to the standard output, the screen.\n",
        "\n"
      ]
    },
    {
      "cell_type": "code",
      "metadata": {
        "id": "7yzN09alYZfL",
        "colab": {
          "base_uri": "https://localhost:8080/"
        },
        "outputId": "21636d4e-37eb-4752-faa6-d7bea23db02c"
      },
      "source": [
        "print ( 9.0)                # print a float\n",
        "print (\"A\", 2, 3 + 2J)      # print several objects\n",
        "print (\"Hello!\")            # print strings\n",
        "print (\"Alice!\")\n",
        "print (\"Hello,\", end = \" \") # suppress the default behavior (e.g. adding a newline to the end of the string)\n",
        "print (\"Alice!\")"
      ],
      "execution_count": null,
      "outputs": [
        {
          "output_type": "stream",
          "name": "stdout",
          "text": [
            "9.0\n",
            "A 2 (3+2j)\n",
            "Hello!\n",
            "Alice!\n",
            "Hello, Alice!\n"
          ]
        }
      ]
    },
    {
      "cell_type": "code",
      "metadata": {
        "id": "yoLz7RSzaNst"
      },
      "source": [
        "person, city = \"Sam\", \"Fresno\"\n",
        "print (\"{} lives in {}.\".format(person, city))            # using the method format() and default formatting\n",
        "print (\"{1} lives in {0}.\".format(city, person))            # using the method format and positional arguments\n",
        "print (\"{name} lives in {town}.\".format (town=\"Fresno\", name=\"Sam\")) # using the method format and keyword arguments\n",
        "print (f\"{person} lives in {city}.\")                        # using an f-string"
      ],
      "execution_count": null,
      "outputs": []
    },
    {
      "cell_type": "code",
      "metadata": {
        "id": "m0Sv8wKtctqK"
      },
      "source": [
        "# use a fix-point value (default is 6 decimals)\n",
        "price = \"{:.2f}\".format(6.991)\n",
        "print(\"It costs only {} dollars!\".format(price))\n",
        "\n",
        "# use \"<\" to left-align the value:\n",
        "print(\"It costs only {:<16} dollars!\".format(price))\n",
        "\n",
        "# use \">\" to right-align the value:\n",
        "print(\"It costs only {:>16} dollars!\".format(price))\n",
        "\n",
        "# use \"^\" to center-align the value:\n",
        "print(\"It costs only {:^16} dollars!\".format(price))\n",
        "\n",
        "# use \"e\" for scientific number format:\n",
        "print(\"It costs only {:e} dollars!\".format(9.657))"
      ],
      "execution_count": null,
      "outputs": []
    },
    {
      "cell_type": "markdown",
      "metadata": {
        "id": "ktW6K4OMLiNe"
      },
      "source": [
        "# Lecture 6 - Conditional Statements\n",
        "* Control Flow and Branching\n",
        "* Conditional Statements\n",
        "  * If Statements\n",
        "  * If-Else Statements\n",
        "  * Elif Statements\n",
        "  * Nested Conditional Statements\n"
      ]
    },
    {
      "cell_type": "markdown",
      "metadata": {
        "id": "avY6kBBZdzPd"
      },
      "source": [
        "###IF Statement\n",
        "\n",
        "\n",
        "> An if statement is used if we want to distinguish only one type of conditions from the rest.\n",
        "\n"
      ]
    },
    {
      "cell_type": "code",
      "metadata": {
        "id": "KLItWjIQd2Ct",
        "colab": {
          "base_uri": "https://localhost:8080/"
        },
        "outputId": "c0dbdd4c-687e-42da-ac2e-3d393931b46c"
      },
      "source": [
        "# mark even numbers with the label \"is even\"\n",
        "x = int ( input ( \"Please enter a number: \" ) )\n",
        "s = \"\"\n",
        "if  x%2 == 0  :\n",
        "    s = \"is even\"\n",
        "print (str(x) + \" \" + s)\n",
        "print(x, s)"
      ],
      "execution_count": null,
      "outputs": [
        {
          "output_type": "stream",
          "name": "stdout",
          "text": [
            "Please enter a number: 6\n",
            "6 is even\n",
            "6 is even\n"
          ]
        }
      ]
    },
    {
      "cell_type": "markdown",
      "metadata": {
        "id": "bo9WS6A-fHS2"
      },
      "source": [
        "###IF-ELSE Statement\n",
        "\n",
        "\n",
        "> An if-else statement is used when we need to distinguish two complementary conditions e.g. even and odd numbers, cold and hot, true and false, etc.\n",
        "\n"
      ]
    },
    {
      "cell_type": "code",
      "metadata": {
        "id": "gieY1nM0fGN4",
        "colab": {
          "base_uri": "https://localhost:8080/"
        },
        "outputId": "bf722e4e-422e-4215-ee75-622ff648fc0a"
      },
      "source": [
        "# mark even numbers with the label \"is even\"\n",
        "# and odd numbers with the label \"is odd\"\n",
        "x = int(input(\"Please enter a number: \"))\n",
        "s = \" \"\n",
        "if x%2 == 0:\n",
        "    s = \"is even\"\n",
        "else:\n",
        "    s = \"is odd\"\n",
        "print ( str(x) + \" \" + s)\n",
        "print (f'{x} {s}')\n",
        "print (x, s)"
      ],
      "execution_count": null,
      "outputs": [
        {
          "output_type": "stream",
          "name": "stdout",
          "text": [
            "Please enter a number: 7\n",
            "7 is odd\n",
            "7 is odd\n",
            "7 is odd\n"
          ]
        }
      ]
    },
    {
      "cell_type": "markdown",
      "metadata": {
        "id": "f7B0awH2hMUf"
      },
      "source": [
        "###ELIF Statement\n",
        "\n",
        "\n",
        "> An elif statement is used when we want to distinguish many not overlapping conditions e.g. positive and negative numbers and zero; cold, hot, and warm temperature; extra-large, large, medium, small, extra-small sizes; etc.\n",
        "\n"
      ]
    },
    {
      "cell_type": "code",
      "metadata": {
        "id": "gqw4vhAJh_B_",
        "colab": {
          "base_uri": "https://localhost:8080/"
        },
        "outputId": "16c7e08b-2133-4dcb-af89-3d04b7d4bdf9"
      },
      "source": [
        "# mark positive numbers with the label \"is positive\"\n",
        "# negative numbers with the label \"is negative\"\n",
        "# and zero with the label \"is zero\"\n",
        "\n",
        "x = int(input(\"Please enter a number: \"))\n",
        "s = \"\"\n",
        "if  x > 0:\n",
        "    s = \"is positive\"\n",
        "elif x < 0:\n",
        "    s = \"is negative\"\n",
        "else:\n",
        "    s = \"is zero\"\n",
        "print (str(x) + \" \" + s)"
      ],
      "execution_count": null,
      "outputs": [
        {
          "output_type": "stream",
          "name": "stdout",
          "text": [
            "Please enter a number: -9\n",
            "-9 is negative\n"
          ]
        }
      ]
    },
    {
      "cell_type": "code",
      "metadata": {
        "id": "HDX5hh-KjqBL",
        "colab": {
          "base_uri": "https://localhost:8080/"
        },
        "outputId": "fe317c61-f361-449b-ac2f-daeb636daaae"
      },
      "source": [
        "# characterize temperature  as hot, warm, or cold\n",
        "temp = float(input(\"Please enter temperature in Celsius:  \"))\n",
        "if temp > 40 :\n",
        "    print ( \"It is hot.\")\n",
        "elif temp < 20 :\n",
        "    print (\"It is cold.\")\n",
        "else:\n",
        "    print (\"It is warm.\")"
      ],
      "execution_count": null,
      "outputs": [
        {
          "output_type": "stream",
          "name": "stdout",
          "text": [
            "Please enter temperature in Celsius:  10\n",
            "It is cold.\n"
          ]
        }
      ]
    },
    {
      "cell_type": "code",
      "metadata": {
        "id": "w0PZPhanmv6A",
        "outputId": "de03b071-e3d6-4ee1-c0d8-af975aed142d",
        "colab": {
          "base_uri": "https://localhost:8080/"
        }
      },
      "source": [
        "# print the menu of food products and their prices\n",
        "choice = input (\"Please make a choice: \\n\\\n",
        "A - Apple juice\\n\\\n",
        "B - Banana\\n\\\n",
        "C - Candy bar\\n\\\n",
        "D - Donut\\n\").upper()\n",
        "if choice == 'A':\n",
        "    print (\"Your price is $1.99.\")\n",
        "elif choice == 'B':\n",
        "    print (\"Your price is $0.30.\")\n",
        "elif choice == 'C':\n",
        "    print (\"Your price is $0.99.\")\n",
        "elif choice == 'D':\n",
        "    print (\"Your price is $1.29.\")\n",
        "else :\n",
        "    print (\"You did not make the right choice.\")"
      ],
      "execution_count": null,
      "outputs": [
        {
          "output_type": "stream",
          "name": "stdout",
          "text": [
            "Please make a choice: \n",
            "A - Apple juice\n",
            "B - Banana\n",
            "C - Candy bar\n",
            "D - Donut\n",
            "D\n",
            "Your price is $1.29.\n"
          ]
        }
      ]
    },
    {
      "cell_type": "markdown",
      "source": [
        "###Nested IF Statement"
      ],
      "metadata": {
        "id": "auBnjy7DJBzN"
      }
    },
    {
      "cell_type": "code",
      "source": [
        "# check if a number in the range [1-25] is prime\n",
        "\n",
        "num = int(input('Please enter number [1-25]:  '))\n",
        "if (num == 2 or num%2 != 0):\n",
        "   if (num == 3 or num%3 != 0):\n",
        "      if (num == 5 or num%5 != 0) :\n",
        "          print ( f'{num} is prime.')\n",
        "print ('Bye!')\n"
      ],
      "metadata": {
        "id": "JKOzyDg0IvQL"
      },
      "execution_count": null,
      "outputs": []
    },
    {
      "cell_type": "markdown",
      "source": [
        "##Boolean Logic"
      ],
      "metadata": {
        "id": "wdqkAVopFQpg"
      }
    },
    {
      "cell_type": "markdown",
      "source": [
        "Boolean logic is based on using expressions that can be evaluated to TRUE or FALSE values. These Boolean expressions can be combined using three basic logical operators: AND, OR, and NOT."
      ],
      "metadata": {
        "id": "Xok47tqnFVAp"
      }
    },
    {
      "cell_type": "code",
      "source": [
        "A = 1 < 2 # A is a Boolean expression\n",
        "A"
      ],
      "metadata": {
        "colab": {
          "base_uri": "https://localhost:8080/"
        },
        "id": "9QJcT3sYGdKO",
        "outputId": "e2f6b885-f17e-499d-de95-cc6b9265d353"
      },
      "execution_count": null,
      "outputs": [
        {
          "output_type": "execute_result",
          "data": {
            "text/plain": [
              "True"
            ]
          },
          "metadata": {},
          "execution_count": 3
        }
      ]
    },
    {
      "cell_type": "code",
      "source": [
        "B = 2 != 5 # B is a Boolen expression\n",
        "B"
      ],
      "metadata": {
        "colab": {
          "base_uri": "https://localhost:8080/"
        },
        "id": "LSRC0bIXGknX",
        "outputId": "3a22defd-9a4e-4684-b6db-c2e3aef81272"
      },
      "execution_count": null,
      "outputs": [
        {
          "output_type": "execute_result",
          "data": {
            "text/plain": [
              "True"
            ]
          },
          "metadata": {},
          "execution_count": 4
        }
      ]
    },
    {
      "cell_type": "markdown",
      "source": [
        "NOT operator is a unary operator and reverses the value of a given expression."
      ],
      "metadata": {
        "id": "0AhJlV_UG3bX"
      }
    },
    {
      "cell_type": "code",
      "source": [
        "A = True\n",
        "not A"
      ],
      "metadata": {
        "colab": {
          "base_uri": "https://localhost:8080/"
        },
        "id": "MOz6aMtCHRiy",
        "outputId": "3f4ca8fd-fa9b-4436-a03f-d3a7a53fee9a"
      },
      "execution_count": null,
      "outputs": [
        {
          "output_type": "execute_result",
          "data": {
            "text/plain": [
              "False"
            ]
          },
          "metadata": {},
          "execution_count": 6
        }
      ]
    },
    {
      "cell_type": "code",
      "source": [
        "B = False\n",
        "not B"
      ],
      "metadata": {
        "colab": {
          "base_uri": "https://localhost:8080/"
        },
        "id": "NrSLw-SnHWBE",
        "outputId": "356a00d4-e46c-4761-fa23-010f68b53eb2"
      },
      "execution_count": null,
      "outputs": [
        {
          "output_type": "execute_result",
          "data": {
            "text/plain": [
              "True"
            ]
          },
          "metadata": {},
          "execution_count": 7
        }
      ]
    },
    {
      "cell_type": "markdown",
      "source": [
        "AND operator is a binary operator. It returns True if both operands are True."
      ],
      "metadata": {
        "id": "Bpw4gDzeHeH5"
      }
    },
    {
      "cell_type": "code",
      "source": [
        "A, B = True, False\n",
        "A and B"
      ],
      "metadata": {
        "colab": {
          "base_uri": "https://localhost:8080/"
        },
        "id": "eTJE3PUtH2wR",
        "outputId": "7691bb62-7978-481d-d497-45174acc0897"
      },
      "execution_count": null,
      "outputs": [
        {
          "output_type": "execute_result",
          "data": {
            "text/plain": [
              "False"
            ]
          },
          "metadata": {},
          "execution_count": 9
        }
      ]
    },
    {
      "cell_type": "markdown",
      "source": [
        "OR operator is a binary operator and returns True if at least one operand is True."
      ],
      "metadata": {
        "id": "Hz-YiLNeIMuT"
      }
    },
    {
      "cell_type": "code",
      "source": [
        "A, B = True, False\n",
        "A or B"
      ],
      "metadata": {
        "colab": {
          "base_uri": "https://localhost:8080/"
        },
        "id": "G3hIGVUPIYbf",
        "outputId": "ab07200f-2ca1-4e86-cebd-07686ee75c81"
      },
      "execution_count": null,
      "outputs": [
        {
          "output_type": "execute_result",
          "data": {
            "text/plain": [
              "True"
            ]
          },
          "metadata": {},
          "execution_count": 10
        }
      ]
    },
    {
      "cell_type": "markdown",
      "source": [
        "There are several rules used in Boolean Logic. Here are some of them:\n",
        "\n",
        "\n",
        "*   De Morgan's Rules:\n",
        "\n",
        "    not (A or B) == not A and not B\n",
        "\n",
        "    not (A and B) == not A or not B\n",
        "*   Distributive Rules:\n",
        "\n",
        "    (A and B) or C == (A or C) and (B or C)\n",
        "    \n",
        "    (A or B) and C == A and C or B and C\n",
        "\n",
        "\n"
      ],
      "metadata": {
        "id": "tV0jS4GmIn-D"
      }
    },
    {
      "cell_type": "code",
      "source": [
        "A, B = True, False\n",
        "not(A or B) == (not A) and (not B)"
      ],
      "metadata": {
        "colab": {
          "base_uri": "https://localhost:8080/"
        },
        "id": "oxs3G3SYKgim",
        "outputId": "e7b11a78-25c9-4609-b667-29d98730ee84"
      },
      "execution_count": null,
      "outputs": [
        {
          "output_type": "execute_result",
          "data": {
            "text/plain": [
              "True"
            ]
          },
          "metadata": {},
          "execution_count": 12
        }
      ]
    },
    {
      "cell_type": "code",
      "source": [
        "A, B, C = True, True, False\n",
        "(A and B) or C == (A or C) and (B or C)"
      ],
      "metadata": {
        "colab": {
          "base_uri": "https://localhost:8080/"
        },
        "id": "PjzE4jCRK4I-",
        "outputId": "55c9f89d-9253-4efe-b3de-0e02056fb9d7"
      },
      "execution_count": null,
      "outputs": [
        {
          "output_type": "execute_result",
          "data": {
            "text/plain": [
              "True"
            ]
          },
          "metadata": {},
          "execution_count": 13
        }
      ]
    },
    {
      "cell_type": "markdown",
      "metadata": {
        "id": "4bNB3s-JLp6B"
      },
      "source": [
        "# Lecture 7 - Loops\n",
        "* Control Flow and Repetitive Statements\n",
        "* For Loops and Range Function\n",
        "* While Loops\n",
        "* Break Statement\n",
        "* Continue Statement\n",
        "* Pass Statement\n",
        "* Nested Loops\n",
        "* Loop Comparison and Conversion\n",
        "\n"
      ]
    },
    {
      "cell_type": "markdown",
      "metadata": {
        "id": "Qy1vWyLHqrWV"
      },
      "source": [
        "##For Loop"
      ]
    },
    {
      "cell_type": "markdown",
      "source": [
        "A for loop is used for the following tasks:\n",
        "\n",
        "1.   Traverse items in a container such as a list, set, or array\n",
        "2.   Count"
      ],
      "metadata": {
        "id": "ceP01S6OVCdB"
      }
    },
    {
      "cell_type": "markdown",
      "source": [
        "In order to count, we need to generate numbers. This is achieved using a range function, a number generator."
      ],
      "metadata": {
        "id": "LE5cvaQNV5FG"
      }
    },
    {
      "cell_type": "markdown",
      "metadata": {
        "id": "eOgtamrds1HZ"
      },
      "source": [
        "##Range Function\n",
        "\n",
        "\n",
        "> A range function returns an iterator, a special structure that can be called repeatedly and return a number in the sequence that is defined by three values: start, stop, and step.\n",
        "\n"
      ]
    },
    {
      "cell_type": "code",
      "metadata": {
        "id": "rNL7I-wcuoY1",
        "colab": {
          "base_uri": "https://localhost:8080/"
        },
        "outputId": "769d5601-8629-49a0-f2c0-e6a10928bbe4"
      },
      "source": [
        "print(type(range(3)))\n",
        "print(range(3))\n",
        "print(list(range(3)))        # we can convert a range into a list to visualize the sequence\n",
        "print(list(range(0, 3, 1)))  # it is the same as the previous statement but has all three arguments\n",
        "print(list(range(1,3,1)))\n",
        "print(list(range(3,0,-1)))"
      ],
      "execution_count": null,
      "outputs": [
        {
          "output_type": "stream",
          "name": "stdout",
          "text": [
            "<class 'range'>\n",
            "range(0, 3)\n",
            "[0, 1, 2]\n",
            "[0, 1, 2]\n",
            "[1, 2]\n",
            "[3, 2, 1]\n"
          ]
        }
      ]
    },
    {
      "cell_type": "code",
      "metadata": {
        "id": "fbmMZni_qt-d",
        "colab": {
          "base_uri": "https://localhost:8080/"
        },
        "outputId": "8e04e74b-cff6-4925-d92a-a8c488252005"
      },
      "source": [
        "n = 5\n",
        "count = 1\n",
        "for k in range(1, n, 1):\n",
        "    print(k)\n",
        "    print(count)\n",
        "    print(\"wait...\")\n",
        "    count += 1\n",
        "print(k)\n",
        "print(count)\n",
        "print(\"Go!\")"
      ],
      "execution_count": null,
      "outputs": [
        {
          "output_type": "stream",
          "name": "stdout",
          "text": [
            "1\n",
            "1\n",
            "wait...\n",
            "2\n",
            "2\n",
            "wait...\n",
            "3\n",
            "3\n",
            "wait...\n",
            "4\n",
            "4\n",
            "wait...\n",
            "4\n",
            "5\n",
            "Go!\n"
          ]
        }
      ]
    },
    {
      "cell_type": "code",
      "source": [
        "import time\n",
        "\n",
        "n = 5\n",
        "for k in range(n, 0, -1):\n",
        "    print(k)\n",
        "    print(\"wait...\")\n",
        "    time.sleep(3)\n",
        "print(\"Go!\")"
      ],
      "metadata": {
        "colab": {
          "base_uri": "https://localhost:8080/"
        },
        "id": "-yGu62XsUkSC",
        "outputId": "5d266fc5-53b6-44cb-d1b4-67dde9e38431"
      },
      "execution_count": null,
      "outputs": [
        {
          "output_type": "stream",
          "name": "stdout",
          "text": [
            "5\n",
            "wait...\n",
            "4\n",
            "wait...\n",
            "3\n",
            "wait...\n",
            "2\n",
            "wait...\n",
            "1\n",
            "wait...\n",
            "Go!\n"
          ]
        }
      ]
    },
    {
      "cell_type": "code",
      "source": [
        "for i in range(1, 11):\n",
        "    if i == 10:\n",
        "        print(i)\n",
        "    else:\n",
        "        print(i, end = ', ')"
      ],
      "metadata": {
        "colab": {
          "base_uri": "https://localhost:8080/"
        },
        "id": "5qk7ojEHPDFv",
        "outputId": "283fdc0d-94f9-49ca-fc35-7fe72dd60374"
      },
      "execution_count": null,
      "outputs": [
        {
          "output_type": "stream",
          "name": "stdout",
          "text": [
            "1, 2, 3, 4, 5, 6, 7, 8, 9, 10\n"
          ]
        }
      ]
    },
    {
      "cell_type": "markdown",
      "metadata": {
        "id": "JU24QlnvsasZ"
      },
      "source": [
        "##ASCII Art"
      ]
    },
    {
      "cell_type": "code",
      "source": [
        "# print a horizontal line\n",
        "for i in range(10):\n",
        "    print('*', end='')"
      ],
      "metadata": {
        "colab": {
          "base_uri": "https://localhost:8080/"
        },
        "id": "zchiiCe6isyV",
        "outputId": "4c13adc3-1d04-4c22-9735-3f52ed969b3e"
      },
      "execution_count": null,
      "outputs": [
        {
          "output_type": "stream",
          "name": "stdout",
          "text": [
            "**********"
          ]
        }
      ]
    },
    {
      "cell_type": "code",
      "source": [
        "# print a rectangle made of lines\n",
        "h, w = 3, 5\n",
        "for i in range(h):\n",
        "    print('*' * w)"
      ],
      "metadata": {
        "colab": {
          "base_uri": "https://localhost:8080/"
        },
        "id": "siOCFpxMjNi2",
        "outputId": "6516ea47-b168-4ad0-ee21-bb0fb00b5fe6"
      },
      "execution_count": null,
      "outputs": [
        {
          "output_type": "stream",
          "name": "stdout",
          "text": [
            "*****\n",
            "*****\n",
            "*****\n"
          ]
        }
      ]
    },
    {
      "cell_type": "markdown",
      "source": [
        "##Nested For Loop"
      ],
      "metadata": {
        "id": "zbEA2Tz9XBqK"
      }
    },
    {
      "cell_type": "code",
      "source": [
        "h, w = 5, 15\n",
        "for i in range(h):\n",
        "    for j in range(w):\n",
        "        print('*', end='')\n",
        "    print()"
      ],
      "metadata": {
        "colab": {
          "base_uri": "https://localhost:8080/"
        },
        "id": "oWtu8ns6ktRc",
        "outputId": "e2eacc9b-eef5-430c-eb48-e818cc35e285"
      },
      "execution_count": null,
      "outputs": [
        {
          "output_type": "stream",
          "name": "stdout",
          "text": [
            "***************\n",
            "***************\n",
            "***************\n",
            "***************\n",
            "***************\n"
          ]
        }
      ]
    },
    {
      "cell_type": "code",
      "source": [
        "# print a triangle\n",
        "h = 5\n",
        "for i in range(1, h+1):\n",
        "    print('*' * i)"
      ],
      "metadata": {
        "colab": {
          "base_uri": "https://localhost:8080/"
        },
        "id": "ws7fwcGhkA7n",
        "outputId": "b21a18c5-dc7b-4845-cea5-7ff82a809af4"
      },
      "execution_count": null,
      "outputs": [
        {
          "output_type": "stream",
          "name": "stdout",
          "text": [
            "*\n",
            "**\n",
            "***\n",
            "****\n",
            "*****\n"
          ]
        }
      ]
    },
    {
      "cell_type": "code",
      "metadata": {
        "id": "bporHBYHsXzS",
        "colab": {
          "base_uri": "https://localhost:8080/"
        },
        "outputId": "45757ad4-bb49-4309-da8b-31b27ce42740"
      },
      "source": [
        "# create an ASCII art rectangle made of asterisks\n",
        "# using a nested for loop and print statements\n",
        "length = int(input(\"Enter the length:  \"))\n",
        "width  = int(input(\"Enter the width:  \"))\n",
        "\n",
        "for i in range (length) :\n",
        "     for j in range (width) :\n",
        "          print('*', end = '')\n",
        "     print()"
      ],
      "execution_count": null,
      "outputs": [
        {
          "output_type": "stream",
          "name": "stdout",
          "text": [
            "Enter the length:  10\n",
            "Enter the width:  5\n",
            "*****\n",
            "*****\n",
            "*****\n",
            "*****\n",
            "*****\n",
            "*****\n",
            "*****\n",
            "*****\n",
            "*****\n",
            "*****\n"
          ]
        }
      ]
    },
    {
      "cell_type": "code",
      "source": [
        "# create an ASCII art rectangle made of asterisks\n",
        "# using a string\n",
        "length = int(input(\"Enter the length:  \"))\n",
        "width  = int(input(\"Enter the width:  \"))\n",
        "s = ''\n",
        "for i in range (length) :\n",
        "     for j in range (width) :\n",
        "          s += '*'\n",
        "     s += '\\n'\n",
        "print(s)"
      ],
      "metadata": {
        "id": "r1dmTRj_13VU",
        "colab": {
          "base_uri": "https://localhost:8080/"
        },
        "outputId": "09930476-f663-499b-baa6-2b3702530a5d"
      },
      "execution_count": null,
      "outputs": [
        {
          "output_type": "stream",
          "name": "stdout",
          "text": [
            "Enter the length:  10\n",
            "Enter the width:  5\n",
            "*****\n",
            "*****\n",
            "*****\n",
            "*****\n",
            "*****\n",
            "*****\n",
            "*****\n",
            "*****\n",
            "*****\n",
            "*****\n",
            "\n"
          ]
        }
      ]
    },
    {
      "cell_type": "code",
      "source": [
        "# create a triangle made of asterisks\n",
        "# using a nested for loop\n",
        "height = int(input(\"Enter the triangle height:  \"))\n",
        "for i in range (height) :\n",
        "     for j in range (i+1) :\n",
        "          print('*', end = '')\n",
        "     print()"
      ],
      "metadata": {
        "id": "7JiTRdVn2Sse",
        "colab": {
          "base_uri": "https://localhost:8080/"
        },
        "outputId": "b9dff2d6-d27d-4d6a-b0c3-cce61b3d6963"
      },
      "execution_count": null,
      "outputs": [
        {
          "output_type": "stream",
          "name": "stdout",
          "text": [
            "Enter the triangle height:  10\n",
            "*\n",
            "**\n",
            "***\n",
            "****\n",
            "*****\n",
            "******\n",
            "*******\n",
            "********\n",
            "*********\n",
            "**********\n"
          ]
        }
      ]
    },
    {
      "cell_type": "code",
      "source": [
        "# create a triangle made of asterisks\n",
        "# without an inner for loop using a string repetition\n",
        "height = int(input(\"Enter the triangle height:  \"))\n",
        "for i in range (height) :\n",
        "    print('*' * (i+1))"
      ],
      "metadata": {
        "id": "D2ExXPcZ2-6v",
        "colab": {
          "base_uri": "https://localhost:8080/"
        },
        "outputId": "177a7834-1bb7-4c1c-8319-e0921de612c6"
      },
      "execution_count": null,
      "outputs": [
        {
          "output_type": "stream",
          "name": "stdout",
          "text": [
            "Enter the triangle height:  5\n",
            "*\n",
            "**\n",
            "***\n",
            "****\n",
            "*****\n"
          ]
        }
      ]
    },
    {
      "cell_type": "markdown",
      "source": [
        "##While Loops"
      ],
      "metadata": {
        "id": "bCtb6grmTeQA"
      }
    },
    {
      "cell_type": "code",
      "source": [
        "i = 1\n",
        "while i < 11:\n",
        "    print(i, end = ', ')\n",
        "    i += 1"
      ],
      "metadata": {
        "colab": {
          "base_uri": "https://localhost:8080/"
        },
        "id": "9KJopS7Tu2Ku",
        "outputId": "a3ee0d9c-752f-443c-eec8-30895e817a2d"
      },
      "execution_count": null,
      "outputs": [
        {
          "output_type": "stream",
          "name": "stdout",
          "text": [
            "1, 2, 3, 4, 5, 6, 7, 8, 9, 10, "
          ]
        }
      ]
    },
    {
      "cell_type": "code",
      "source": [
        "i = 10\n",
        "while i > 0:\n",
        "    print(i, end = ', ')\n",
        "    i -= 1"
      ],
      "metadata": {
        "colab": {
          "base_uri": "https://localhost:8080/"
        },
        "id": "wtN0jNVBwrq6",
        "outputId": "cdd831fb-9112-42b5-afe6-40b0f276b0dc"
      },
      "execution_count": null,
      "outputs": [
        {
          "output_type": "stream",
          "name": "stdout",
          "text": [
            "10, 9, 8, 7, 6, 5, 4, 3, 2, 1, "
          ]
        }
      ]
    },
    {
      "cell_type": "markdown",
      "source": [
        "###Adding numbers"
      ],
      "metadata": {
        "id": "osWor6hjixNR"
      }
    },
    {
      "cell_type": "code",
      "source": [
        "sum = 0\n",
        "while sum < 20:\n",
        "    sum += int(input('Enter a number: '))\n",
        "    print(sum)"
      ],
      "metadata": {
        "colab": {
          "base_uri": "https://localhost:8080/"
        },
        "id": "62AdaC42ilwJ",
        "outputId": "6ac39dcc-6002-4f66-f66b-9e25a7a3299d"
      },
      "execution_count": null,
      "outputs": [
        {
          "output_type": "stream",
          "name": "stdout",
          "text": [
            "Enter a number: 1\n",
            "1\n",
            "Enter a number: 4\n",
            "5\n",
            "Enter a number: 18\n",
            "23\n"
          ]
        }
      ]
    },
    {
      "cell_type": "markdown",
      "source": [
        "###Generating sequencing"
      ],
      "metadata": {
        "id": "F0kQSMOWi4El"
      }
    },
    {
      "cell_type": "code",
      "metadata": {
        "id": "oVq4nedEqj-E"
      },
      "source": [
        "# generate the geometric sequence from 1 to 128\n",
        "num = 1\n",
        "s = str(num)\n",
        "while num < 100  :\n",
        "    num *= 2      # generate 2, 4, 8, 16, 32, 64, 128\n",
        "    s += ' ' + str(num)\n",
        "print(s)\n",
        "print(\"Done!\")"
      ],
      "execution_count": null,
      "outputs": []
    },
    {
      "cell_type": "markdown",
      "source": [
        "###Finding prime numbers"
      ],
      "metadata": {
        "id": "Obbqb0qyjATi"
      }
    },
    {
      "cell_type": "code",
      "source": [
        "import math\n",
        "\n",
        "n = int(input('Enter the number:'))\n",
        "sqrt_n = math.floor(math.sqrt(n))\n",
        "\n",
        "for i in range(2, sqrt_n + 1):\n",
        "    if n % i == 0:\n",
        "        print(f'{n} is not a prime.')\n",
        "        break\n",
        "else:\n",
        "    print(f'{n} is a prime.')"
      ],
      "metadata": {
        "colab": {
          "base_uri": "https://localhost:8080/"
        },
        "id": "ISAxCIyMjErI",
        "outputId": "0ba74681-6419-4eaf-f237-a5f68516dec7"
      },
      "execution_count": null,
      "outputs": [
        {
          "output_type": "stream",
          "name": "stdout",
          "text": [
            "Enter the number:11\n",
            "11 is a prime.\n"
          ]
        }
      ]
    },
    {
      "cell_type": "markdown",
      "metadata": {
        "id": "5YFxWNfSnyON"
      },
      "source": [
        "##Nested While Loop"
      ]
    },
    {
      "cell_type": "markdown",
      "source": [
        "###Finding the average of numbers"
      ],
      "metadata": {
        "id": "guI_os7f491H"
      }
    },
    {
      "cell_type": "code",
      "metadata": {
        "id": "_6yOZxZMn23p",
        "colab": {
          "base_uri": "https://localhost:8080/"
        },
        "outputId": "ac84bf81-0279-46d3-d21f-40149e006510"
      },
      "source": [
        "over = False\n",
        "while not over :\n",
        "    sum_, i = 0.0, 0\n",
        "    sum_ += float(input(\"Enter your first number:  \"))\n",
        "    i += 1\n",
        "\n",
        "    while True :\n",
        "        num = float(input(\"Enter your next number or terminate with 0: \"))\n",
        "        if num != 0:\n",
        "            sum_ += num\n",
        "            i += 1\n",
        "            continue\n",
        "        else:\n",
        "            avg = sum_ / i\n",
        "            print ( f\"The average of numbers is {avg}.\" )\n",
        "            break\n",
        "\n",
        "    ans = input(\"Do you want to quit [Y/N]:  \").upper()\n",
        "    if ans == \"Y\":\n",
        "        over = True\n",
        "print('Goodbye!')"
      ],
      "execution_count": null,
      "outputs": [
        {
          "output_type": "stream",
          "name": "stdout",
          "text": [
            "Enter your first number:  3\n",
            "Enter your next number or terminate with 0: 6\n",
            "Enter your next number or terminate with 0: 0\n",
            "The average of numbers is 4.5.\n",
            "Do you want to quit [Y/N]:  n\n",
            "Enter your first number:  1\n",
            "Enter your next number or terminate with 0: 2\n",
            "Enter your next number or terminate with 0: 3\n",
            "Enter your next number or terminate with 0: 0\n",
            "The average of numbers is 2.0.\n",
            "Do you want to quit [Y/N]:  y\n",
            "Goodbye!\n"
          ]
        }
      ]
    },
    {
      "cell_type": "markdown",
      "source": [
        "##Break and Continue Statements"
      ],
      "metadata": {
        "id": "irBC3n9A5s9T"
      }
    },
    {
      "cell_type": "markdown",
      "source": [
        "###Generating a shopping program menu"
      ],
      "metadata": {
        "id": "KF1yBNB55GCb"
      }
    },
    {
      "cell_type": "code",
      "source": [
        "while True:\n",
        "    # print the menu of food products and their prices\n",
        "    choice = input (\"Please make a choice: \\n\\\n",
        "    1 - Apple juice\\n\\\n",
        "    2 - Banana\\n\\\n",
        "    3 - Quit the program\\n\").upper()\n",
        "    product = ''\n",
        "    price = 0\n",
        "    if choice == '1':\n",
        "        print (\"Your price is $1.99.\")\n",
        "    elif choice == '2':\n",
        "        print (\"Your price is $0.30.\")\n",
        "    elif choice == '3':\n",
        "        break\n",
        "    else :\n",
        "        print (\"You did not make the right choice.\")\n",
        "        continue\n",
        "    print('Thank you for buying the product.')\n",
        "print('Goodbye!')"
      ],
      "metadata": {
        "id": "f9v27AP25xWU"
      },
      "execution_count": null,
      "outputs": []
    },
    {
      "cell_type": "markdown",
      "metadata": {
        "id": "hINVxoQxLvgX"
      },
      "source": [
        "# Lecture 8 - Functions\n",
        "* Built-In Functions vs User-Defined Functions\n",
        "* Function Definitions and Function Calls\n",
        "* Function Parameters and Arguments\n",
        "* Scope of Variables\n",
        "* Void Functions and Return Statement\n"
      ]
    },
    {
      "cell_type": "markdown",
      "metadata": {
        "id": "drCBKUB6BNC_"
      },
      "source": [
        "A function is a control flow structure made of a block of statements that can be executed from anywhere in code through the calling procedure (function call). A function has a name (identifier) and parameters and returns a value.  \n",
        "\n",
        "To use a function, we need to call it from outside of the function definition (e.g. from the main or other functions). When we call a function, we need to provide values for its parameters unless the function does not require any input values. The input values are function arguments and placed inside of the parentheses that follow the function name.\n",
        "\n",
        "\n",
        "\n"
      ]
    },
    {
      "cell_type": "markdown",
      "metadata": {
        "id": "ZnwTwsOnc9o6"
      },
      "source": [
        "##Built-In Functions"
      ]
    },
    {
      "cell_type": "code",
      "metadata": {
        "id": "9HOSbhicBLkL",
        "colab": {
          "base_uri": "https://localhost:8080/"
        },
        "outputId": "c3379e53-2eb5-4bff-c457-6f851894a08a"
      },
      "source": [
        "print('Hello!') # print() is a built-in function that outputs 'Hello' to the screen; it returns None\n",
        "a = print('Hello!')\n",
        "print('The value of a is', a)\n",
        "b = input() # input() is a built-in function that returns a string corresponding to the keyboard key entries\n",
        "print('The value of b is', b)\n",
        "c = int('18')  # int() is also a built-in function that converts an input value into an integer\n",
        "print('The value of c is', c)"
      ],
      "execution_count": null,
      "outputs": [
        {
          "output_type": "stream",
          "name": "stdout",
          "text": [
            "Hello!\n",
            "Hello!\n",
            "The value of a is None\n",
            "Alice\n",
            "The value of b is Alice\n",
            "The value of c is 18\n"
          ]
        }
      ]
    },
    {
      "cell_type": "markdown",
      "source": [
        "##Function Arguments and Parameters"
      ],
      "metadata": {
        "id": "WnMLda-7vZN_"
      }
    },
    {
      "cell_type": "code",
      "source": [
        "print(list(range(10)))\n",
        "print(list(range(0, 10)))\n",
        "print(list(range(0, 10, 1)))"
      ],
      "metadata": {
        "colab": {
          "base_uri": "https://localhost:8080/"
        },
        "id": "BKZ96bz5nOvp",
        "outputId": "cb4c65a2-a8c0-4842-e919-8fce8ac478dd"
      },
      "execution_count": null,
      "outputs": [
        {
          "output_type": "stream",
          "name": "stdout",
          "text": [
            "[0, 1, 2, 3, 4, 5, 6, 7, 8, 9]\n",
            "[0, 1, 2, 3, 4, 5, 6, 7, 8, 9]\n",
            "[0, 1, 2, 3, 4, 5, 6, 7, 8, 9]\n"
          ]
        }
      ]
    },
    {
      "cell_type": "markdown",
      "metadata": {
        "id": "Z0cR6EfneZ_M"
      },
      "source": [
        "##User-Defined Functions"
      ]
    },
    {
      "cell_type": "code",
      "metadata": {
        "id": "3-rKeUkXgPBa",
        "colab": {
          "base_uri": "https://localhost:8080/"
        },
        "outputId": "297c962b-b779-4661-f094-86294d594393"
      },
      "source": [
        "# this is the function definition:\n",
        "def average (x, y=0) :\n",
        "    #print(x, y)\n",
        "    result = (x + y) / 2\n",
        "    return result\n",
        "\n",
        "# these are the function calls:\n",
        "if __name__ == '__main__':\n",
        "    a, b = 20, 30\n",
        "    num_avg = average (y=a, x=b)\n",
        "    #num_avg = average (a)\n",
        "    print(num_avg)\n"
      ],
      "execution_count": null,
      "outputs": [
        {
          "output_type": "stream",
          "name": "stdout",
          "text": [
            "25.0\n"
          ]
        }
      ]
    },
    {
      "cell_type": "code",
      "metadata": {
        "id": "CfsOFnfLg3JK",
        "colab": {
          "base_uri": "https://localhost:8080/"
        },
        "outputId": "abc26a9b-c21d-4bb7-c6ee-2afbd77ecff2"
      },
      "source": [
        "from datetime import *\n",
        "\n",
        "# function definition\n",
        "def greeting (name, birthday) :\n",
        "       print (f\"Hello, {name}!\")\n",
        "       d = date.today()\n",
        "       birthday = birthday.split('-')\n",
        "       if int(birthday[0]) == d.month and int(birthday[1]) == d.day:\n",
        "            print (\"Happy Birthday!\")\n",
        "\n",
        "# main\n",
        "name = input (\"Please enter your name:  \")\n",
        "birth = input (\"When is your birthday? [Use a mm-dd format]: \")\n",
        "# function call\n",
        "greeting (name, birth)"
      ],
      "execution_count": null,
      "outputs": [
        {
          "output_type": "stream",
          "name": "stdout",
          "text": [
            "Please enter your name:  Bob\n",
            "When is your birthday? [Use a mm-dd format]: 07-03\n",
            "Hello, Bob!\n",
            "Happy Birthday!\n"
          ]
        }
      ]
    },
    {
      "cell_type": "markdown",
      "source": [
        "##Variable Number of Arguments"
      ],
      "metadata": {
        "id": "YDXz5VZcn8zm"
      }
    },
    {
      "cell_type": "code",
      "metadata": {
        "id": "-QwuqmcCjwRK",
        "colab": {
          "base_uri": "https://localhost:8080/"
        },
        "outputId": "6dbdf7cb-cb33-4751-fd68-a2da11c2ff7a"
      },
      "source": [
        "# using *args\n",
        "def function1(*argv):\n",
        "    k = 0\n",
        "    for arg in argv:\n",
        "        k += 1\n",
        "        print(\"Argument\", k, \"is\", arg)\n",
        "\n",
        "def function2(**kwargs):\n",
        "    for key, value in kwargs.items():\n",
        "        print(\"The key\", key, \"has the value\", value)\n",
        "\n",
        "# main\n",
        "#function1('hello.py', 'ex1', 'ex2', 'ex3')\n",
        "\n",
        "function2(name=\"Chris\", major=\"Math\", age='19')"
      ],
      "execution_count": null,
      "outputs": [
        {
          "output_type": "stream",
          "name": "stdout",
          "text": [
            "The key name has the value Chris\n",
            "The key major has the value Math\n",
            "The key age has the value 19\n"
          ]
        }
      ]
    },
    {
      "cell_type": "markdown",
      "metadata": {
        "id": "BkBg-x0xlC90"
      },
      "source": [
        "##Variable and Function Scope"
      ]
    },
    {
      "cell_type": "markdown",
      "metadata": {
        "id": "X-Lnf5Jilv34"
      },
      "source": [
        "When we use a function, we create local variables that only 'live' inside the function and are not available outside the function. When the function returns its value, all its local variables are gone - they disappear from the memory!!! Global variables are variables that belong to the main function (main module). We usually do not use functions to modify global variables. If we need to do it, we use the keyword global in front of a global variable when we use it inside of another function.  "
      ]
    },
    {
      "cell_type": "code",
      "source": [
        "def fxn():\n",
        "    y = 3\n",
        "    print(f'x in the function: {x}')\n",
        "    print(f'y in the function: {y}')\n",
        "\n",
        "x, y = 2, 5\n",
        "fxn()\n",
        "print(f'x in the main: {x}')\n",
        "print(f'y in the main: {y}')"
      ],
      "metadata": {
        "colab": {
          "base_uri": "https://localhost:8080/"
        },
        "id": "rOv1mE-FolPP",
        "outputId": "87eaf705-c801-4289-9e5e-90141ba10d5e"
      },
      "execution_count": null,
      "outputs": [
        {
          "output_type": "stream",
          "name": "stdout",
          "text": [
            "x in the function: 2\n",
            "y in the function: 3\n",
            "x in the main: 2\n",
            "y in the main: 5\n"
          ]
        }
      ]
    },
    {
      "cell_type": "code",
      "metadata": {
        "id": "l-IDYTPgkzDY",
        "colab": {
          "base_uri": "https://localhost:8080/"
        },
        "outputId": "9930d4e6-0e44-418e-856c-43b050922705"
      },
      "source": [
        "var1 = 10 # global variable\n",
        "var2 = 5  # global variable\n",
        "def function1( ):\n",
        "    #print(var1)\n",
        "    var1 = 20   # local variable\n",
        "    print ('The value of var1 inside of the function1 is', var1)\n",
        "def function2 ( ):\n",
        "    global var2\n",
        "    var2 = 7\n",
        "    print ('The value of var2 inside of the function2 is', var2)\n",
        "\n",
        "function1 ()\n",
        "print ('The value of var1 outside of the function1 is', var1)\n",
        "function2 ()\n",
        "print ('The value of var2 outside of the function2 is', var2)\n"
      ],
      "execution_count": null,
      "outputs": [
        {
          "output_type": "stream",
          "name": "stdout",
          "text": [
            "10\n",
            "The value of var1 inside of the function1 is 10\n",
            "The value of var1 outside of the function1 is 10\n",
            "The value of var2 inside of the function2 is 7\n",
            "The value of var2 outside of the function2 is 7\n"
          ]
        }
      ]
    },
    {
      "cell_type": "code",
      "source": [
        "def fxn1 ():\n",
        "    print('Fxn 1')\n",
        "    def fnx3 ():\n",
        "         print('Fxn 3')\n",
        "    fnx3()\n",
        "\n",
        "def fxn2 ():\n",
        "    print('Fxn 2')\n",
        "    fxn1 ()\n",
        "    #fnx3 () # generates an error because fxn3 is defined locally\n",
        "\n",
        "fxn1 ()\n",
        "fxn2 ()\n",
        "fxn3 ()  # generates an error because fxn3 is defined locally"
      ],
      "metadata": {
        "id": "9qpSAxOh2NUr",
        "colab": {
          "base_uri": "https://localhost:8080/",
          "height": 263
        },
        "outputId": "43e7a35e-1b60-47ef-e3da-0905768627f1"
      },
      "execution_count": null,
      "outputs": [
        {
          "output_type": "stream",
          "name": "stdout",
          "text": [
            "Fxn 1\n",
            "Fxn 3\n",
            "Fxn 2\n",
            "Fxn 1\n",
            "Fxn 3\n"
          ]
        },
        {
          "output_type": "error",
          "ename": "NameError",
          "evalue": "name 'fxn3' is not defined",
          "traceback": [
            "\u001b[0;31m---------------------------------------------------------------------------\u001b[0m",
            "\u001b[0;31mNameError\u001b[0m                                 Traceback (most recent call last)",
            "\u001b[0;32m<ipython-input-19-60b283b204d0>\u001b[0m in \u001b[0;36m<cell line: 14>\u001b[0;34m()\u001b[0m\n\u001b[1;32m     12\u001b[0m \u001b[0mfxn1\u001b[0m \u001b[0;34m(\u001b[0m\u001b[0;34m)\u001b[0m\u001b[0;34m\u001b[0m\u001b[0;34m\u001b[0m\u001b[0m\n\u001b[1;32m     13\u001b[0m \u001b[0mfxn2\u001b[0m \u001b[0;34m(\u001b[0m\u001b[0;34m)\u001b[0m\u001b[0;34m\u001b[0m\u001b[0;34m\u001b[0m\u001b[0m\n\u001b[0;32m---> 14\u001b[0;31m \u001b[0mfxn3\u001b[0m \u001b[0;34m(\u001b[0m\u001b[0;34m)\u001b[0m  \u001b[0;31m# generates an error because fxn3 is defined locally\u001b[0m\u001b[0;34m\u001b[0m\u001b[0;34m\u001b[0m\u001b[0m\n\u001b[0m",
            "\u001b[0;31mNameError\u001b[0m: name 'fxn3' is not defined"
          ]
        }
      ]
    },
    {
      "cell_type": "markdown",
      "metadata": {
        "id": "v_7EeyT7L1Ir"
      },
      "source": [
        "# Lecture 9 - Strings\n",
        "* String Indexing and Slicing\n",
        "* String Functions and Methods\n",
        "  * Methods vs Functions\n",
        "  * String Functions\n",
        "  * String Methods\n",
        "* String Formatting\n",
        "* String Traversal\n",
        "* ASCII Codes and Unicode\n",
        "* Working with Strings\n",
        "  * Raw Strings\n",
        "  * Escape Sequences\n",
        "  * Regular Expressions\n"
      ]
    },
    {
      "cell_type": "markdown",
      "metadata": {
        "id": "Tt9HTdkno2kt"
      },
      "source": [
        "##String Indexing and Slicing"
      ]
    },
    {
      "cell_type": "code",
      "metadata": {
        "id": "gP6Yiu35o6qZ",
        "colab": {
          "base_uri": "https://localhost:8080/"
        },
        "outputId": "895dd0b2-5124-44f9-94cc-a1692827b288"
      },
      "source": [
        "python = 'PYTHON'\n",
        "print(python[0]) # outputs the first character\n",
        "print(python[-1]) # outputs the last character\n",
        "print(python[::-1]) # reverses the string\n",
        "print(python[0:2])  # makes a slice of first two characters\n",
        "print(python[3:5])\n",
        "print(python[1:6:2])\n",
        "print(python[::3])\n",
        "print(python[::-2])"
      ],
      "execution_count": null,
      "outputs": [
        {
          "output_type": "stream",
          "name": "stdout",
          "text": [
            "P\n",
            "N\n",
            "NOHTYP\n",
            "PY\n",
            "HO\n",
            "YHN\n",
            "PH\n",
            "NHY\n"
          ]
        }
      ]
    },
    {
      "cell_type": "markdown",
      "metadata": {
        "id": "RhxYTT-ZqhQw"
      },
      "source": [
        "##String Built-In Functions"
      ]
    },
    {
      "cell_type": "code",
      "metadata": {
        "id": "WVzO6_zXqlkF",
        "colab": {
          "base_uri": "https://localhost:8080/"
        },
        "outputId": "2fbc1f8b-3af6-4303-953d-d1fc9c048823"
      },
      "source": [
        "s = 'Alex'\n",
        "print(len(s)) # counts the number of characters in a string\n",
        "print(len('How are you?'))\n",
        "print(max(s)) # returns the character with the smallest ASCII code/unicode value\n",
        "print(min(s)) # returns the character with the largest ASCII code/unicode value\n",
        "print(sorted(s)) # returns the list of characters sorted by ASCII code/unicode values"
      ],
      "execution_count": null,
      "outputs": [
        {
          "output_type": "stream",
          "name": "stdout",
          "text": [
            "4\n",
            "12\n",
            "x\n",
            "A\n",
            "['A', 'e', 'l', 'x']\n"
          ]
        }
      ]
    },
    {
      "cell_type": "markdown",
      "metadata": {
        "id": "bLv5rIrysL8c"
      },
      "source": [
        "##String Methods"
      ]
    },
    {
      "cell_type": "code",
      "metadata": {
        "id": "39UDLtUlsKho",
        "colab": {
          "base_uri": "https://localhost:8080/"
        },
        "outputId": "2482d58a-b543-454c-808f-a169b1abb7e1"
      },
      "source": [
        "# using the split() method\n",
        "s1 = 'a:::b:::c'.split(':::')\n",
        "print(s1)\n",
        "s2 = \"I know it.\".split()\n",
        "print(s2)\n",
        "s3 = '01/31/2022'.split('/')\n",
        "print(s3)"
      ],
      "execution_count": null,
      "outputs": [
        {
          "output_type": "stream",
          "name": "stdout",
          "text": [
            "['a', 'b', 'c']\n",
            "['I', 'know', 'it.']\n",
            "['01', '31', '2022']\n"
          ]
        }
      ]
    },
    {
      "cell_type": "code",
      "metadata": {
        "id": "7Rb4wf1ds1oa",
        "colab": {
          "base_uri": "https://localhost:8080/"
        },
        "outputId": "954e6507-b7f1-4e3d-de69-49ed4da9e7dc"
      },
      "source": [
        "# using the joint method\n",
        "s1 = '/'.join(['1','31', '2022'])\n",
        "print(s1)\n",
        "s2 = ' '.join( ['I', 'know', 'it.'] )\n",
        "print(s2)"
      ],
      "execution_count": null,
      "outputs": [
        {
          "output_type": "stream",
          "name": "stdout",
          "text": [
            "1/31/2022\n",
            "I know it.\n"
          ]
        }
      ]
    },
    {
      "cell_type": "code",
      "metadata": {
        "id": "nmPkb8rrujz9",
        "colab": {
          "base_uri": "https://localhost:8080/"
        },
        "outputId": "dab07b90-c68e-4fbb-8d2c-49013fc8eafa"
      },
      "source": [
        "s='python3'\n",
        "print(s)\n",
        "print(s.upper()) # makes all letters uppercase\n",
        "print(s.capitalize()) # capitalizes the word\n",
        "print(s.isalpha()) # checks if the first character is a letter\n",
        "print(s[-1].isdigit()) # checks if the fouth character is a digit\n",
        "print(s.find('y'))    # returns the index of 'y'\n",
        "print(s.replace('pyth', 'wag')) # substitutes 'pyth' with 'wag'"
      ],
      "execution_count": null,
      "outputs": [
        {
          "output_type": "stream",
          "name": "stdout",
          "text": [
            "python3\n",
            "PYTHON3\n",
            "Python3\n",
            "False\n",
            "True\n",
            "1\n",
            "wagon3\n"
          ]
        }
      ]
    },
    {
      "cell_type": "markdown",
      "metadata": {
        "id": "0GSij6AGtwOf"
      },
      "source": [
        "##String Traversal"
      ]
    },
    {
      "cell_type": "code",
      "metadata": {
        "id": "6CneE9jbtW8r",
        "colab": {
          "base_uri": "https://localhost:8080/"
        },
        "outputId": "0b65fe27-c478-4809-8658-fdfa76b89d01"
      },
      "source": [
        "word = 'knowledge'\n",
        "index = 0\n",
        "for i in range(len(word)):\n",
        "      print (word[i] + ' ' + str(i), end = '')"
      ],
      "execution_count": null,
      "outputs": [
        {
          "output_type": "stream",
          "name": "stdout",
          "text": [
            "k 0n 1o 2w 3l 4e 5d 6g 7e 8"
          ]
        }
      ]
    },
    {
      "cell_type": "markdown",
      "source": [
        "##Counting String Characters"
      ],
      "metadata": {
        "id": "GCMte52YbRAv"
      }
    },
    {
      "cell_type": "code",
      "source": [
        "word = input ('Enter a word: ')\n",
        "count = 0\n",
        "for char in word:\n",
        "    if char == 'l':\n",
        "        print(f'The character \\'{char}\\' is found!')\n",
        "        count += 1\n",
        "print(count)\n"
      ],
      "metadata": {
        "id": "Oghgh9t3bnsx",
        "colab": {
          "base_uri": "https://localhost:8080/"
        },
        "outputId": "1561edfa-0ce1-4877-e0fa-d8dcfe4898de"
      },
      "execution_count": null,
      "outputs": [
        {
          "output_type": "stream",
          "name": "stdout",
          "text": [
            "Enter a word: look\n",
            "The character 'l' is found!\n",
            "1\n"
          ]
        }
      ]
    },
    {
      "cell_type": "code",
      "source": [
        "word = input ('Enter a word: ')\n",
        "index1 = word.find('a', 0)\n",
        "print(index1)\n",
        "index2 = word.find('a', index1+1)\n",
        "print(index2)"
      ],
      "metadata": {
        "colab": {
          "base_uri": "https://localhost:8080/"
        },
        "id": "yez4_pXtcaWh",
        "outputId": "2037bb49-b902-4478-f08f-a08c62f8c3db"
      },
      "execution_count": null,
      "outputs": [
        {
          "output_type": "stream",
          "name": "stdout",
          "text": [
            "Enter a word: alabama\n",
            "0\n",
            "2\n"
          ]
        }
      ]
    },
    {
      "cell_type": "code",
      "source": [
        "word = input ('Enter a word: ')\n",
        "print(word.count('a'))"
      ],
      "metadata": {
        "id": "VYk4sXqNdCBE",
        "colab": {
          "base_uri": "https://localhost:8080/"
        },
        "outputId": "b10b06da-4936-438e-ee66-83a5c11478b1"
      },
      "execution_count": null,
      "outputs": [
        {
          "output_type": "stream",
          "name": "stdout",
          "text": [
            "Enter a word: alabama\n",
            "4\n"
          ]
        }
      ]
    },
    {
      "cell_type": "markdown",
      "metadata": {
        "id": "edNt55KVwwyo"
      },
      "source": [
        "##Unicode and ASCII Codes"
      ]
    },
    {
      "cell_type": "code",
      "source": [
        "for char in 'python':\n",
        "    print (char, ord(char))"
      ],
      "metadata": {
        "colab": {
          "base_uri": "https://localhost:8080/"
        },
        "id": "LbZy9OOu6jOW",
        "outputId": "dbb4bedd-3760-4406-c692-415b7849708c"
      },
      "execution_count": null,
      "outputs": [
        {
          "output_type": "stream",
          "name": "stdout",
          "text": [
            "p 112\n",
            "y 121\n",
            "t 116\n",
            "h 104\n",
            "o 111\n",
            "n 110\n"
          ]
        }
      ]
    },
    {
      "cell_type": "code",
      "metadata": {
        "id": "OimaW-VLw1N6",
        "colab": {
          "base_uri": "https://localhost:8080/"
        },
        "outputId": "6c03cf3d-4f0b-4cd3-c577-5e0f2854013c"
      },
      "source": [
        "# print ASCII characters in range 0-255\n",
        "for i in range (50, 100) :\n",
        "    print (str(i) + ' ' + chr(i))"
      ],
      "execution_count": null,
      "outputs": [
        {
          "output_type": "stream",
          "name": "stdout",
          "text": [
            "50 2\n",
            "51 3\n",
            "52 4\n",
            "53 5\n",
            "54 6\n",
            "55 7\n",
            "56 8\n",
            "57 9\n",
            "58 :\n",
            "59 ;\n",
            "60 <\n",
            "61 =\n",
            "62 >\n",
            "63 ?\n",
            "64 @\n",
            "65 A\n",
            "66 B\n",
            "67 C\n",
            "68 D\n",
            "69 E\n",
            "70 F\n",
            "71 G\n",
            "72 H\n",
            "73 I\n",
            "74 J\n",
            "75 K\n",
            "76 L\n",
            "77 M\n",
            "78 N\n",
            "79 O\n",
            "80 P\n",
            "81 Q\n",
            "82 R\n",
            "83 S\n",
            "84 T\n",
            "85 U\n",
            "86 V\n",
            "87 W\n",
            "88 X\n",
            "89 Y\n",
            "90 Z\n",
            "91 [\n",
            "92 \\\n",
            "93 ]\n",
            "94 ^\n",
            "95 _\n",
            "96 `\n",
            "97 a\n",
            "98 b\n",
            "99 c\n"
          ]
        }
      ]
    },
    {
      "cell_type": "code",
      "metadata": {
        "id": "FVXwgdXuxepx",
        "colab": {
          "base_uri": "https://localhost:8080/"
        },
        "outputId": "1c7ea97e-55fd-4438-8a9c-6a924faf078c"
      },
      "source": [
        "print(chr(36)) # converts an ASCII code into a character\n",
        "print(ord('$')) # converts a character into an ASCII code/unicode\n",
        "print('\\u03B1') # prints a character (Greek alpha) corresponding to the unicode (\\u + hex)\n",
        "print(\"\\u2764\\uFE0F\")"
      ],
      "execution_count": null,
      "outputs": [
        {
          "output_type": "stream",
          "name": "stdout",
          "text": [
            "$\n",
            "36\n",
            "α\n",
            "❤️\n"
          ]
        }
      ]
    },
    {
      "cell_type": "code",
      "source": [
        "code = '0x03B1'\n",
        "print(int(code, 16))"
      ],
      "metadata": {
        "colab": {
          "base_uri": "https://localhost:8080/"
        },
        "id": "lx74E9HE7q2h",
        "outputId": "e3fd4b3e-9d32-4f0f-d220-d08c933a6be8"
      },
      "execution_count": null,
      "outputs": [
        {
          "output_type": "stream",
          "name": "stdout",
          "text": [
            "945\n"
          ]
        }
      ]
    },
    {
      "cell_type": "code",
      "metadata": {
        "id": "7L-l8S_Hyqkp",
        "colab": {
          "base_uri": "https://localhost:8080/"
        },
        "outputId": "925cc365-7a9f-45ee-ff48-cec16f9d211a"
      },
      "source": [
        "s = 'hello'\n",
        "bytes_ = s.encode('UTF-8')\n",
        "print(type(bytes_), bytes_)\n",
        "letters = bytes_.decode('UTF-8')\n",
        "print(type(letters), letters)"
      ],
      "execution_count": null,
      "outputs": [
        {
          "output_type": "stream",
          "name": "stdout",
          "text": [
            "<class 'bytes'> b'hello'\n",
            "<class 'str'> hello\n"
          ]
        }
      ]
    },
    {
      "cell_type": "markdown",
      "source": [
        "##String Comparison\n",
        "\n",
        "Strings are compared character by character accordingly to their numeric code (Unicode: UTF-8, UTF-16, or UTF-32). For example, '10' is lesser than '2' because the first character '1' of the string '10' is lesser than the first charter '2' of the string '2'. In general, you cannot compare sequences of digits in the same way as we compare numbers, integers and floats. However, you can make it to work, if you use the leading '0's. For example, '02' is lesser than '10'."
      ],
      "metadata": {
        "id": "r5P8jccbJdGw"
      }
    },
    {
      "cell_type": "code",
      "source": [
        "a = '1'\n",
        "b = '10'\n",
        "c = '2'\n",
        "print(a > b)\n",
        "print(int(a) > int(b))\n",
        "print(b > c)\n",
        "print(int(b) > int(c))"
      ],
      "metadata": {
        "colab": {
          "base_uri": "https://localhost:8080/"
        },
        "id": "cB4EYVp7iuFD",
        "outputId": "cff5e6d1-34b1-40bf-fae8-573567b2da67"
      },
      "execution_count": null,
      "outputs": [
        {
          "output_type": "stream",
          "name": "stdout",
          "text": [
            "False\n",
            "False\n",
            "False\n",
            "True\n"
          ]
        }
      ]
    },
    {
      "cell_type": "markdown",
      "metadata": {
        "id": "GpzGctgvv80q"
      },
      "source": [
        "##Raw Strings and Escape Sequences"
      ]
    },
    {
      "cell_type": "code",
      "source": [
        "# using an escape character, a backslash\n",
        "person = 'Sam'\n",
        "print(f'{person} ..................\\\n",
        "hello')"
      ],
      "metadata": {
        "id": "hoj4xOFFJxc1",
        "colab": {
          "base_uri": "https://localhost:8080/"
        },
        "outputId": "8515b43d-f864-4cca-e829-d00049151c5d"
      },
      "execution_count": null,
      "outputs": [
        {
          "output_type": "stream",
          "name": "stdout",
          "text": [
            "Sam ..................hello\n"
          ]
        }
      ]
    },
    {
      "cell_type": "code",
      "metadata": {
        "id": "r9z3Vx-Z0zxd",
        "colab": {
          "base_uri": "https://localhost:8080/"
        },
        "outputId": "7c177d53-4390-41aa-d35a-7a5c514ddc46"
      },
      "source": [
        "print (\"First Line\\nSecond Line\\n\")  # this is a string\n",
        "print (r\"First Line\\nSecond Line\\n\") # this is a raw string"
      ],
      "execution_count": null,
      "outputs": [
        {
          "output_type": "stream",
          "name": "stdout",
          "text": [
            "First Line\n",
            "Second Line\n",
            "\n",
            "First Line\\nSecond Line\\n\n"
          ]
        }
      ]
    },
    {
      "cell_type": "code",
      "metadata": {
        "id": "NyxoBJ9VwAiC",
        "colab": {
          "base_uri": "https://localhost:8080/"
        },
        "outputId": "c5f9ad87-8a1c-4f32-f207-a1c1a497c25f"
      },
      "source": [
        "# print statements with escape sequences\n",
        "print ('First Line\\nSecond Line')\n",
        "print ('price\\t$4.99')\n",
        "print ('It will be erased\\r okay')\n",
        "print ('dogz\\bs')\n",
        "\n",
        "# escape the special meaning of special characters\n",
        "print ('a backslash \\\\')\n",
        "print (\"a double quote \\\"yes\\\" \")"
      ],
      "execution_count": null,
      "outputs": [
        {
          "output_type": "stream",
          "name": "stdout",
          "text": [
            "First Line\n",
            "Second Line\n",
            "price\t$4.99\n",
            "It will be erased\r okay\n",
            "dogz\bs\n",
            "a backslash \\\n",
            "a double quote \"yes\" \n"
          ]
        }
      ]
    },
    {
      "cell_type": "markdown",
      "metadata": {
        "id": "a-gH9eEa0lbF"
      },
      "source": [
        "##Regular Expressions"
      ]
    },
    {
      "cell_type": "markdown",
      "source": [
        "Regular expessions (***RE*** or ***regex***) are used to search strings for patterns. A **pattern** can be a string that is composed of specified characters.\n",
        "\n",
        "For example, a pattern is a string made of digits. In regex, we can define it as '\\d+' where '\\d' is a digit (0, 1, 2, ..., 9) and '+' is a repetition operator, so '\\d' can be repeated several times (once or more). We can use this pattern to find numbers (integers) within text.\n",
        "\n",
        "Another pattern is a word (in computer science, a word is a combination of letters, digits, and underscores). In regex, we can define a word as '\\w+', where '\\w' is a character from a set composed of all letters, digits, and underscore and '+' is a repetition operator, so '\\w' can be repeated several times (once or more). We can use this pattern to find words within text.\n",
        "\n",
        "A **regular expression** is an expression composed of special symbols (\\d, \\W, \\w, etc.) and string characters (*, ., +, *, A, 1, -, etc.) that is used for generating strings that belong to a regular language. A regular expression is handled by a finite automaton (a state machine) that can be implemented in code. Usage of finite automata for searching string patterns is very fast and efficient."
      ],
      "metadata": {
        "id": "lfMpKtTY0CWh"
      }
    },
    {
      "cell_type": "code",
      "metadata": {
        "id": "Q6nEDpC72ZbM",
        "colab": {
          "base_uri": "https://localhost:8080/"
        },
        "outputId": "f00d583a-c489-4ead-be34-46ea72c9452a"
      },
      "source": [
        "import re\n",
        "pattern = re.compile(r'\\d+') # finds numbers in the text\n",
        "matches = pattern.findall('5005 students and 234 teachers')\n",
        "print(matches)"
      ],
      "execution_count": null,
      "outputs": [
        {
          "output_type": "stream",
          "name": "stdout",
          "text": [
            "['5005', '234']\n"
          ]
        }
      ]
    },
    {
      "cell_type": "code",
      "metadata": {
        "id": "LIdTwu2e2221",
        "colab": {
          "base_uri": "https://localhost:8080/"
        },
        "outputId": "7692cea3-764f-413e-c08b-0c825bf52547"
      },
      "source": [
        "import re\n",
        "text = 'Hello, 007! First Line.\\nSecond Line\\nThird Line.'\n",
        "#print(text)\n",
        "pattern = re.compile(r'\\w+') # finds words in the text\n",
        "matches = pattern.findall(text)\n",
        "print(matches)"
      ],
      "execution_count": null,
      "outputs": [
        {
          "output_type": "stream",
          "name": "stdout",
          "text": [
            "['Hello', '007', 'First', 'Line', 'Second', 'Line', 'Third', 'Line']\n"
          ]
        }
      ]
    },
    {
      "cell_type": "code",
      "metadata": {
        "id": "9qluZ5QA8Uxb",
        "colab": {
          "base_uri": "https://localhost:8080/"
        },
        "outputId": "3d691f67-d338-4669-f2f2-5e208fa47164"
      },
      "source": [
        "# validating identifiers\n",
        "import re\n",
        "pattern = re.compile ( r'^[A-Za-z_]\\w*$' )\n",
        "\n",
        "identifier = input(\"Enter an identifier: \")\n",
        "match = pattern.search(identifier)\n",
        "if match :\n",
        "           print(\"It is a valid identifier.\")\n",
        "else :\n",
        "           print(\"It is not a valid identifier.\")\n"
      ],
      "execution_count": null,
      "outputs": [
        {
          "output_type": "stream",
          "name": "stdout",
          "text": [
            "Enter an identifier: a234\n",
            "It is a valid identifier.\n"
          ]
        }
      ]
    },
    {
      "cell_type": "code",
      "metadata": {
        "id": "Sufh3LEg81wq",
        "colab": {
          "base_uri": "https://localhost:8080/"
        },
        "outputId": "7e4fdd8e-f8b8-4f15-8937-04813b834cbf"
      },
      "source": [
        "# verifying a valid password\n",
        "import re\n",
        "p_upper = re.compile(r'[A-Z]')\n",
        "p_lower = re.compile(r'[a-z]')\n",
        "p_digit = re.compile(r'[0-9]')\n",
        "p_symbol = re.compile(r'[@#$%&?! ]')\n",
        "while True :\n",
        "    password = input(\"Enter a password: \")\n",
        "    m_lower = p_lower.search(password)\n",
        "    m_upper = p_upper.search(password)\n",
        "    m_digit = p_digit.search(password)\n",
        "    m_symbol = p_symbol.search(password)\n",
        "\n",
        "    if not m_lower :\n",
        "        print (\"You need to use a lowercase letter.\")\n",
        "        continue\n",
        "    if not m_upper :\n",
        "        print (\"You need to use an uppercase letter.\")\n",
        "        continue\n",
        "    if not m_digit :\n",
        "        print (\"You need to use a digit.\")\n",
        "        continue\n",
        "    if not m_symbol :\n",
        "        print (\"You need to use a special character.\")\n",
        "        continue\n",
        "    break"
      ],
      "execution_count": null,
      "outputs": [
        {
          "name": "stdout",
          "output_type": "stream",
          "text": [
            "Enter a password: adr$\n",
            "You need to use an uppercase letter.\n",
            "Enter a password: Asdr3\n",
            "You need to use a special character.\n",
            "Enter a password: Asd#4\n"
          ]
        }
      ]
    },
    {
      "cell_type": "code",
      "metadata": {
        "id": "Sce-xuAN-z5g",
        "colab": {
          "base_uri": "https://localhost:8080/"
        },
        "outputId": "c3b671bf-be49-4689-c828-4ab23506cfb2"
      },
      "source": [
        "# finding phone numbers in text\n",
        "import re\n",
        "p = re.compile(r'\\(?\\d{3}\\)?-?\\d{3}-?\\d{4}')\n",
        "while True :\n",
        "    text = input(\"Enter text with phone numbers: \")\n",
        "    m1 = p.search(text)\n",
        "    if m1 :\n",
        "        print (\"Search group: \", m1.group())\n",
        "    else :\n",
        "        print (\"Search: no number\")\n",
        "        continue\n",
        "    m2 = p.findall(text)\n",
        "    print (\"Findall: \", m2)\n",
        "    for m in m2 :\n",
        "        print (\"Findall group: \", m)\n",
        "    m3 = p.match(text)\n",
        "    if m3 :\n",
        "        print (\"Match: \", m3.group())\n",
        "    else :\n",
        "        print (\"Match: no match\")\n",
        "    break"
      ],
      "execution_count": null,
      "outputs": [
        {
          "output_type": "stream",
          "name": "stdout",
          "text": [
            "Enter text with phone numbers: my number is (123)123-1234\n",
            "Search group:  (123)123-1234\n",
            "Findall:  ['(123)123-1234']\n",
            "Findall group:  (123)123-1234\n",
            "Match: no match\n"
          ]
        }
      ]
    },
    {
      "cell_type": "markdown",
      "metadata": {
        "id": "vKpnYbIJL9s7"
      },
      "source": [
        "# Lecture 10 - Lists\n",
        "* List Definition\n",
        "* List Traversal\n",
        "* List Slicing\n",
        "* List Functions\n",
        "* List Methods\n",
        "* Nested Lists\n"
      ]
    },
    {
      "cell_type": "markdown",
      "metadata": {
        "id": "7hdRv6lyh98O"
      },
      "source": [
        "A list is an ordered data collection that contains items of the same or mixed data types."
      ]
    },
    {
      "cell_type": "code",
      "metadata": {
        "colab": {
          "base_uri": "https://localhost:8080/"
        },
        "id": "NeWzgreCiQ_X",
        "outputId": "c2caa935-7b9c-4a66-bb68-1f5136c4b752"
      },
      "source": [
        "classes = ['English', 'Math', 'Biology', 'Chemistry',  'Latin']\n",
        "print(classes)\n",
        "sports = ['baseball', 'soccer', 'football', 'basketball', 'tennis']\n",
        "print(sports)"
      ],
      "execution_count": null,
      "outputs": [
        {
          "output_type": "stream",
          "name": "stdout",
          "text": [
            "['English', 'Math', 'Biology', 'Chemistry', 'Latin']\n",
            "['baseball', 'soccer', 'football', 'basketball', 'tennis']\n"
          ]
        }
      ]
    },
    {
      "cell_type": "code",
      "metadata": {
        "id": "LkhGWL1PkwR6",
        "colab": {
          "base_uri": "https://localhost:8080/"
        },
        "outputId": "7b1fdf41-23da-4ed3-d7bd-957889fc4e39"
      },
      "source": [
        "favorites = ['dog', 'cat', 5, True, 'Summer 2002', 'A+', [1, 2, 3] ]\n",
        "print(favorites)\n",
        "person = ['Alec', 1998, 'May', 25, 'San Francisco', 'CA', 95034 ]\n",
        "print(person)"
      ],
      "execution_count": null,
      "outputs": [
        {
          "output_type": "stream",
          "name": "stdout",
          "text": [
            "['dog', 'cat', 5, True, 'Summer 2002', 'A+', [1, 2, 3]]\n",
            "['Alec', 1998, 'May', 25, 'San Francisco', 'CA', 95034]\n"
          ]
        }
      ]
    },
    {
      "cell_type": "code",
      "metadata": {
        "id": "JmgsVulAk0Up",
        "colab": {
          "base_uri": "https://localhost:8080/"
        },
        "outputId": "1ea3c3d1-7404-4e6a-a50d-9c3816ac9b7d"
      },
      "source": [
        "mylist = [ ]    # make an empty list\n",
        "print(mylist)\n",
        "items = list()  # make another empty list\n",
        "print(items)"
      ],
      "execution_count": null,
      "outputs": [
        {
          "output_type": "stream",
          "name": "stdout",
          "text": [
            "[]\n",
            "[]\n"
          ]
        }
      ]
    },
    {
      "cell_type": "code",
      "metadata": {
        "id": "0rHc1RCPk5OM",
        "colab": {
          "base_uri": "https://localhost:8080/"
        },
        "outputId": "672266ab-c908-4879-fd64-0ca2f2ac7cb8"
      },
      "source": [
        "spell_list = list('Tennessee') # make a list from a sequence of characters (a string)\n",
        "print(spell_list)"
      ],
      "execution_count": null,
      "outputs": [
        {
          "output_type": "stream",
          "name": "stdout",
          "text": [
            "['T', 'e', 'n', 'n', 'e', 's', 's', 'e', 'e']\n"
          ]
        }
      ]
    },
    {
      "cell_type": "markdown",
      "metadata": {
        "id": "OUP8kMNBkNdJ"
      },
      "source": [
        "##List Traversal"
      ]
    },
    {
      "cell_type": "code",
      "metadata": {
        "id": "8Uc-8Fh7kSCo",
        "colab": {
          "base_uri": "https://localhost:8080/"
        },
        "outputId": "cdfd4ffd-0d7e-42bb-b2b1-eb0b49b1147b"
      },
      "source": [
        "# traverse a list\n",
        "arts = [ 'Painting', 'Sculpturing', 'Architecture',  'Literature', 'Music', 'Theater']\n",
        "for item in arts :\n",
        "    print (item)"
      ],
      "execution_count": null,
      "outputs": [
        {
          "output_type": "stream",
          "name": "stdout",
          "text": [
            "Painting\n",
            "Sculpturing\n",
            "Architecture\n",
            "Literature\n",
            "Music\n",
            "Theater\n"
          ]
        }
      ]
    },
    {
      "cell_type": "markdown",
      "metadata": {
        "id": "Dr3hh7yBlHro"
      },
      "source": [
        "##Modifying a List"
      ]
    },
    {
      "cell_type": "code",
      "metadata": {
        "colab": {
          "base_uri": "https://localhost:8080/"
        },
        "id": "ctetJXYIlOzX",
        "outputId": "a6d9493a-08b0-4a63-920f-f1198b8e8211"
      },
      "source": [
        "# modify items in a list\n",
        "genres =  ['Action', 'Mystery', 'Fantasy', 'Romance', 'Drama']\n",
        "for i in range (len(genres)) :\n",
        "    genres[i] = genres[i].lower() # changes all letters in each word to lowercase letters\n",
        "print (genres)\n",
        "genres[0] = 'adventure' # changes the value of the first item from 'action' to 'adventure'\n",
        "genres[2] = 'sci-fi'    # changes the value of the third item from 'fantasy' to 'sci-fi'\n",
        "print (genres)"
      ],
      "execution_count": null,
      "outputs": [
        {
          "output_type": "stream",
          "name": "stdout",
          "text": [
            "['action', 'mystery', 'fantasy', 'romance', 'drama']\n",
            "['adventure', 'mystery', 'sci-fi', 'romance', 'drama']\n"
          ]
        }
      ]
    },
    {
      "cell_type": "markdown",
      "metadata": {
        "id": "Xk-T-rA6mQ8-"
      },
      "source": [
        "##List Indexing and Slicing"
      ]
    },
    {
      "cell_type": "code",
      "metadata": {
        "id": "xi94ssyPmZ4L"
      },
      "source": [
        "# list indexing\n",
        "countries= ['USA', 'China', 'France', 'Russia', 'India', 'Egypt', 'Brazil']\n",
        "print(countries[0])\n",
        "print(countries[3])\n",
        "print(countries[-1])\n",
        "print(countries[-3])"
      ],
      "execution_count": null,
      "outputs": []
    },
    {
      "cell_type": "code",
      "metadata": {
        "id": "3pIsfw1VnPKf",
        "colab": {
          "base_uri": "https://localhost:8080/"
        },
        "outputId": "caf10137-637a-45fd-8a46-9a69be771ea1"
      },
      "source": [
        "# list slicing\n",
        "print (countries[1:3])\n",
        "print (countries[3: ])\n",
        "print (countries[::-1])\n",
        "print (countries[-1::-2])"
      ],
      "execution_count": null,
      "outputs": [
        {
          "output_type": "stream",
          "name": "stdout",
          "text": [
            "['China', 'France']\n",
            "['Russia', 'India', 'Egypt', 'Brazil']\n",
            "['Brazil', 'Egypt', 'India', 'Russia', 'France', 'China', 'USA']\n",
            "['Brazil', 'India', 'France', 'USA']\n"
          ]
        }
      ]
    },
    {
      "cell_type": "markdown",
      "metadata": {
        "id": "AasO_fOKnf90"
      },
      "source": [
        "##Built-In Fuctions with Lists"
      ]
    },
    {
      "cell_type": "code",
      "metadata": {
        "id": "qn-AuJvXnnyt"
      },
      "source": [
        "# using built-in functions with lists of strings\n",
        "colors=['magenta', 'cyan', 'coral', 'rose', '']\n",
        "print (sorted(colors))\n",
        "print (len(colors)) # returns the number of items in a list\n",
        "print (all(colors)) # returns False because the list has an empty string ''\n",
        "print (any(colors)) # returns True because the list has at least one item that is not an empty string''"
      ],
      "execution_count": null,
      "outputs": []
    },
    {
      "cell_type": "code",
      "metadata": {
        "colab": {
          "base_uri": "https://localhost:8080/"
        },
        "id": "SJtgGuf-nyZG",
        "outputId": "948b953a-8736-47de-90d6-e3e898e88c46"
      },
      "source": [
        "# using built-in functions with lists of integers\n",
        "nums = [1, 3, 5, 0, 4, 2]\n",
        "print (sorted(nums))\n",
        "print(nums)\n",
        "print (len(nums))   # returns the number of items in a list\n",
        "print (sum(nums))   # returns the sum of all numbers in a list\n",
        "print (all(nums))   # returns False because the list has 0\n",
        "print (any(nums))   # returns True because the list has at least one item that is not 0"
      ],
      "execution_count": null,
      "outputs": [
        {
          "output_type": "stream",
          "name": "stdout",
          "text": [
            "[0, 1, 2, 3, 4, 5]\n",
            "[1, 3, 5, 0, 4, 2]\n",
            "6\n",
            "15\n",
            "False\n",
            "True\n"
          ]
        }
      ]
    },
    {
      "cell_type": "markdown",
      "metadata": {
        "id": "i2yDXceap1Dv"
      },
      "source": [
        "##List Methods"
      ]
    },
    {
      "cell_type": "code",
      "metadata": {
        "colab": {
          "base_uri": "https://localhost:8080/"
        },
        "id": "snMJ5dZRpt-z",
        "outputId": "77aad5b4-2570-4273-f212-2975192061a9"
      },
      "source": [
        "# adding items to a list\n",
        "listA = [5, 4, 3, 2, 1]\n",
        "print(listA)\n",
        "listA.append(0)     # adds an item (0) to the end of the list\n",
        "print (listA)\n",
        "listA.insert(1, 6)  # inserts an item (6) at index 1 in the list\n",
        "print (listA)\n",
        "listA.insert(2, 7)  # inserts an item (7) at index 2 in the list\n",
        "print (listA)"
      ],
      "execution_count": null,
      "outputs": [
        {
          "output_type": "stream",
          "name": "stdout",
          "text": [
            "[5, 4, 3, 2, 1]\n",
            "[5, 4, 3, 2, 1, 0]\n",
            "[5, 6, 4, 3, 2, 1, 0]\n",
            "[5, 6, 7, 4, 3, 2, 1, 0]\n"
          ]
        }
      ]
    },
    {
      "cell_type": "code",
      "metadata": {
        "id": "6z94hf6Arekt",
        "colab": {
          "base_uri": "https://localhost:8080/"
        },
        "outputId": "37bfa267-9c4b-499e-804a-e8cac3ec6291"
      },
      "source": [
        "# removing items from a list\n",
        "listA = [5, 4, 3, 2, 1]\n",
        "print(listA)\n",
        "listA.remove(4)     # removes an item (4) from the list\n",
        "print (listA)\n",
        "num = listA.pop()   # retrieves and removes the last item from the list\n",
        "print (num)\n",
        "print(listA)\n",
        "num = listA.pop(2)   # retrieves and removes the item at index 1 from the list\n",
        "print (num)\n",
        "print(listA)"
      ],
      "execution_count": null,
      "outputs": [
        {
          "output_type": "stream",
          "name": "stdout",
          "text": [
            "[5, 4, 3, 2, 1]\n",
            "[5, 3, 2, 1]\n",
            "1\n",
            "[5, 3, 2]\n",
            "2\n",
            "[5, 3]\n"
          ]
        }
      ]
    },
    {
      "cell_type": "markdown",
      "source": [
        "##Sorting a List"
      ],
      "metadata": {
        "id": "4RGuxbsmlXq_"
      }
    },
    {
      "cell_type": "code",
      "metadata": {
        "colab": {
          "base_uri": "https://localhost:8080/"
        },
        "id": "mVRhCXtKqnoH",
        "outputId": "a68bb76b-df22-452b-e022-9e6c4777b571"
      },
      "source": [
        "# sorting a list\n",
        "listA = [5, 4, 3, 2, 1]\n",
        "print(listA)\n",
        "listA.sort()\n",
        "print (listA)\n",
        "listA.reverse()\n",
        "print (listA)"
      ],
      "execution_count": null,
      "outputs": [
        {
          "output_type": "stream",
          "name": "stdout",
          "text": [
            "[5, 4, 3, 2, 1]\n",
            "[1, 2, 3, 4, 5]\n",
            "[5, 4, 3, 2, 1]\n"
          ]
        }
      ]
    },
    {
      "cell_type": "markdown",
      "source": [
        "##Searching a List"
      ],
      "metadata": {
        "id": "zbMUXZBUlDkH"
      }
    },
    {
      "cell_type": "code",
      "source": [
        "# approach 1\n",
        "students = ['Alice', 'Ben', 'Carol', 'Dan', 'Mark', 'Ben', 'Ben']\n",
        "\n",
        "count = students.count('Ben')\n",
        "print(f'There are {count} students with the name \\'Ben\\':')\n",
        "\n",
        "i = 0\n",
        "for k in range(count):\n",
        "    i = students.index('Ben', i)\n",
        "    print(i)\n",
        "    i += 1"
      ],
      "metadata": {
        "colab": {
          "base_uri": "https://localhost:8080/"
        },
        "id": "AnM5gf6sl3uS",
        "outputId": "d76fc9c5-924a-4c30-e3d9-30fc7d91be4c"
      },
      "execution_count": null,
      "outputs": [
        {
          "output_type": "stream",
          "name": "stdout",
          "text": [
            "There are 3 students with the name 'Ben':\n",
            "1\n",
            "5\n",
            "6\n"
          ]
        }
      ]
    },
    {
      "cell_type": "code",
      "source": [
        "# approach 2\n",
        "students = ['Alice', 'Ben', 'Carol', 'Dan', 'Mark', 'Ben', 'Ben']\n",
        "number = len(students)\n",
        "count = 0\n",
        "for i in range(number):\n",
        "    if students[i] == 'Ben':\n",
        "        print(i)\n",
        "        count += 1\n",
        "print(f'There are {count} students with the name \\'Ben\\'.')"
      ],
      "metadata": {
        "colab": {
          "base_uri": "https://localhost:8080/"
        },
        "id": "ojnaeAbs3i1U",
        "outputId": "32559d3b-3302-4c2a-8c97-7a1b919d2241"
      },
      "execution_count": null,
      "outputs": [
        {
          "output_type": "stream",
          "name": "stdout",
          "text": [
            "1\n",
            "5\n",
            "6\n",
            "There are 3 students with the name 'Ben'.\n"
          ]
        }
      ]
    },
    {
      "cell_type": "markdown",
      "metadata": {
        "id": "mKyi39JKsuDD"
      },
      "source": [
        "##A Shopping Cart - Practicing with List Methods Append, Insert, and Pop"
      ]
    },
    {
      "cell_type": "code",
      "metadata": {
        "id": "TlBhWFdmszS7",
        "colab": {
          "base_uri": "https://localhost:8080/"
        },
        "outputId": "53beb531-0953-45df-b8ff-f5f276ceb56a"
      },
      "source": [
        "#\n",
        "# A shopping cart program\n",
        "#\n",
        "\n",
        "#create an empty list and add grocery items to the list\n",
        "grocery_list = []\n",
        "while True :\n",
        "    item = input(\"Enter a grocery item you want to buy: \")\n",
        "    if item == '':\n",
        "        break\n",
        "    else :\n",
        "        grocery_list.append(item)\n",
        "print (\"Your grocery list is \", grocery_list)\n",
        "\n",
        "# remove the bought items from the list and add them to the cart\n",
        "cart = []\n",
        "n = len(grocery_list)\n",
        "for i in range(n) :\n",
        "    item = grocery_list.pop(0)\n",
        "    ans = input(\"Do you want to buy \" + item + \"? \").upper()\n",
        "    if (ans.startswith('Y')):\n",
        "        cart.insert(0,item)\n",
        "    else:\n",
        "        grocery_list.append(item)\n",
        "print (\"Your shopping cart is \", cart)"
      ],
      "execution_count": null,
      "outputs": [
        {
          "output_type": "stream",
          "name": "stdout",
          "text": [
            "Enter a grocery item you want to buy: banana\n",
            "Enter a grocery item you want to buy: apples\n",
            "Enter a grocery item you want to buy: water\n",
            "Enter a grocery item you want to buy: \n",
            "Your grocery list is  ['banana', 'apples', 'water']\n",
            "Do you want to buy banana? yes\n",
            "Do you want to buy apples? no\n",
            "Do you want to buy water? yes\n",
            "Your shopping cart is  ['water', 'banana']\n"
          ]
        }
      ]
    },
    {
      "cell_type": "markdown",
      "metadata": {
        "id": "s4Ji2IdiuXQP"
      },
      "source": [
        "##Nested Lists"
      ]
    },
    {
      "cell_type": "code",
      "metadata": {
        "id": "MBeHk80xuZsW",
        "colab": {
          "base_uri": "https://localhost:8080/"
        },
        "outputId": "404c299e-f13c-4027-ff54-a43d3e2f6a15"
      },
      "source": [
        "# accessing inner lists\n",
        "records = [['Alice', 'Ben', 'Carol', 'Dan'],\n",
        "           [20, 21, 19, 18],\n",
        "           ['math', 'economics', 'arts', '']]\n",
        "\n",
        "names = records[0]\n",
        "print (names)\n",
        "\n",
        "ages = records[1]\n",
        "print (ages)\n",
        "\n",
        "majors = records[2]\n",
        "print (majors)"
      ],
      "execution_count": null,
      "outputs": [
        {
          "output_type": "stream",
          "name": "stdout",
          "text": [
            "['Alice', 'Ben', 'Carol', 'Dan']\n",
            "[20, 21, 19, 18]\n",
            "['math', 'economics', 'arts', '']\n"
          ]
        }
      ]
    },
    {
      "cell_type": "code",
      "metadata": {
        "colab": {
          "base_uri": "https://localhost:8080/"
        },
        "id": "0jtuNoYhuzVp",
        "outputId": "22cc957f-9cee-447c-e279-31c820d12d23"
      },
      "source": [
        "# accessing items from the inner lists\n",
        "records = [ ['Alice', 'Ben', 'Carol', 'Dan'],\n",
        "            [20, 21, 19, 18],\n",
        "            ['math', 'economics', 'arts', '']]\n",
        "name1 = records[0][0]\n",
        "print (name1)\n",
        "print (records[0][2])\n",
        "print (records[1][2])"
      ],
      "execution_count": null,
      "outputs": [
        {
          "output_type": "stream",
          "name": "stdout",
          "text": [
            "Alice\n",
            "Carol\n",
            "19\n"
          ]
        }
      ]
    },
    {
      "cell_type": "code",
      "metadata": {
        "colab": {
          "base_uri": "https://localhost:8080/"
        },
        "id": "TZXZs1thvju6",
        "outputId": "b4580540-ee5c-48f4-ebb9-69bfc4825b22"
      },
      "source": [
        "# traversing a nested list\n",
        "records = [ ['Alice', 'Ben', 'Carol', 'Dan'],\n",
        "            [20, 21, 19, 18],\n",
        "            ['math', 'economics', 'arts', '']]\n",
        "for record in records:\n",
        "      for item in record:\n",
        "            print (item, end=', ')\n",
        "      print()"
      ],
      "execution_count": null,
      "outputs": [
        {
          "output_type": "stream",
          "name": "stdout",
          "text": [
            "Alice, Ben, Carol, Dan, \n",
            "20, 21, 19, 18, \n",
            "math, economics, arts, , \n"
          ]
        }
      ]
    },
    {
      "cell_type": "markdown",
      "source": [
        "##Matrix\n",
        "\n",
        "Nested lists or other data structures can be used to implement matrices. A matrix is a two-dimentional array where each item (an element) can be accessed by its row index and column index. For example, matrix A is 3 x 3 matrix that can be represented as a nested list:\n",
        "\n",
        "A = [ [0, 1, 2],\n",
        "      [3, 4, 5],\n",
        "      [6, 7, 8] ]\n",
        "      \n",
        "where [0, 1, 2], [3, 4, 5], [6, 7, 8] are three rows with three items in each row.   "
      ],
      "metadata": {
        "id": "6UTTPJInMBJp"
      }
    },
    {
      "cell_type": "code",
      "source": [
        "# matrix addition\n",
        "A = [ [0, 0, 1],\n",
        "      [0, 4, 0],\n",
        "      [6, 0, 0] ]\n",
        "\n",
        "B = [ [1, 1, 1],\n",
        "      [0, 0, 0],\n",
        "      [1, 1, 1]]\n",
        "\n",
        "C = [] # [[1, 1, 2 ], [0,4, 0 ], [] ]   [[0, 0, 0], [1, 3, 4], []]\n",
        "for i in range(len(A)):\n",
        "    C.append([])\n",
        "    for j in range(len(A[i])):\n",
        "          C[i].append(A[i][j] + B[i][j])\n",
        "    print(C[i])\n",
        "print(len(C))"
      ],
      "metadata": {
        "colab": {
          "base_uri": "https://localhost:8080/"
        },
        "id": "qIIf0EkxOK9o",
        "outputId": "94e5d9e4-9998-4802-812f-a68c02175813"
      },
      "execution_count": null,
      "outputs": [
        {
          "output_type": "stream",
          "name": "stdout",
          "text": [
            "[1, 1, 2]\n",
            "[0, 4, 0]\n",
            "[7, 1, 1]\n",
            "3\n"
          ]
        }
      ]
    },
    {
      "cell_type": "markdown",
      "source": [
        "##Manipulating Lists"
      ],
      "metadata": {
        "id": "jj0KWlAJx0UO"
      }
    },
    {
      "cell_type": "code",
      "source": [
        "cars = [\"Toyota\", \"Honda\", \"Ford\", \"Volvo\", \"Ferrari\"]\n",
        "newlist = []                 # make an empty list\n",
        "for item in cars:\n",
        "    newlist.append(item)     # add an item to a list\n",
        "    print(newlist)"
      ],
      "metadata": {
        "colab": {
          "base_uri": "https://localhost:8080/"
        },
        "id": "ufLfXLhfx3qi",
        "outputId": "16c508ef-504c-4c76-b30e-bf37d8f56811"
      },
      "execution_count": null,
      "outputs": [
        {
          "output_type": "stream",
          "name": "stdout",
          "text": [
            "['Toyota']\n",
            "['Toyota', 'Honda']\n",
            "['Toyota', 'Honda', 'Ford']\n",
            "['Toyota', 'Honda', 'Ford', 'Volvo']\n",
            "['Toyota', 'Honda', 'Ford', 'Volvo', 'Ferrari']\n"
          ]
        }
      ]
    },
    {
      "cell_type": "code",
      "source": [
        "# first run the code above\n",
        "print(newlist)\n",
        "\n",
        "m, n = 2, 4\n",
        "for i in range(5):\n",
        "    item = newlist.pop(m)       # remove an item from the m-position in the list\n",
        "    newlist.insert(n, item)     # insert an item at the n-position in the list\n",
        "    print(newlist)"
      ],
      "metadata": {
        "colab": {
          "base_uri": "https://localhost:8080/"
        },
        "id": "vosl8QaF5CJM",
        "outputId": "3f76ca90-fc44-44f5-ac6e-6c6ec3010155"
      },
      "execution_count": null,
      "outputs": [
        {
          "output_type": "stream",
          "name": "stdout",
          "text": [
            "['Ford', 'Honda', 'Toyota', 'Volvo', 'Ferrari']\n",
            "['Ford', 'Honda', 'Volvo', 'Ferrari', 'Toyota']\n",
            "['Ford', 'Honda', 'Ferrari', 'Toyota', 'Volvo']\n",
            "['Ford', 'Honda', 'Toyota', 'Volvo', 'Ferrari']\n",
            "['Ford', 'Honda', 'Volvo', 'Ferrari', 'Toyota']\n",
            "['Ford', 'Honda', 'Ferrari', 'Toyota', 'Volvo']\n"
          ]
        }
      ]
    },
    {
      "cell_type": "markdown",
      "metadata": {
        "id": "Xp-0M030MEA4"
      },
      "source": [
        "# Lecture 11 - Dictionaries\n",
        "* Dictionary Definition\n",
        "* Dictionary Traversal\n",
        "* Dictionary Functions\n",
        "* Dictionary Methods\n",
        "* Nested Data Collections\n",
        "* Comparison between Dictionary and List\n"
      ]
    },
    {
      "cell_type": "markdown",
      "source": [
        "##Creating a Dictionary"
      ],
      "metadata": {
        "id": "c4Ne6njy9UPo"
      }
    },
    {
      "cell_type": "markdown",
      "metadata": {
        "id": "HAffmTpCwZe7"
      },
      "source": [
        "A dictionary is a data collection of unordered key-value pairs where keys are unique and immutable.\n",
        "Dictionaries are also called associative arrays or associative memories.Dictionaries are used in data storage (databases) where efficient retrieval is essential, e.g. a phone number lookup, a grammar checker, a library catalogue.\n",
        "\n"
      ]
    },
    {
      "cell_type": "code",
      "metadata": {
        "id": "anQusNUZxNwK",
        "colab": {
          "base_uri": "https://localhost:8080/"
        },
        "outputId": "a5399a18-ace1-4ca8-d803-481ffb23346e"
      },
      "source": [
        "phones = {'Forest' : 8314567890,  'Miguel' : 8311234567,  'Sasha' : 8316788901,  'Aziz' : 8312345678}\n",
        "print('Phones:', phones)\n",
        "books = {1234 : 'Gone with the wind', 3456 : 'War and Peace', 7890 : 'Rigvega', 4567 : 'Lunyu'}\n",
        "print('Books:', books)"
      ],
      "execution_count": null,
      "outputs": [
        {
          "output_type": "stream",
          "name": "stdout",
          "text": [
            "Phones: {'Forest': 8314567890, 'Miguel': 8311234567, 'Sasha': 8316788901, 'Aziz': 8312345678}\n",
            "Books: {1234: 'Gone with the wind', 3456: 'War and Peace', 7890: 'Rigvega', 4567: 'Lunyu'}\n"
          ]
        }
      ]
    },
    {
      "cell_type": "markdown",
      "metadata": {
        "id": "LIp4ZVF2xHKa"
      },
      "source": [
        "Dictionaries can be made in different ways - items can be imported from other dictionaries or data collections."
      ]
    },
    {
      "cell_type": "code",
      "source": [
        "# using the dictionary method update()\n",
        "new_records = {}\n",
        "old_records = {'alice' :  'chemistry',\n",
        "              'ben'  :  'math',\n",
        "              'clara' :  'history' }\n",
        "print(new_records)\n",
        "new_records.update(old_records)\n",
        "print(new_records)"
      ],
      "metadata": {
        "id": "G9VIwb3DhqDs"
      },
      "execution_count": null,
      "outputs": []
    },
    {
      "cell_type": "code",
      "source": [
        "# using the function dict() with keyword arguments\n",
        "empty = dict()\n",
        "new_data = dict(alice = 'chemistry', ben  = 'math', clara = 'history')\n",
        "print(new_data)"
      ],
      "metadata": {
        "id": "q9es1bNfkKVj",
        "colab": {
          "base_uri": "https://localhost:8080/"
        },
        "outputId": "709365b0-fc82-4348-920b-5451aa76a335"
      },
      "execution_count": null,
      "outputs": [
        {
          "output_type": "stream",
          "name": "stdout",
          "text": [
            "{'alice': 'chemistry', 'ben': 'math', 'clara': 'history'}\n"
          ]
        }
      ]
    },
    {
      "cell_type": "code",
      "source": [
        "# using the function dict() with a list of tuples\n",
        "new_data = dict([('alice','chemistry'), ('ben','math'), ('clara', 'history')])\n",
        "print (new_data)"
      ],
      "metadata": {
        "id": "RG4gdYb_mh9o"
      },
      "execution_count": null,
      "outputs": []
    },
    {
      "cell_type": "markdown",
      "source": [
        "##Accessing and Modifying Dictionary Values"
      ],
      "metadata": {
        "id": "vfwRA1lpm3kl"
      }
    },
    {
      "cell_type": "code",
      "source": [
        "records = {'alice' :  'chemistry',\n",
        "           'ben'  :  'math',\n",
        "           'clara' :  'history' }\n",
        "print(records['alice'])  # access the value of the key 'alice'\n",
        "records['alice'] = 'biology' # change the value of the key 'alice'\n",
        "print(records['alice'])\n",
        "print(records)\n",
        "records['dave'] = 'computer science' # add a new key-value pair\n",
        "del records['clara']                 # delete a key-value pair\n",
        "print(records)"
      ],
      "metadata": {
        "id": "aEiI8NaEnLVi",
        "colab": {
          "base_uri": "https://localhost:8080/"
        },
        "outputId": "0bd786d0-f87c-4634-abfc-d39ce8607c63"
      },
      "execution_count": null,
      "outputs": [
        {
          "output_type": "stream",
          "name": "stdout",
          "text": [
            "chemistry\n",
            "biology\n",
            "{'alice': 'biology', 'ben': 'math', 'clara': 'history'}\n",
            "{'alice': 'biology', 'ben': 'math', 'dave': 'computer science'}\n"
          ]
        }
      ]
    },
    {
      "cell_type": "markdown",
      "source": [
        "##Traversing a Dictionary"
      ],
      "metadata": {
        "id": "Ghi5DzIxo_jo"
      }
    },
    {
      "cell_type": "code",
      "source": [
        "records = {'alice' :  'chemistry',\n",
        "           'ben'  :  'math',\n",
        "           'clara' :  'history' }\n",
        "print ('Method 1:')\n",
        "for key, value in records.items():\n",
        "      print ( f'{key} : {value}') # custom print of key-value pairs\n",
        "print('\\nMethod 2:')\n",
        "for pair in records.items():\n",
        "      print (pair)                # print dictionary key-value pairs as tuples"
      ],
      "metadata": {
        "id": "Wj4HzxvQpXcE",
        "colab": {
          "base_uri": "https://localhost:8080/"
        },
        "outputId": "9c7e6dfa-f81c-402d-ff4d-ab259b3decf4"
      },
      "execution_count": null,
      "outputs": [
        {
          "output_type": "stream",
          "name": "stdout",
          "text": [
            "Method 1:\n",
            "alice : chemistry\n",
            "ben : math\n",
            "clara : history\n",
            "\n",
            "Method 2:\n",
            "('alice', 'chemistry')\n",
            "('ben', 'math')\n",
            "('clara', 'history')\n"
          ]
        }
      ]
    },
    {
      "cell_type": "code",
      "source": [
        "records = {'alice' :  'chemistry',\n",
        "           'ben'  :  'math',\n",
        "           'clara' :  'history' }\n",
        "# traverse only keys\n",
        "print('Dictionary keys:')\n",
        "for key in records.keys():\n",
        "      print (key, end='; ')\n",
        "# traverse only values\n",
        "print('\\n\\nDictionary values:')\n",
        "for value in records.values():\n",
        "      print (value, end='; ')\n",
        "\n",
        "print('\\n\\nDictionary items:')\n",
        "for item in records.items():\n",
        "      print (item, end='; ')\n"
      ],
      "metadata": {
        "id": "FlwpRLs-qXsH",
        "colab": {
          "base_uri": "https://localhost:8080/"
        },
        "outputId": "c710ec17-9032-4f66-9b18-bb5cfb173913"
      },
      "execution_count": null,
      "outputs": [
        {
          "output_type": "stream",
          "name": "stdout",
          "text": [
            "Dictionary keys:\n",
            "alice; ben; clara; \n",
            "\n",
            "Dictionary values:\n",
            "chemistry; math; history; \n",
            "\n",
            "Dictionary items:\n",
            "('alice', 'chemistry'); ('ben', 'math'); ('clara', 'history'); "
          ]
        }
      ]
    },
    {
      "cell_type": "markdown",
      "source": [
        "##Self-Testing\n",
        "\n",
        "Could you predict the output of the following code?"
      ],
      "metadata": {
        "id": "GgDgKhxdty2Q"
      }
    },
    {
      "cell_type": "code",
      "source": [
        "hobbies = {'sport': 'hockey', 'book': 'sci-fi',\n",
        "           'music': 'disco', 'cook':'cakes',\n",
        "           'game': 'chess'  }\n",
        "del hobbies['game']\n",
        "hobbies['vacation'] = 'camping'\n",
        "hobbies['music'] = 'country music'\n",
        "for v in hobbies.values():\n",
        "      print (v)"
      ],
      "metadata": {
        "id": "nIPB0l_duG5B",
        "colab": {
          "base_uri": "https://localhost:8080/"
        },
        "outputId": "b6f328c5-7600-432a-cb3d-471b8bbe1dd3"
      },
      "execution_count": null,
      "outputs": [
        {
          "output_type": "stream",
          "name": "stdout",
          "text": [
            "hockey\n",
            "sci-fi\n",
            "country music\n",
            "cakes\n",
            "camping\n"
          ]
        }
      ]
    },
    {
      "cell_type": "markdown",
      "source": [
        "##Dictionary Methods: Get, Pop, Update, and Clear"
      ],
      "metadata": {
        "id": "WvJdYMFMw_6m"
      }
    },
    {
      "cell_type": "code",
      "source": [
        "movies = {'avatar':2009, 'ironman':2013, 'titanic':1997, 'starwars':2015}\n",
        "year_avatar = movies.get('avatar')              # returns the key value\n",
        "year_titanic = movies.pop('titanic')            # returns the key value and deletes the pair\n",
        "print(year_titanic)\n",
        "#year_titanic = movies['titanic']               # makes an error\n",
        "year_titanic = movies.get('titanic')            # a safe approach to get values, get() returns None\n",
        "print(year_titanic)\n",
        "year_titanic = movies.get('titanic', 0)         # returns the default value 0\n",
        "print(year_titanic)\n",
        "\n",
        "new_movies = {'abominable':2019, 'jumanji':2019}\n",
        "movies.update(new_movies)\n",
        "new_movies.clear()\n",
        "print (movies)\n",
        "print (new_movies)"
      ],
      "metadata": {
        "id": "mX3k9Kagwrpr"
      },
      "execution_count": null,
      "outputs": []
    },
    {
      "cell_type": "markdown",
      "source": [
        "##Nested Dictionaries and Data Collections"
      ],
      "metadata": {
        "id": "KRkhRBZWZjI6"
      }
    },
    {
      "cell_type": "code",
      "source": [
        "# example of a nested dictionary\n",
        "records = { 'alice' :  {'major': 'chemistry', 'age': 20},\n",
        "            'ben' :  {'major': 'math', 'age':18},\n",
        "            'clara' : {'major' : 'history', 'age' : 19} }\n",
        "print(records['alice'])          # print the value of the key 'alice' of the outer dictionary\n",
        "print(records['alice']['major']) # print the value of the key 'major' of the inner dictionary"
      ],
      "metadata": {
        "id": "c8wpzfeSZtf2"
      },
      "execution_count": null,
      "outputs": []
    },
    {
      "cell_type": "code",
      "source": [
        "# example of a list of dictionaries\n",
        "records = [ {'alice': 'chemistry',  'ben' : 'math', 'clara' : 'history'},\n",
        "            {'alice': 20, 'ben':18, 'clara':19} ]\n",
        "print(records[1])              # print the fist list item, the first dictionary\n",
        "print(records[0]['alice'])    # print the value of the key 'alice' in the fist dictionary\n",
        "print(records[0].get('alice')) # print the value of the key 'alice' in the fist dictionary using a more safe approach"
      ],
      "metadata": {
        "id": "ZFyrqz8PZNYq"
      },
      "execution_count": null,
      "outputs": []
    },
    {
      "cell_type": "code",
      "source": [
        "# example of a dictionary of lists\n",
        "records = { 'alice': ['chemistry', 20],\n",
        "             'ben' :  ['math', 18],\n",
        "            'clara' : ['history', 19] }\n",
        "print(records['alice'])     # print the value of the key 'alice'\n",
        "print(records['alice'][0])  # print the fist item in the list that is the value of the key 'alice'"
      ],
      "metadata": {
        "id": "BuKS-ipTa96F"
      },
      "execution_count": null,
      "outputs": []
    },
    {
      "cell_type": "markdown",
      "source": [
        "##Dictionary Applications\n",
        "\n",
        "\n",
        "1.   Databases and Information Retrieval\n",
        "2.   Communications (Internet Exchange Forms, e.g., JSON (JavaScript Object Notation) Files)"
      ],
      "metadata": {
        "id": "AnNsPT1ovd09"
      }
    },
    {
      "cell_type": "code",
      "source": [
        "data = { \"firstName\": \"John\",\n",
        "\"lastName\": \"Smith\",\n",
        "\"isAlive\": True,\n",
        "\"age\": 27,\n",
        "\"address\": { \"street Address\": \"21 2nd Street\", \"city\": \"New York\", \"state\": \"NY\", \"postalCode\": \"10021-3100\" },\n",
        "\"phoneNumbers\": [ { \"type\": \"home\", \"number\": \"212 555-1234\" }, {\"type\": \"office\", \"number\": \"646 555-4567\" } ],\n",
        "\"children\": [],\n",
        "\"spouse\": None }\n",
        "print(data)"
      ],
      "metadata": {
        "id": "2kO4352FvSpr"
      },
      "execution_count": null,
      "outputs": []
    },
    {
      "cell_type": "markdown",
      "source": [
        "##Creating a Dictionary from Text"
      ],
      "metadata": {
        "id": "_V6aTXeeZKct"
      }
    },
    {
      "cell_type": "code",
      "source": [
        "text = 'This is a test . That is another test .'\n",
        "words =  text.lower().split()\n",
        "d = {}\n",
        "print(words)\n",
        "for word in words:\n",
        "    d[word] = d.get(word, 0) + 1\n",
        "print(d)"
      ],
      "metadata": {
        "colab": {
          "base_uri": "https://localhost:8080/"
        },
        "id": "mxImBa-gZTqj",
        "outputId": "f8fef6a1-c800-43f3-ec3a-093230c67217"
      },
      "execution_count": null,
      "outputs": [
        {
          "output_type": "stream",
          "name": "stdout",
          "text": [
            "['this', 'is', 'a', 'test', '.', 'that', 'is', 'another', 'test', '.']\n",
            "{'this': 1, 'is': 2, 'a': 1, 'test': 2, '.': 2, 'that': 1, 'another': 1}\n"
          ]
        }
      ]
    },
    {
      "cell_type": "markdown",
      "metadata": {
        "id": "o_gF_reeMKPH"
      },
      "source": [
        "# Lecture 12 - Tuples, Arrays, and Sets\n",
        "* Data Collections\n",
        "  * Mutable and Immutable\n",
        "  * Arrays vs Lists\n",
        "  * Tuples vs Lists\n",
        "  * Dictionaries vs Lists\n",
        "* Tuples\n",
        "  * Tuple Definition\n",
        "  * Tuple Functions and Methods\n",
        "  * Casting, Packing, and Zipping\n",
        "* Arrays\n",
        "  * Array Definition\n",
        "  * Array Functions and Methods\n",
        "* Sets\n",
        "  * Set Definition\n",
        "  * Set Functions and Methods\n",
        "  * Difference, Union, and Intersection\n",
        "* Frozensets\n",
        "  * Frozenset Definition\n",
        "  * Frozenset Applications\n",
        "* Comparison of Data Collections\n"
      ]
    },
    {
      "cell_type": "markdown",
      "source": [
        "##Tuples\n",
        "\n",
        "A tuple is an immutable ordered sequence of items and thus is also an immutable list.\n",
        "\n",
        "We use parantheses to declare tuples.\n"
      ],
      "metadata": {
        "id": "YazR4egdfG0K"
      }
    },
    {
      "cell_type": "markdown",
      "source": [
        "###Creating a Tuple"
      ],
      "metadata": {
        "id": "0BNJLDhP97FL"
      }
    },
    {
      "cell_type": "code",
      "source": [
        "suits = ('Clubs', 'Diamonds', 'Hearts', 'Spades')\n",
        "ranks = (2, 3, 4, 5, 6, 7, 8, 9, 10, 'J', 'Q', 'K', 'A')\n",
        "print(f'There are {len(suits)} card suits: {suits}')\n",
        "print(f'There are {len(ranks)} card ranks: {ranks}')"
      ],
      "metadata": {
        "id": "A47vtMtJfJKp",
        "colab": {
          "base_uri": "https://localhost:8080/"
        },
        "outputId": "b6332d9e-63bf-4707-fb41-f955c65c4369"
      },
      "execution_count": null,
      "outputs": [
        {
          "output_type": "stream",
          "name": "stdout",
          "text": [
            "There are 4 card suits: ('Clubs', 'Diamonds', 'Hearts', 'Spades')\n",
            "There are 13 card ranks: (2, 3, 4, 5, 6, 7, 8, 9, 10, 'J', 'Q', 'K', 'A')\n"
          ]
        }
      ]
    },
    {
      "cell_type": "code",
      "source": [
        "empty_tuple = ()        # make an empty tuple\n",
        "one_item_tuple = (1, )  # make a one-item tuple\n",
        "not_a_tuple = (1)       # makes an integer, not a tuple!!!\n",
        "print(empty_tuple)\n",
        "print(one_item_tuple)\n",
        "print(type(one_item_tuple))\n",
        "print(not_a_tuple)\n",
        "print(type(not_a_tuple))"
      ],
      "metadata": {
        "id": "getwWqIRh0fW",
        "colab": {
          "base_uri": "https://localhost:8080/"
        },
        "outputId": "b5e4e2d6-6ad6-47ad-e468-1c3a951a9657"
      },
      "execution_count": null,
      "outputs": [
        {
          "output_type": "stream",
          "name": "stdout",
          "text": [
            "()\n",
            "(1,)\n",
            "<class 'tuple'>\n",
            "1\n",
            "<class 'int'>\n"
          ]
        }
      ]
    },
    {
      "cell_type": "markdown",
      "source": [
        "###Tuple Traversal"
      ],
      "metadata": {
        "id": "w3Rm4MzziaTM"
      }
    },
    {
      "cell_type": "code",
      "source": [
        "suits = ('Clubs', 'Diamonds', 'Hearts', 'Spades')        # a tuple\n",
        "ranks = (2, 3, 4, 5, 6, 7, 8, 9, 10, 'J', 'Q', 'K', 'A')  # a tuple\n",
        "deck = [ ]                                               # a list\n",
        "for s in suits :\n",
        "     for r in ranks :\n",
        "           deck.append ( (s, r) ) # add a tuple (a card) to a list (the deck)\n",
        "print(deck)"
      ],
      "metadata": {
        "id": "-pIjuD3Wi6S3",
        "colab": {
          "base_uri": "https://localhost:8080/"
        },
        "outputId": "abfc92f7-e0a2-45fa-aa01-4074045d8f82"
      },
      "execution_count": null,
      "outputs": [
        {
          "output_type": "stream",
          "name": "stdout",
          "text": [
            "[('Clubs', 2), ('Clubs', 3), ('Clubs', 4), ('Clubs', 5), ('Clubs', 6), ('Clubs', 7), ('Clubs', 8), ('Clubs', 9), ('Clubs', 10), ('Clubs', 'J'), ('Clubs', 'Q'), ('Clubs', 'K'), ('Clubs', 'A'), ('Diamonds', 2), ('Diamonds', 3), ('Diamonds', 4), ('Diamonds', 5), ('Diamonds', 6), ('Diamonds', 7), ('Diamonds', 8), ('Diamonds', 9), ('Diamonds', 10), ('Diamonds', 'J'), ('Diamonds', 'Q'), ('Diamonds', 'K'), ('Diamonds', 'A'), ('Hearts', 2), ('Hearts', 3), ('Hearts', 4), ('Hearts', 5), ('Hearts', 6), ('Hearts', 7), ('Hearts', 8), ('Hearts', 9), ('Hearts', 10), ('Hearts', 'J'), ('Hearts', 'Q'), ('Hearts', 'K'), ('Hearts', 'A'), ('Spades', 2), ('Spades', 3), ('Spades', 4), ('Spades', 5), ('Spades', 6), ('Spades', 7), ('Spades', 8), ('Spades', 9), ('Spades', 10), ('Spades', 'J'), ('Spades', 'Q'), ('Spades', 'K'), ('Spades', 'A')]\n"
          ]
        }
      ]
    },
    {
      "cell_type": "markdown",
      "source": [
        "###Tuple Concatenation\n",
        "\n",
        "Tuples are immutable and cannot be changed - no items can be removed or added to tuples! However, we can use tuple concatenation to combine tuples."
      ],
      "metadata": {
        "id": "5dLeZMIhj4pE"
      }
    },
    {
      "cell_type": "code",
      "source": [
        "t1 = ()\n",
        "for i in range (3) :\n",
        "      item = input( 'Enter an item:  ')\n",
        "      t1 += ( item, )\n",
        "print(t1)"
      ],
      "metadata": {
        "id": "fg9alLQNkSHI",
        "colab": {
          "base_uri": "https://localhost:8080/"
        },
        "outputId": "77c9ca70-eeab-4a30-f692-58dc79621a82"
      },
      "execution_count": null,
      "outputs": [
        {
          "output_type": "stream",
          "name": "stdout",
          "text": [
            "Enter an item:  dogs\n",
            "Enter an item:  cats\n",
            "Enter an item:  mice\n",
            "('dogs', 'cats', 'mice')\n"
          ]
        }
      ]
    },
    {
      "cell_type": "markdown",
      "source": [
        "###Tuple Packing and Unpacking"
      ],
      "metadata": {
        "id": "B7yF236AlW03"
      }
    },
    {
      "cell_type": "code",
      "source": [
        "t1 = 1, 2, 3, 4, 5    # pack a tuple - add items to a tuple\n",
        "print(t1)\n",
        "a, b, c, d, e = t1    # unpack a tuple - assign variables to tuple items\n",
        "print(a)\n",
        "print(t1)"
      ],
      "metadata": {
        "id": "CBKYnO13laEb",
        "colab": {
          "base_uri": "https://localhost:8080/"
        },
        "outputId": "671ef197-d4e8-4c74-c7b1-0acba9611881"
      },
      "execution_count": null,
      "outputs": [
        {
          "output_type": "stream",
          "name": "stdout",
          "text": [
            "(1, 2, 3, 4, 5)\n",
            "1\n",
            "(1, 2, 3, 4, 5)\n"
          ]
        }
      ]
    },
    {
      "cell_type": "markdown",
      "source": [
        "###Zip Function\n",
        "\n",
        "Zip function is used to create a collection of tuples made of items from different data collections such as lists, tuples, sets, etc."
      ],
      "metadata": {
        "id": "HeoofKWhmZ4y"
      }
    },
    {
      "cell_type": "code",
      "source": [
        "animals = ('hydra', 'worm', 'insect',  'lion') # could be a list, set, array, frozenset instead of a tuple\n",
        "habitat = ('water', 'underground', 'trees', 'mountains')\n",
        "zoo_list = list(zip(animals, habitat))\n",
        "print(zoo_list)"
      ],
      "metadata": {
        "colab": {
          "base_uri": "https://localhost:8080/"
        },
        "id": "JEZgHgvWmdhG",
        "outputId": "feb1ab9d-1ee1-4bc3-f30d-3fcc3e186f18"
      },
      "execution_count": null,
      "outputs": [
        {
          "output_type": "stream",
          "name": "stdout",
          "text": [
            "[('hydra', 'water'), ('worm', 'underground'), ('insect', 'trees'), ('lion', 'mountains')]\n"
          ]
        }
      ]
    },
    {
      "cell_type": "code",
      "source": [
        "x_coord = [1, 2, 3, 4]\n",
        "y_coord = [1, 4, 9, 16]\n",
        "z_coord = [0, 0, 0, 0, 0]\n",
        "points = list(zip(x_coord, y_coord, z_coord))\n",
        "print(points)"
      ],
      "metadata": {
        "id": "c9W9DAE2qAId",
        "colab": {
          "base_uri": "https://localhost:8080/"
        },
        "outputId": "9483e4c3-8eb0-4752-882f-50d05f41d847"
      },
      "execution_count": null,
      "outputs": [
        {
          "output_type": "stream",
          "name": "stdout",
          "text": [
            "[(1, 1, 0), (2, 4, 0), (3, 9, 0), (4, 16, 0)]\n"
          ]
        }
      ]
    },
    {
      "cell_type": "markdown",
      "source": [
        "##Arrays\n",
        "\n",
        "An array is an ordered sequence of items of the same data type that are allocated in memory as one continuous block for efficient memory operations.\n"
      ],
      "metadata": {
        "id": "4U7oeSDErHP2"
      }
    },
    {
      "cell_type": "markdown",
      "source": [
        "###Creating an Array"
      ],
      "metadata": {
        "id": "QrGvQy89-DUZ"
      }
    },
    {
      "cell_type": "code",
      "source": [
        "from array import array\n",
        "letter_codes = array('b', [96, 97, 98])  # make an array of bytes\n",
        "print(letter_codes)\n",
        "numbers = array('i', [1,2,3])            # make an array of integers\n",
        "print(numbers)"
      ],
      "metadata": {
        "id": "PfJs8TTkr4Ip",
        "colab": {
          "base_uri": "https://localhost:8080/"
        },
        "outputId": "9e9df48a-ce24-43b8-aa7c-2f64c35d7508"
      },
      "execution_count": null,
      "outputs": [
        {
          "output_type": "stream",
          "name": "stdout",
          "text": [
            "array('b', [96, 97, 98])\n",
            "array('i', [1, 2, 3])\n"
          ]
        }
      ]
    },
    {
      "cell_type": "code",
      "source": [
        "from array import array\n",
        "# make an array of bytes\n",
        "letter_codes = array('b' )\n",
        "alphabet = 'abcdefghijklmnopqrstuvwxyz'\n",
        "for letter in alphabet:\n",
        "\tletter_codes.append(ord(letter))\n",
        "print(letter_codes)\n",
        "\n",
        "# make an array of integers (integer = 2 bytes of memory)\n",
        "digits = array('i')\n",
        "for num in range (10):\n",
        "\tdigits.append(num)\n",
        "print(digits)"
      ],
      "metadata": {
        "id": "KYHJwiwYsflj",
        "colab": {
          "base_uri": "https://localhost:8080/"
        },
        "outputId": "9e6f2cb6-a934-4fbf-bb4e-ba32fdbf525e"
      },
      "execution_count": null,
      "outputs": [
        {
          "output_type": "stream",
          "name": "stdout",
          "text": [
            "array('b', [97, 98, 99, 100, 101, 102, 103, 104, 105, 106, 107, 108, 109, 110, 111, 112, 113, 114, 115, 116, 117, 118, 119, 120, 121, 122])\n",
            "array('i', [0, 1, 2, 3, 4, 5, 6, 7, 8, 9])\n"
          ]
        }
      ]
    },
    {
      "cell_type": "markdown",
      "source": [
        "##Set\n",
        "\n",
        "A set is an unordered collection of unique items that can be used to perform set operations such as union, intersection and difference.\n",
        "\n"
      ],
      "metadata": {
        "id": "I-xdXlmUtOTA"
      }
    },
    {
      "cell_type": "markdown",
      "source": [
        "###Creating a Set"
      ],
      "metadata": {
        "id": "_u_-2JKb-JfJ"
      }
    },
    {
      "cell_type": "code",
      "source": [
        "salad = {'tomato', 'onion', 'cucumber', 'onion', 'pepper'} # make a set\n",
        "print(salad) # notice that there are no duplicate entries - no two 'onion'\n",
        "             # also, the order of items is unimportant and irrelevant\n",
        "             # it can be different on different machines!!!"
      ],
      "metadata": {
        "id": "P30zGAi0uAXX"
      },
      "execution_count": null,
      "outputs": []
    },
    {
      "cell_type": "code",
      "source": [
        "empty_dictionary = {}          # makes an empty dictionary, not a set!!!\n",
        "empty_set = set()              # make an empty set\n",
        "print(empty_set)\n",
        "print(type(empty_set))"
      ],
      "metadata": {
        "id": "Z_Eebf6PAr6M"
      },
      "execution_count": null,
      "outputs": []
    },
    {
      "cell_type": "markdown",
      "source": [
        "###Set Casting\n",
        "\n",
        "We can convert various sequences and data collections into a set using the casting function set()."
      ],
      "metadata": {
        "id": "g4_HpS6jBNTj"
      }
    },
    {
      "cell_type": "code",
      "source": [
        "fruit = [ 'apple', 'pear', 'plum', 'cherry', 'pear']\n",
        "set1 = set(fruit)  # convert a list into a set\n",
        "print(set1)\n",
        "set2 = set('apple') # convert a string (a sequence of letters) into a set\n",
        "print(set2)"
      ],
      "metadata": {
        "colab": {
          "base_uri": "https://localhost:8080/"
        },
        "id": "dS4rZBTMBkxD",
        "outputId": "da75d2df-551d-4f39-a70e-d0aa370898fc"
      },
      "execution_count": null,
      "outputs": [
        {
          "output_type": "stream",
          "name": "stdout",
          "text": [
            "{'pear', 'cherry', 'plum', 'apple'}\n",
            "{'a', 'p', 'e', 'l'}\n"
          ]
        }
      ]
    },
    {
      "cell_type": "markdown",
      "source": [
        "###Set Operations\n",
        "\n",
        "Operations on sets are union, intersection, and difference.\n",
        "\n",
        "A union of given sets is a set that contains all elements (items) that are present in the given sets.\n",
        "\n",
        "An intersection of given sets is a set that contains only elements (items) that are present in all given sets.\n",
        "\n",
        "A difference of given sets is a set that contains elements (items) that are present in the first given set and absent in the other given sets. Differences of the same sets are different, e.g., difference of set A and B is not the same is the difference of the set B and A.\n",
        "\n",
        "A symmetric difference of given sets is a set that contains elements (items) that are present in all differences of the given sets. So, the symmentric difference of set A and set B is always the same as the symmetric difference of set B and set A!!!"
      ],
      "metadata": {
        "id": "jE1iKMq9Cnp5"
      }
    },
    {
      "cell_type": "code",
      "source": [
        "cats = {'cat', 'lion', 'cheetah', 'tiger', 'jaguar', 'leopard'}\n",
        "endangered_species = {'leopard', 'cheetah', 'tiger', 'jaguar', 'elephant'}\n",
        "print('Union is:', cats | endangered_species)  # find a union\n",
        "print('Intersection is:', cats & endangered_species)  # find an intersection\n",
        "print('Difference is:', cats - endangered_species)  # find a difference\n",
        "print('Symmetric difference is:', cats ^ endangered_species)  # find a symmetric difference (exclusive OR)"
      ],
      "metadata": {
        "id": "-B0_g4MCEL4V"
      },
      "execution_count": null,
      "outputs": []
    },
    {
      "cell_type": "markdown",
      "source": [
        "###Self-Testing\n",
        "\n",
        "Can you find a list of names common to all given lists?\n",
        "\n",
        "list1 = ['anna', 'maria', 'albert', 'pete', 'mike']\n",
        "\n",
        "list2 = ['anna', 'albert', 'pete', 'kate', 'nick']\n",
        "\n",
        "Can you find a list of names unique to each list?\n"
      ],
      "metadata": {
        "id": "vktrVLkyH3Ri"
      }
    },
    {
      "cell_type": "code",
      "source": [
        "list1 = ['anna', 'maria', 'albert', 'pete', 'mike']\n",
        "list2 = ['anna', 'albert', 'pete', 'kate', 'nick']\n",
        "set1 = set(list1)\n",
        "set2 = set(list2)\n",
        "print('These names are common to both lists:')\n",
        "print(set1.intersection(set2))                # equivalent to print(set1 & set2)\n",
        "print('These names are unique to list 1:')\n",
        "print(set1.difference(set2))                  # equivalent to print(set1 - set2)\n",
        "print('These names are unique to list 2:')\n",
        "print(set2.difference(set1))                  # equivalent to print(set2 - set1)\n",
        "print('These names are unique to both lists:')\n",
        "print(set2.symmetric_difference(set1))        # equivalent to print(set2 ^ set1)"
      ],
      "metadata": {
        "id": "0kYrl4ovH-Tg",
        "colab": {
          "base_uri": "https://localhost:8080/"
        },
        "outputId": "45bc731c-6e58-4132-d313-04a0b03ba4ad"
      },
      "execution_count": null,
      "outputs": [
        {
          "output_type": "stream",
          "name": "stdout",
          "text": [
            "These names are common to both lists:\n",
            "{'anna', 'pete', 'albert'}\n",
            "These names are unique to list 1:\n",
            "{'mike', 'maria'}\n",
            "These names are unique to list 2:\n",
            "{'kate', 'nick'}\n",
            "These names are unique to both lists:\n",
            "{'mike', 'maria', 'kate', 'nick'}\n"
          ]
        }
      ]
    },
    {
      "cell_type": "markdown",
      "source": [
        "##Frozenset\n",
        "\n",
        "A frozenset is an immutable, unordered collection of unique items and thus also is an immutable set. There are no frozenset methods that can change frozensets - we cannot add or delete items from frozensets because frozensets are immutable!!!\n"
      ],
      "metadata": {
        "id": "TNKG-TVMMsj_"
      }
    },
    {
      "cell_type": "code",
      "source": [
        "permanent_bank_accounts = frozenset([101, 203, 233, 24])\n",
        "print(permanent_bank_accounts)"
      ],
      "metadata": {
        "id": "aRB00I8hNd_L"
      },
      "execution_count": null,
      "outputs": []
    },
    {
      "cell_type": "code",
      "source": [
        "keys = frozenset([1, 2, 3])\n",
        "values = frozenset(['alice', 'bob', 'clara'])\n",
        "d = {}\n",
        "for ... :\n",
        "    d? = ?"
      ],
      "metadata": {
        "id": "VeA0nCQQjCmx"
      },
      "execution_count": null,
      "outputs": []
    },
    {
      "cell_type": "markdown",
      "metadata": {
        "id": "y2OjETAcMRK0"
      },
      "source": [
        "# Lecture 13 - Exceptions\n",
        "* Programming Errors\n",
        "  * Runtime and Syntax Errors\n",
        "* Exceptions\n",
        "  * Try-Except Statement\n",
        "  * Exception Types\n",
        "* Logical Errors\n",
        "  * Infinite Loops\n",
        "  * Off-by-1\n",
        "  * Logical Fallacies\n",
        "  * Misconceptions: Birthday Paradox\n",
        "  * Typo-like Errors\n",
        "* Debugging and Call Stack\n",
        "\n"
      ]
    },
    {
      "cell_type": "markdown",
      "source": [
        "A programming error is an incorrect performance of the program. Programming errors are divided into two classes: syntax and runtime errors. Runtime errors occur during the program run, whereas syntax errors are detected by the interpreter before the program run.\n",
        "\n",
        "Not all runtime errors are detected during the program run. Runtime errors that are detected during the program run are called exceptions. Exceptions result in the premature termination of the program (program crash). Programmers can create, raise (throw), and catch exceptions. There are many built-in exceptions: IOError, ValueError, TypeError, ZeroDivisionError, etc.\n",
        "\n",
        "There are runtime errors that do not result in the premature termination of the program. They are logical errors commonly known as bugs. Logical errors result in incorrect behavior of the program: infinite loops, wrong results, incorrect output, instability, and unexpected chaotic behavior and unpredictability of the program.  \n"
      ],
      "metadata": {
        "id": "UPmTD-mAOi0b"
      }
    },
    {
      "cell_type": "markdown",
      "source": [
        "##Syntax Errors"
      ],
      "metadata": {
        "id": "5_WfV1Q-UyEc"
      }
    },
    {
      "cell_type": "code",
      "source": [
        "print('Hello!)    # missing a punctuation mark"
      ],
      "metadata": {
        "id": "jsl4pLroUA4U",
        "colab": {
          "base_uri": "https://localhost:8080/",
          "height": 106
        },
        "outputId": "df77f084-5321-4b47-89c9-4cfa5bca90c7"
      },
      "execution_count": null,
      "outputs": [
        {
          "output_type": "error",
          "ename": "SyntaxError",
          "evalue": "unterminated string literal (detected at line 1) (<ipython-input-1-cdf89c23b9a6>, line 1)",
          "traceback": [
            "\u001b[0;36m  File \u001b[0;32m\"<ipython-input-1-cdf89c23b9a6>\"\u001b[0;36m, line \u001b[0;32m1\u001b[0m\n\u001b[0;31m    print('Hello!)    # missing a punctuation mark\u001b[0m\n\u001b[0m          ^\u001b[0m\n\u001b[0;31mSyntaxError\u001b[0m\u001b[0;31m:\u001b[0m unterminated string literal (detected at line 1)\n"
          ]
        }
      ]
    },
    {
      "cell_type": "code",
      "source": [
        "pass = 1           # using invalid identifiers"
      ],
      "metadata": {
        "id": "n1bNA8P8VO9y",
        "colab": {
          "base_uri": "https://localhost:8080/",
          "height": 106
        },
        "outputId": "c666e193-469a-4bf4-9356-c368bd9e2ce3"
      },
      "execution_count": null,
      "outputs": [
        {
          "output_type": "error",
          "ename": "SyntaxError",
          "evalue": "invalid syntax (<ipython-input-2-742d4530b0b6>, line 1)",
          "traceback": [
            "\u001b[0;36m  File \u001b[0;32m\"<ipython-input-2-742d4530b0b6>\"\u001b[0;36m, line \u001b[0;32m1\u001b[0m\n\u001b[0;31m    pass = 1           # using invalid identifiers\u001b[0m\n\u001b[0m         ^\u001b[0m\n\u001b[0;31mSyntaxError\u001b[0m\u001b[0;31m:\u001b[0m invalid syntax\n"
          ]
        }
      ]
    },
    {
      "cell_type": "code",
      "source": [
        "for k in range(3):\n",
        "print(k)           # using incorrect formatting and indentation"
      ],
      "metadata": {
        "id": "8hBokgLrVK1z",
        "colab": {
          "base_uri": "https://localhost:8080/",
          "height": 106
        },
        "outputId": "0caaa564-8001-43e1-86eb-f098aac83ba2"
      },
      "execution_count": null,
      "outputs": [
        {
          "output_type": "error",
          "ename": "IndentationError",
          "evalue": "expected an indented block after 'for' statement on line 1 (<ipython-input-3-c3fefaab03d0>, line 2)",
          "traceback": [
            "\u001b[0;36m  File \u001b[0;32m\"<ipython-input-3-c3fefaab03d0>\"\u001b[0;36m, line \u001b[0;32m2\u001b[0m\n\u001b[0;31m    print(k)           # using incorrect formatting and indentation\u001b[0m\n\u001b[0m    ^\u001b[0m\n\u001b[0;31mIndentationError\u001b[0m\u001b[0;31m:\u001b[0m expected an indented block after 'for' statement on line 1\n"
          ]
        }
      ]
    },
    {
      "cell_type": "markdown",
      "source": [
        "##Exceptions"
      ],
      "metadata": {
        "id": "TJWB0BmgVlCa"
      }
    },
    {
      "cell_type": "markdown",
      "source": [
        "###Division of Integers"
      ],
      "metadata": {
        "id": "WI7mS8RVXHSy"
      }
    },
    {
      "cell_type": "code",
      "source": [
        "# Example 1: Number Division\n",
        "try:\n",
        "  print ('Division of Integers')\n",
        "  num1 = int(input('Enter a dividend: '))\n",
        "  num2 = int(input('Enter a divisor: '))\n",
        "  quotient = num1 // num2\n",
        "  remainder = num1 % num2\n",
        "except ValueError:\n",
        "  print ('It is not an integer!')\n",
        "except ZeroDivisionError:\n",
        "  print ('Division by zero is prohibited!')\n",
        "else:\n",
        "  print (f'{num1} : {num2} = {quotient} with the remainder {remainder}.')\n",
        "finally:\n",
        "  print ('This is the end of the program. Goodbye!')"
      ],
      "metadata": {
        "id": "Wm2dm9s1VoD0",
        "colab": {
          "base_uri": "https://localhost:8080/"
        },
        "outputId": "41ad4bed-8813-4935-e0d6-f59387c23ad7"
      },
      "execution_count": null,
      "outputs": [
        {
          "output_type": "stream",
          "name": "stdout",
          "text": [
            "Division of Integers\n",
            "Enter a dividend: 10\n",
            "Enter a divisor: 0\n",
            "Division by zero is prohibited!\n",
            "This is the end of the program. Goodbye!\n"
          ]
        }
      ]
    },
    {
      "cell_type": "markdown",
      "source": [
        "###Finding the Average"
      ],
      "metadata": {
        "id": "avGGDcx8XUjl"
      }
    },
    {
      "cell_type": "code",
      "source": [
        "# Example 2: Finding the Average of Numbers\n",
        "count = 0\n",
        "sum = 0.0\n",
        "nums = [ ]\n",
        "while count != 10 :\n",
        "    try :\n",
        "        num = float(input('Enter a number:'))\n",
        "        sum += num\n",
        "        count += 1\n",
        "        nums.append(num)\n",
        "    except ValueError:\n",
        "        print  ('It is not a number! Try again.')\n",
        "avg = sum / count\n",
        "print ( f'The average of {nums} is {avg}.')"
      ],
      "metadata": {
        "colab": {
          "base_uri": "https://localhost:8080/"
        },
        "id": "1omGpUYsUpi2",
        "outputId": "dd73993f-f87d-4a78-f192-4c57ab143d12"
      },
      "execution_count": null,
      "outputs": [
        {
          "output_type": "stream",
          "name": "stdout",
          "text": [
            "Enter a number:10\n",
            "Enter a number:23\n",
            "Enter a number:12\n",
            "Enter a number:12\n",
            "Enter a number:4\n",
            "Enter a number:2\n",
            "Enter a number:3\n",
            "Enter a number:4\n",
            "Enter a number:5\n",
            "Enter a number:6\n",
            "The average of [10.0, 23.0, 12.0, 12.0, 4.0, 2.0, 3.0, 4.0, 5.0, 6.0] is 8.1.\n"
          ]
        }
      ]
    },
    {
      "cell_type": "markdown",
      "source": [
        "###Raise Exceptions"
      ],
      "metadata": {
        "id": "MF0s49ovWiKa"
      }
    },
    {
      "cell_type": "code",
      "source": [
        "# Example 1\n",
        "class MyException(Exception):\n",
        "  pass\n",
        "x = -1\n",
        "if x < 0:\n",
        "  raise MyException('The number is negative!')"
      ],
      "metadata": {
        "id": "7wUxD2KdWY9G"
      },
      "execution_count": null,
      "outputs": []
    },
    {
      "cell_type": "code",
      "source": [
        "# Example 2\n",
        "data = '123'\n",
        "if not type(data) is int:\n",
        "  raise TypeError('The value is not an integer!')"
      ],
      "metadata": {
        "id": "HA7mo3zqWdbj"
      },
      "execution_count": null,
      "outputs": []
    },
    {
      "cell_type": "markdown",
      "source": [
        "##Logical Errors"
      ],
      "metadata": {
        "id": "sehEkFNElhWz"
      }
    },
    {
      "cell_type": "code",
      "source": [
        "num1, num2 = 3, 5\n",
        "avg = num1 + num2 / 2    # a logical error due to missing parentheses!!!\n",
        "print(avg)"
      ],
      "metadata": {
        "id": "WPNJOB10lqgS"
      },
      "execution_count": null,
      "outputs": []
    },
    {
      "cell_type": "code",
      "source": [
        "count = 0\n",
        "while count < 3 :\n",
        "  print(count)\n",
        "count += 1       \t\t    # a logical error - infinite loop - due to a wrong indentation"
      ],
      "metadata": {
        "id": "He_7w57lmCZK",
        "colab": {
          "base_uri": "https://localhost:8080/"
        },
        "outputId": "c724ff92-ca1e-4505-d6d7-d339929501d0"
      },
      "execution_count": null,
      "outputs": [
        {
          "output_type": "stream",
          "name": "stdout",
          "text": [
            "0\n",
            "1\n",
            "2\n"
          ]
        }
      ]
    },
    {
      "cell_type": "markdown",
      "source": [
        "##Debugging\n",
        "\n",
        "Debugging is a process of identifying and fixing the code that generates errors."
      ],
      "metadata": {
        "id": "EvfhNYdEnJpe"
      }
    },
    {
      "cell_type": "markdown",
      "source": [
        "###Assert Statements"
      ],
      "metadata": {
        "id": "2J5Uq_1ZoAz5"
      }
    },
    {
      "cell_type": "code",
      "source": [
        "def avg(*args):\n",
        "  return (sum(args) / len(args))\n",
        "\n",
        "a, b, c = 1, 2, 3\n",
        "average = avg(a,b,c)\n",
        "assert average == 2.0    # check the average function\n",
        "print(average)"
      ],
      "metadata": {
        "id": "nKzOrCCxoEnJ"
      },
      "execution_count": null,
      "outputs": []
    },
    {
      "cell_type": "code",
      "source": [
        "def avg_incorrect(a, b):\n",
        "  return a + b / 2\n",
        "\n",
        "num1, num2, num3 = 2, 4, 3\n",
        "average = avg_incorrect(num1, num2)\n",
        "try:\n",
        "  assert average == num3\n",
        "except AssertionError:\n",
        "  print(f\"There is an assertion error: the average of {num1} and {num2} is not equal to {num3}!\")\n",
        "else:\n",
        "  print(f\"The average of {num1} and {num2} is {average}.\")"
      ],
      "metadata": {
        "colab": {
          "base_uri": "https://localhost:8080/"
        },
        "id": "R_FFDZs3qXi5",
        "outputId": "99f80795-2481-4fad-89da-1c5a9df5f38a"
      },
      "execution_count": null,
      "outputs": [
        {
          "output_type": "stream",
          "name": "stdout",
          "text": [
            "There is an assertion error: the average of 2 and 4 is not equal to 3!\n"
          ]
        }
      ]
    },
    {
      "cell_type": "markdown",
      "source": [
        "###Call Stack"
      ],
      "metadata": {
        "id": "HZE25cH4UgSt"
      }
    },
    {
      "cell_type": "code",
      "source": [
        "import traceback\n",
        "\n",
        "def read_file():\n",
        "    try:\n",
        "        print(\"Printing each line in text file:\")\n",
        "        with open(\"japan.txt\") as file_handler:\n",
        "            for each_line in file_handler:\n",
        "                print(each_line, end=\"\")\n",
        "    except IOError:\n",
        "        print (\"Printing the call stack:\")\n",
        "        traceback.print_stack()\n",
        "def main():\n",
        "    read_file()\n",
        "if __name__ == \"__main__\":\n",
        "    main()\n"
      ],
      "metadata": {
        "id": "t5VqN2pMT0CE"
      },
      "execution_count": null,
      "outputs": []
    },
    {
      "cell_type": "markdown",
      "source": [
        "###Unit Test"
      ],
      "metadata": {
        "id": "i2PZpc-aVqGU"
      }
    },
    {
      "cell_type": "code",
      "source": [
        "# Generate a formatted full name including a middle name\n",
        "def formatted_name(first_name, last_name, middle_name=''):\n",
        "   if len(middle_name) > 0:\n",
        "       full_name = first_name  + ' ' + middle_name + ' ' + last_name\n",
        "   else:\n",
        "       full_name = first_name + ' ' + last_name\n",
        "   return full_name.title()"
      ],
      "metadata": {
        "id": "F3H8wKSzYj3z"
      },
      "execution_count": null,
      "outputs": []
    },
    {
      "cell_type": "code",
      "source": [
        "import unittest\n",
        "#from test_module import formatted_name\n",
        "\n",
        "class TestCase(unittest.TestCase):\n",
        "    def test_first_last_name(self):\n",
        "        result = formatted_name(\"pete\", \"seeger\")\n",
        "        self.assertEqual(result, \"Pete Seeger\")\n",
        "\n",
        "    def test_first_last_middle_name(self):\n",
        "        result = formatted_name(\"raymond\", \"reddington\", \"red\")\n",
        "        self.assertEqual(result, \"Raymond Red Reddington\")"
      ],
      "metadata": {
        "id": "HF7fQbMvYn7y"
      },
      "execution_count": null,
      "outputs": []
    },
    {
      "cell_type": "code",
      "source": [
        "if __name__ == '__main__':\n",
        "    unittest.main()"
      ],
      "metadata": {
        "id": "vebtQi6RYy4s"
      },
      "execution_count": null,
      "outputs": []
    },
    {
      "cell_type": "markdown",
      "metadata": {
        "id": "MPZVFPy_MYJx"
      },
      "source": [
        "# Lecture 14 - Files\n",
        "* Input and Output Devices\n",
        "* Memory\n",
        "  * RAM\n",
        "  * ROM\n",
        "  * Storage Memory\n",
        "* Files\n",
        "  * OS and File Management\n",
        "  * Root, Directories, Subdirectories, and Files\n",
        "  * File Types\n",
        "* Text Files\n",
        "  * File Encoding: ASCII and Unicode\n",
        "  * File Attributes\n",
        "  * Openning Files\n",
        "  * Reading Files\n",
        "  * Writing Files\n",
        "  * with Statement\n",
        "  * File Methods\n",
        "* Binary Files\n",
        "  * File Encoding, Codecs, Compression\n",
        "  * Binary File Types\n",
        "    * Image Files\n",
        "    * Audio Files\n",
        "  * Reading Files\n",
        "  * Writing Files\n",
        "  \n"
      ]
    },
    {
      "cell_type": "markdown",
      "source": [
        "##Files\n",
        "\n",
        "A file is a memory structure that is used for storing data on storage devices such as hard disk, floppy disk, flash drive, CD, DVD, memory card, etc.\n",
        "\n",
        "There are two types of primary memory:\n",
        "\n",
        "1. Read Only Memory (ROM)\n",
        "2. Randomly Accessed Memory (RAM)\n",
        "\n",
        "ROM is used by OS (Operating System) for booting the computer and some devices, whereas RAM is used by CPU (Central Processing Unit) for loading programs and data into it for quick access.\n",
        "\n",
        "Storage memory is different from RAM and ROM; it is also called secondary memory. Data from storage memory can be loaded into RAM as well as data from RAM can be saved in storage memory. To do such operations in programs, we use file handlers that allows us to operate on files.\n"
      ],
      "metadata": {
        "id": "ZuAEmd-Dtarz"
      }
    },
    {
      "cell_type": "markdown",
      "source": [
        "##Creating and Writing Files"
      ],
      "metadata": {
        "id": "Panzy9qmaXOg"
      }
    },
    {
      "cell_type": "markdown",
      "source": [
        "Let's create a simple text file 'hello.txt':"
      ],
      "metadata": {
        "id": "ppboWc3-gFYy"
      }
    },
    {
      "cell_type": "code",
      "source": [
        "try :\n",
        "  file1 = open ('hello.txt', 'w') # create a file handler\n",
        "  print(type(file1))\n",
        "  file1.write('Hello!\\nHow are you?')\n",
        "except IOError :\n",
        "  print ('File cannot be created!')\n",
        "else:\n",
        "  file1.close()"
      ],
      "metadata": {
        "id": "SlnwH7YUTusK",
        "colab": {
          "base_uri": "https://localhost:8080/"
        },
        "outputId": "a4ad9089-8f44-4994-f05f-8f3e5290f95e"
      },
      "execution_count": null,
      "outputs": [
        {
          "output_type": "stream",
          "name": "stdout",
          "text": [
            "<class '_io.TextIOWrapper'>\n"
          ]
        }
      ]
    },
    {
      "cell_type": "markdown",
      "source": [
        "##Reading Files"
      ],
      "metadata": {
        "id": "we2W8CubalqG"
      }
    },
    {
      "cell_type": "markdown",
      "source": [
        "Let's read the file 'hello.txt':"
      ],
      "metadata": {
        "id": "Eu5TtIdMgSyu"
      }
    },
    {
      "cell_type": "code",
      "source": [
        "try :\n",
        "  file1 = open ('hello.txt', 'r') # create a file handler\n",
        "  output = file1.read()\n",
        "  print(f'The output is:\\n{output}')\n",
        "except IOError :\n",
        "  print ('File cannot be created!')\n",
        "else:\n",
        "  file1.close()"
      ],
      "metadata": {
        "colab": {
          "base_uri": "https://localhost:8080/"
        },
        "id": "rU7KrZhQgC54",
        "outputId": "3849de0c-67cc-4151-b656-98c9cfbb5646"
      },
      "execution_count": null,
      "outputs": [
        {
          "output_type": "stream",
          "name": "stdout",
          "text": [
            "The output is:\n",
            "Hello!\n",
            "How are you?\n"
          ]
        }
      ]
    },
    {
      "cell_type": "markdown",
      "source": [
        "##Colab Google Drive\n",
        "If we want to save or retrieve a file on the Google Drive, we need to proceed in the following way:"
      ],
      "metadata": {
        "id": "Ab2g1sR5gy_r"
      }
    },
    {
      "cell_type": "code",
      "source": [
        "# for running on colab\n",
        "from google.colab import drive\n",
        "drive.mount('/content/gdrive')\n",
        "dir = '/content/gdrive/My Drive/Data'\n",
        "try :\n",
        "  file1 = open (f'{dir}/message.txt', 'r') # create a file handler\n",
        "  for line in file1 :\n",
        "    print(line, end ='')\n",
        "except IOError :\n",
        "  print ('File cannot be opened!')\n",
        "else:\n",
        "  file1.close()                 # delete the file handler"
      ],
      "metadata": {
        "id": "VwYegpS_zMPI",
        "outputId": "dc6cb956-68c0-453f-f8c0-07f4d4c55e21",
        "colab": {
          "base_uri": "https://localhost:8080/"
        }
      },
      "execution_count": null,
      "outputs": [
        {
          "output_type": "stream",
          "name": "stdout",
          "text": [
            "Mounted at /content/gdrive\n",
            "HELLO! \n",
            "HOW ARE YOU?\n"
          ]
        }
      ]
    },
    {
      "cell_type": "code",
      "source": [
        "try:\n",
        "  with open ('hello.py', 'r') as file1:\n",
        "    for line in file1 :\n",
        "      print(line)\n",
        "except IOError :\n",
        "  print ('File cannot be opened!')"
      ],
      "metadata": {
        "id": "x7beJUb70PX-",
        "colab": {
          "base_uri": "https://localhost:8080/"
        },
        "outputId": "0ad5a802-577d-4035-dc9d-fa26348d6102"
      },
      "execution_count": null,
      "outputs": [
        {
          "output_type": "stream",
          "name": "stdout",
          "text": [
            "File cannot be opened!\n"
          ]
        }
      ]
    },
    {
      "cell_type": "markdown",
      "source": [
        "##Programming Example\n",
        "\n",
        "The following program reads a text file line by line, creates a vocabulary of words present in the file, and saves the vocabulary in another file."
      ],
      "metadata": {
        "id": "8HCuNCrY2boj"
      }
    },
    {
      "cell_type": "code",
      "source": [
        "import re\n",
        "dir = '/content/gdrive/My Drive/Data'\n",
        "try:\n",
        "  with open(f'{dir}/text.txt', 'r') as infile, open(f'{dir}/dictionary.txt', 'w') as outfile:\n",
        "    voc = dict()\n",
        "    for line in infile:\n",
        "      words = line.strip().split()\n",
        "      for w in words:\n",
        "        w = re.sub(r'[^\\w\\s]', '', w)\n",
        "        if w != '':\n",
        "          voc[w] = voc.get(w, 0) + 1\n",
        "    sorted_voc = sorted(voc)\n",
        "    for key in sorted_voc :\n",
        "      outfile.write(key + \" :  \" + str(voc[key])+ \"\\n\")\n",
        "except IOError :\n",
        "  print ('File cannot be opened!')"
      ],
      "metadata": {
        "id": "FodRtHV31cqY"
      },
      "execution_count": null,
      "outputs": []
    },
    {
      "cell_type": "markdown",
      "source": [
        "Let's check the content of the file dictionary.txt"
      ],
      "metadata": {
        "id": "uGWiz69L7ecI"
      }
    },
    {
      "cell_type": "code",
      "source": [
        "dir = '/content/gdrive/My Drive/Data'\n",
        "try :\n",
        "  file1 = open (f'{dir}/dictionary.txt', 'r')\n",
        "  print(file1.read()) # get the all lines in the file\n",
        "except IOError :\n",
        "  print ('File cannot be opened!')\n",
        "else:\n",
        "  file1.close()"
      ],
      "metadata": {
        "id": "g8NdbHGc7c-9",
        "colab": {
          "base_uri": "https://localhost:8080/"
        },
        "outputId": "11518feb-bee5-4881-d156-036692b93013"
      },
      "execution_count": null,
      "outputs": [
        {
          "output_type": "stream",
          "name": "stdout",
          "text": [
            "A :  1\n",
            "ADDED :  1\n",
            "ALICE :  2\n",
            "AN :  1\n",
            "AS :  2\n",
            "CARE :  1\n",
            "CAT :  3\n",
            "DEAL :  1\n",
            "DEPENDS :  1\n",
            "DO :  1\n",
            "DOESNT :  1\n",
            "DONT :  1\n",
            "ENOUGH :  1\n",
            "EXPLANATION :  1\n",
            "FROM :  1\n",
            "GET :  2\n",
            "GO :  2\n",
            "GOD :  1\n",
            "HERE :  1\n",
            "I :  3\n",
            "IF :  1\n",
            "IT :  1\n",
            "LONG :  2\n",
            "MATTER :  1\n",
            "ME :  1\n",
            "MUCH :  1\n",
            "OH :  1\n",
            "ON :  1\n",
            "ONLY :  1\n",
            "OUGHT :  1\n",
            "PLEASE :  1\n",
            "SAID :  4\n",
            "SO :  1\n",
            "SOMEWHERE :  1\n",
            "SURE :  1\n",
            "TELL :  1\n",
            "THAT :  2\n",
            "THE :  3\n",
            "THEN :  1\n",
            "TO :  4\n",
            "WALK :  1\n",
            "WANT :  1\n",
            "WAY :  2\n",
            "WHERE :  2\n",
            "WHICH :  2\n",
            "WOULD :  1\n",
            "YOU :  4\n",
            "YOURE :  1\n",
            "\n"
          ]
        }
      ]
    },
    {
      "cell_type": "markdown",
      "source": [
        "##Binary Files\n",
        "Binary files are encoded differently than text files - first, we convert any data types into bytes and then write bytes into a binary file."
      ],
      "metadata": {
        "id": "dx0RhmxuhVvs"
      }
    },
    {
      "cell_type": "code",
      "source": [
        "try :\n",
        "  file1 = open ('hello-2.txt', 'wb') # create a file handler\n",
        "  file1.write('Hello!'.encode('utf-8'))\n",
        "  file1.write('\\u2764\\uFE0F'.encode('utf-8'))\n",
        "except IOError :\n",
        "  print ('File cannot be created!')\n",
        "else:\n",
        "  file1.close()"
      ],
      "metadata": {
        "id": "Ql2J4fnXh4J1"
      },
      "execution_count": null,
      "outputs": []
    },
    {
      "cell_type": "code",
      "source": [
        "try :\n",
        "  file1 = open ('hello-2.txt', 'rb') # create a file handler\n",
        "  output = file1.read()\n",
        "  print(f'The encoded output is:\\n{output}')\n",
        "  print(f'The decoded output is:\\n{output.decode(\"utf-8\")}')\n",
        "except IOError :\n",
        "  print ('File cannot be created!')\n",
        "else:\n",
        "  file1.close()"
      ],
      "metadata": {
        "colab": {
          "base_uri": "https://localhost:8080/"
        },
        "id": "wjxl57Osj-yg",
        "outputId": "0ed600ea-dddf-4291-a5f1-1b0752feb3f6"
      },
      "execution_count": null,
      "outputs": [
        {
          "output_type": "stream",
          "name": "stdout",
          "text": [
            "The encoded output is:\n",
            "b'Hello!\\xe2\\x9d\\xa4\\xef\\xb8\\x8f'\n",
            "The decoded output is:\n",
            "Hello!❤️\n"
          ]
        }
      ]
    },
    {
      "cell_type": "markdown",
      "metadata": {
        "id": "tPJtu4C0MfKo"
      },
      "source": [
        "# Lecture 15 - Introduction to OOP\n",
        "* Classes and Objects\n",
        "* OOP Tenets\n",
        "  * Data Encapsulation\n",
        "  * Enheritance\n",
        "  * Polymorphism\n",
        "* Class Definition\n",
        "* Constructor Method (init)\n",
        "* Instantiation\n",
        "* Data Attributes\n",
        "* Instance Methods and Dot Notation\n",
        "* Getters and Setters\n",
        "* str Method\n"
      ]
    },
    {
      "cell_type": "markdown",
      "source": [
        "##Classes and Objects"
      ],
      "metadata": {
        "id": "cB8mTDK33Wrm"
      }
    },
    {
      "cell_type": "markdown",
      "source": [
        "A class is a programming structure that is used to create objects.\n",
        "\n",
        "An object is called an instance of a class and composed of several data attributes."
      ],
      "metadata": {
        "id": "Eqi_C1QaFlIJ"
      }
    },
    {
      "cell_type": "markdown",
      "source": [
        "##Class Car"
      ],
      "metadata": {
        "id": "6w0J9vdrFXnu"
      }
    },
    {
      "cell_type": "code",
      "source": [
        "class Car:\n",
        "     def __init__ (self, make, type_, color, year) :  # constructor\n",
        "             self.make = make\n",
        "             self.type_ = type_\n",
        "             self.color = color\n",
        "             self.year = year\n",
        "     def print_info (self) :   # instance method\n",
        "              print (f'The {self.make} is a {self.color} {self.type_} built in {self.year}.')\n",
        "\n",
        "# main\n",
        "my_car = Car ('Volvo', 'sedan', 'blue', 2016) # instantiation of an object belonging to class Car\n",
        "my_car.print_info()                           # instance method call\n",
        "dad_car = Car ('Ford', 'pickup', 'white', 2005)\n",
        "dad_car.print_info()\n",
        "sister_car = Car('Toyota', 'SUV', 'red', 2018 )\n",
        "sister_car.print_info()"
      ],
      "metadata": {
        "id": "G5i7t63_3-3_",
        "colab": {
          "base_uri": "https://localhost:8080/"
        },
        "outputId": "5394696b-7c4a-405b-9cf4-f64240fd550f"
      },
      "execution_count": null,
      "outputs": [
        {
          "output_type": "stream",
          "name": "stdout",
          "text": [
            "The Volvo is a blue sedan built in 2016.\n",
            "The Ford is a white pickup built in 2005.\n",
            "The Toyota is a red SUV built in 2018.\n"
          ]
        }
      ]
    },
    {
      "cell_type": "markdown",
      "source": [
        "##Class Student"
      ],
      "metadata": {
        "id": "rx0kqx5dFTjS"
      }
    },
    {
      "cell_type": "code",
      "source": [
        "class Student:\n",
        "    occupation = \"student\" # class attribute\n",
        "    activity = \"studying\"  # class attribute\n",
        "    def __init__ (self, name=\"\", major=\"\", age=0): # constructor with parameters\n",
        "        self.name = name    # data attribute\n",
        "        self.major = major  # data attribute\n",
        "        self.age = age      # data attribute\n",
        "    def print_info(self):   # instance method\n",
        "        if self.name == \"\" or self.major == \"\" or self.age == 0:\n",
        "            pass\n",
        "        else:\n",
        "            print (f'{self.name} is {self.age} years old and studying {self.major}.')\n",
        "    def print_definition(self) : # instance method\n",
        "        print (f'A {Student.occupation} is a person who is {Student.activity} at school.')\n",
        "\n",
        "# main program\n",
        "alex = Student(\"Alex\", \"chemistry\", 20) # instantiation of an object of class Student\n",
        "anonymous = Student()                   # instantiation of another object of class Student\n",
        "alex.print_info()\n",
        "anonymous.print_info()\n",
        "alex.print_definition()\n",
        "anonymous.print_definition()"
      ],
      "metadata": {
        "id": "dCWa-W6979Xi",
        "colab": {
          "base_uri": "https://localhost:8080/"
        },
        "outputId": "47fd2a86-efeb-4c5d-f653-63f091043aea"
      },
      "execution_count": null,
      "outputs": [
        {
          "output_type": "stream",
          "name": "stdout",
          "text": [
            "Alex is 20 years old and studying chemistry.\n",
            "A student is a person who is studying at school.\n",
            "A student is a person who is studying at school.\n"
          ]
        }
      ]
    },
    {
      "cell_type": "markdown",
      "source": [
        "##Setters and Getters"
      ],
      "metadata": {
        "id": "F8pvcw_k-k9l"
      }
    },
    {
      "cell_type": "code",
      "source": [
        "class Person :\n",
        "  def __init__(self, name=\"\", age=0):\n",
        "    self.name = name\n",
        "    self.age = age\n",
        "  def set_name(self, name):\n",
        "    self.name = name\n",
        "  def set_age(self, age):\n",
        "    self.age = age\n",
        "  def get_name(self) :\n",
        "    return self. name\n",
        "  def get_age(self):\n",
        "    return self.age\n",
        "\n",
        "# main\n",
        "dad = Person()\n",
        "dad.name = 'Ben'   # this approach is not recommended\n",
        "print(dad.name)    # this approach is not recommended\n",
        "\n",
        "dad.set_name('Ben')  # instead of previous statements use this approach\n",
        "dad.set_age(56)\n",
        "print(dad.get_name() ) # use this approach\n",
        "print(dad.get_age() )"
      ],
      "metadata": {
        "id": "e_TdxyVd-pXt",
        "colab": {
          "base_uri": "https://localhost:8080/"
        },
        "outputId": "6c6b100b-7aca-403c-f9cb-590957a2d7e4"
      },
      "execution_count": null,
      "outputs": [
        {
          "output_type": "stream",
          "name": "stdout",
          "text": [
            "Rob\n",
            "Ben\n",
            "56\n"
          ]
        }
      ]
    },
    {
      "cell_type": "markdown",
      "source": [
        "##The str() Method\n",
        "\n",
        "The str() method is used to visualize object data. It belongs to magic methods that allow various operations to be executed implicitly. The str() method returns a string representation of the object that is implicitly used in print statements - behind the scenes, the print function calls the class str() method and substitutes the object with its string representation."
      ],
      "metadata": {
        "id": "I0ReRwt5_ZB1"
      }
    },
    {
      "cell_type": "code",
      "source": [
        "dad = Person()\n",
        "dad.set_name(\"Ben\")\n",
        "dad.set_age(56)\n",
        "\n",
        "mom = Person()\n",
        "mom.set_name(\"Becky\")\n",
        "mom.set_age(46)\n",
        "\n",
        "print(dad)\n",
        "print(mom)"
      ],
      "metadata": {
        "id": "reIvSI2k_kJq"
      },
      "execution_count": null,
      "outputs": []
    },
    {
      "cell_type": "code",
      "source": [
        "class Person :\n",
        "  def __init__(self, name=\"\", age=0):\n",
        "    self.name = name\n",
        "    self.age = age\n",
        "  def __str__(self):\n",
        "    return (self.name + ' is '  + str(self.age) + ' years old.')\n",
        "  def set_name(self, name):\n",
        "    self.name = name\n",
        "  def set_age(self, age):\n",
        "    self.age = age\n",
        "  def get_name(self) :\n",
        "    return self. name\n",
        "  def get_age(self):\n",
        "    return self.age\n",
        "\n",
        "# main\n",
        "dad = Person()\n",
        "dad.set_name('Ben')\n",
        "dad.set_age(56)\n",
        "mom = Person()\n",
        "mom.set_name('Becky')\n",
        "mom.set_age(46)\n",
        "print(mom)\n",
        "print(dad)"
      ],
      "metadata": {
        "id": "GjsvWPxVCn-l"
      },
      "execution_count": null,
      "outputs": []
    },
    {
      "cell_type": "markdown",
      "metadata": {
        "id": "0ovRqGsUMlUV"
      },
      "source": [
        "# Lecture 16 - Data Encapsulation\n",
        "* Classes\n",
        "  * Comparison between Functions and Methods\n",
        "\t* Instance Methods vs Static Methods\n",
        "  * Scope of Variables and Methods\n",
        "* Encapsulation and Information Hiding\n",
        "  * Data and Procedural Abstraction\n",
        "\t* Private Variables and Methods\n",
        "\n"
      ]
    },
    {
      "cell_type": "markdown",
      "source": [
        "##Static Methods"
      ],
      "metadata": {
        "id": "OxuiDYvJGubC"
      }
    },
    {
      "cell_type": "code",
      "source": [
        "class Person:\n",
        "    info = 'person'\n",
        "    def print_info():\n",
        "         print (f'I am a {Person.info}.')\n",
        "\n",
        "# main\n",
        "Person.print_info()   # static method"
      ],
      "metadata": {
        "id": "DyGVP_x7Gw_O",
        "colab": {
          "base_uri": "https://localhost:8080/"
        },
        "outputId": "660ac9ed-42f9-446b-b25b-ad641252dbf5"
      },
      "execution_count": null,
      "outputs": [
        {
          "output_type": "stream",
          "name": "stdout",
          "text": [
            "I am a person.\n"
          ]
        }
      ]
    },
    {
      "cell_type": "code",
      "source": [
        "class Person:\n",
        "     def __init__(self, name, age):\n",
        "            self.name = name\n",
        "            self.age = age\n",
        "     def get_name(self) :\n",
        "           return self.name\n",
        "\n",
        "# main\n",
        "sister = Person('Anna', 12)\n",
        "print(sister.get_name())  # instance method"
      ],
      "metadata": {
        "id": "j4-ehqoVICTy"
      },
      "execution_count": null,
      "outputs": []
    },
    {
      "cell_type": "code",
      "source": [
        "class Tree:\n",
        "      area_factor = 100\n",
        "      stem = 1\n",
        "      def __init__(self, h, w, name):\n",
        "          self.height = h\n",
        "          self.width = w\n",
        "          self.name = name\n",
        "      def get_width(self):    # instance method\n",
        "          return self.width\n",
        "      def get_area(forest):   # static method\n",
        "          area = 0\n",
        "          for tree in forest:\n",
        "              area += tree.get_width()**2 * Tree.stem * Tree.area_factor\n",
        "          return area\n",
        "# main\n",
        "pine = Tree(5,  0.2, 'pine')\n",
        "width = pine.get_width()        # instance method\n",
        "area = Tree.get_area([pine]*583)      # static method\n",
        "print(f'{width:.2f}')\n",
        "print(f'{area:.2f}')"
      ],
      "metadata": {
        "id": "_msl3qQaIxoU",
        "colab": {
          "base_uri": "https://localhost:8080/"
        },
        "outputId": "13af259f-e439-439d-d3a0-4d9a2e8a2fb5"
      },
      "execution_count": null,
      "outputs": [
        {
          "output_type": "stream",
          "name": "stdout",
          "text": [
            "0.20\n",
            "2332.00\n"
          ]
        }
      ]
    },
    {
      "cell_type": "markdown",
      "source": [
        "##Data Encapsulation\n",
        "\n",
        "Data encapsulation is one of the features of Object Oriented Programming (OOP). It is used to hide implementation details and to prevent violation of state invariance of programming entities.\n",
        "\n",
        "Data encapsulation is achived through classes. A class protects its objects from an authorized access and invalid manipulations."
      ],
      "metadata": {
        "id": "HQY4ipMDXma-"
      }
    },
    {
      "cell_type": "markdown",
      "source": [
        "##Private Variables and Private Methods"
      ],
      "metadata": {
        "id": "r2Kjnv3qGlwl"
      }
    },
    {
      "cell_type": "code",
      "source": [
        "class Secret:\n",
        "    __ourkey = 10                              # private class variable\n",
        "    def __init__(self, key):\n",
        "          self.__mykey = key                   # private instance variable\n",
        "    def get_key(self):\n",
        "          return self.__mykey\n",
        "    def __set_key(self, key):                  # private instance method\n",
        "          self.__mykey = key\n",
        "code = Secret (15)\n",
        "try:\n",
        "  print(Secret.ourkey)                       # prints error\n",
        "except AttributeError as e:\n",
        "  print(e)\n",
        "try:\n",
        "  print(code.mykey)                          # prints error\n",
        "except AttributeError as e:\n",
        "  print(e)\n",
        "print(code.get_key())                        # prints 15\n",
        "try:\n",
        "  print(code.__set_key(16))                    # prints error\n",
        "except AttributeError as e:\n",
        "  print(e)\n",
        "print(code.get_key())                        # prints 15"
      ],
      "metadata": {
        "colab": {
          "base_uri": "https://localhost:8080/"
        },
        "id": "Jtxdw_1NbHxY",
        "outputId": "76c09d06-b776-4f72-95d1-16aec80c9c7c"
      },
      "execution_count": null,
      "outputs": [
        {
          "output_type": "stream",
          "name": "stdout",
          "text": [
            "type object 'Secret' has no attribute 'ourkey'\n",
            "'Secret' object has no attribute 'mykey'\n",
            "15\n",
            "'Secret' object has no attribute '__set_key'\n",
            "15\n"
          ]
        }
      ]
    },
    {
      "cell_type": "markdown",
      "source": [
        "##Name Mangling\n",
        "\n",
        "Name mangling (or name decoration) is a technique that resolves unique names for programming entities. Since different programming entities can be named using the same identifier as long as they occupy a different namespace (a different module, class, or function) or have different signatures (e.g. method overloading), the compiler or interpreter should be able to resolve the names uniquely. In Python, name mangling for class methods and variables is achieved by using class name with a leading underscore (See the example below)."
      ],
      "metadata": {
        "id": "Y-lVsRKPhlLx"
      }
    },
    {
      "cell_type": "code",
      "source": [
        "class Person:\n",
        "    def __init__(self):\n",
        "        self.name = 'Sarah'\n",
        "        self._age = 26\n",
        "        self.__id = 30\n",
        "p = Person()\n",
        "print(p.name)\n",
        "print(p._age)\n",
        "try:\n",
        "  print(p.__id)           # generates an error\n",
        "except AttributeError as e:\n",
        "  print(e)\n",
        "print(p._Person__id)    # prints id"
      ],
      "metadata": {
        "id": "YWoa8Bb_b74b"
      },
      "execution_count": null,
      "outputs": []
    },
    {
      "cell_type": "code",
      "source": [
        "class Employee(Person):\n",
        "    def __init__(self):\n",
        "        Person.__init__(self)\n",
        "        self.__id = 25\n",
        "emp = Employee()\n",
        "print(emp._Person__id)      # prevents name clashing (by using name mangling)\n",
        "print(emp._Employee__id)"
      ],
      "metadata": {
        "id": "vd2JzMAmeDRX",
        "colab": {
          "base_uri": "https://localhost:8080/"
        },
        "outputId": "62bad489-703a-41af-adc7-50d88b2053b2"
      },
      "execution_count": null,
      "outputs": [
        {
          "output_type": "stream",
          "name": "stdout",
          "text": [
            "30\n",
            "25\n"
          ]
        }
      ]
    },
    {
      "cell_type": "markdown",
      "source": [
        "##Methods and Data Attributes of a Class"
      ],
      "metadata": {
        "id": "Z12IfVddYwu1"
      }
    },
    {
      "cell_type": "code",
      "source": [
        "dir(Person())"
      ],
      "metadata": {
        "id": "XuvBGR1As-8F"
      },
      "execution_count": null,
      "outputs": []
    },
    {
      "cell_type": "code",
      "source": [
        "dir(list())"
      ],
      "metadata": {
        "id": "dFgvFcX5Y_o4"
      },
      "execution_count": null,
      "outputs": []
    },
    {
      "cell_type": "markdown",
      "metadata": {
        "id": "HBtufQ65MtC_"
      },
      "source": [
        "# Lecture 17 - Inheritance\n",
        "* Inheritance\n",
        "* Superclass and Subclasses\n",
        "* Multiple Inheritance\n",
        "* Method Overriding\n",
        "* Method Resolution Order\n"
      ]
    },
    {
      "cell_type": "markdown",
      "source": [
        "Inheritance is a property of acquiring variables and methods by one class from another class.\n",
        "\n",
        "Classes that share variables and methods are related to each other. A derived class (or subclass) inherits functionality (variables and methods) from the parent class called a base class (or superclass).\n",
        "\n"
      ],
      "metadata": {
        "id": "MUkQfNgQumsE"
      }
    },
    {
      "cell_type": "markdown",
      "source": [
        "##Class Vehicle"
      ],
      "metadata": {
        "id": "Rc-OBmUVGmCe"
      }
    },
    {
      "cell_type": "code",
      "source": [
        "# make a superclass Vehicle\n",
        "class Vehicle:\n",
        "      name = 'vehicle'\n",
        "      info = 'transportation means'\n",
        "      def __init__(self, type_):\n",
        "            self.type_ = type_\n",
        "      def get_type(self):\n",
        "            return self.type_\n",
        "\n",
        "# make a subclass Car\n",
        "class Car (Vehicle):\n",
        "      wheels = 4\n",
        "      def get_wheels(self):\n",
        "            return Car.wheels\n",
        "\n",
        "# instantiate various objects\n",
        "boat = Vehicle('boat')\n",
        "train = Vehicle('train')\n",
        "car1 = Vehicle('car')\n",
        "car2 = Car('car')\n",
        "print(boat.get_type())\n",
        "print(train.get_type())\n",
        "print(car1.get_type())\n",
        "print(car2.get_type())\n",
        "print(car2.get_wheels())\n",
        "print(car2.name)"
      ],
      "metadata": {
        "id": "TJeHe1p5fJiA"
      },
      "execution_count": null,
      "outputs": []
    },
    {
      "cell_type": "markdown",
      "source": [
        "##Multiple Inheritance"
      ],
      "metadata": {
        "id": "x0LmKWrLg2z9"
      }
    },
    {
      "cell_type": "code",
      "source": [
        "class Book:\n",
        "\tdef __init__(self, title, author, publisher, year):\n",
        "\t\tself.title = title\n",
        "\t\tself.author = author\n",
        "\t\tself.publisher = publisher\n",
        "\t\tself.year = year\n",
        "\tdef __str__(self):\n",
        "\t\treturn (f'title={self.title}, author={self.author},publisher={self.publisher}, year={self.year}')\n",
        "\n",
        "book = Book(title='Python Crash Course', author='Eric Matthes',\n",
        "            publisher='No Starch Press', year=2016)\n",
        "print(book)"
      ],
      "metadata": {
        "id": "mngjdO0yv5VR"
      },
      "execution_count": null,
      "outputs": []
    },
    {
      "cell_type": "code",
      "source": [
        "class ElectronicDevice:\n",
        "\tdef __init__(self, voltage, battery):\n",
        "\t\tself.voltage = voltage\n",
        "\t\tself.battery = battery\n",
        "\tdef __str__(self):\n",
        "\t   return (f'voltage={self.voltage}, battery={self.battery}')\n",
        "\n",
        "computer = ElectronicDevice(voltage=12, battery='Litheum')\n",
        "print(computer)"
      ],
      "metadata": {
        "id": "2vtjZRnklB-m"
      },
      "execution_count": null,
      "outputs": []
    },
    {
      "cell_type": "code",
      "source": [
        "# to run this code first run the two codes above!!!\n",
        "class ElectronicBook (Book, ElectronicDevice):\n",
        "\tdef __init__(self, title, author, publisher, year, voltage, battery, model):\n",
        "\t\tBook.__init__(self, title, author, publisher, year)\n",
        "\t\tElectronicDevice.__init__(self, voltage, battery)\n",
        "\t\tself.model = model\n",
        "\tdef __str__(self):\n",
        "\t\treturn(f'title={self.title}, author={self.author}, publisher={self.publisher},\\\n",
        "year={self.year}, voltage={self.voltage}, battery={self.battery}, model={self.model}')\n",
        "\n",
        "book = ElectronicBook(title='Python Crash Course', author='Eric Matthes',\n",
        "                      publisher='No Starch Press', year=2016, voltage=12,\n",
        "                      battery='Litheum', model='Kindle')\n",
        "print(book)"
      ],
      "metadata": {
        "colab": {
          "base_uri": "https://localhost:8080/"
        },
        "id": "cH-75tWXkQfK",
        "outputId": "6cd91502-052f-411e-ada3-edb08763ae3b"
      },
      "execution_count": null,
      "outputs": [
        {
          "output_type": "stream",
          "name": "stdout",
          "text": [
            "title=Python Crash Course, author=Eric Matthes, publisher=No Starch Press,year=2016, voltage=12, battery=Litheum, model=Kindle\n"
          ]
        }
      ]
    },
    {
      "cell_type": "markdown",
      "metadata": {
        "id": "cV7NyW6QMyIK"
      },
      "source": [
        "# Lecture 18 - Polymorphism\n",
        "* Polymorphism\n",
        "* Interfaces and Abstract Classes\n",
        "* Operator Overloading\n",
        "* Magic Methods\n"
      ]
    },
    {
      "cell_type": "markdown",
      "source": [
        "##Polymorphism\n",
        "\n",
        "Polymorphism is a property that allows different implementation of variables and methods that are named the same in the construction of various derived classes."
      ],
      "metadata": {
        "id": "VZeWTkFkrycJ"
      }
    },
    {
      "cell_type": "code",
      "source": [
        "# make superclass Shape\n",
        "class Shape :\n",
        "\t  def __init__(self, area):\n",
        "\t      self.area = area\n",
        "\t  def get_area (self) :\n",
        "\t      return self.area\n",
        "star = Shape(10)\n",
        "print(star.get_area())"
      ],
      "metadata": {
        "id": "Zmv7PCsWoOT8",
        "colab": {
          "base_uri": "https://localhost:8080/"
        },
        "outputId": "0869e94e-0638-4970-96ea-a0acadc3cfa6"
      },
      "execution_count": null,
      "outputs": [
        {
          "output_type": "stream",
          "name": "stdout",
          "text": [
            "10\n"
          ]
        }
      ]
    },
    {
      "cell_type": "code",
      "source": [
        "# first run the code above!!!\n",
        "# make subclass Rectangle\n",
        "class Rectangle (Shape):\n",
        "\t  def __init__(self, width, length):\n",
        "\t      self.width = width\n",
        "\t      self.length = length\n",
        "\t  def get_area (self) :\n",
        "\t      return self.width * self.length\n",
        "\n",
        "rec = Rectangle(4, 3)\n",
        "print(rec.get_area())"
      ],
      "metadata": {
        "id": "k46K6FcNoSwl",
        "colab": {
          "base_uri": "https://localhost:8080/"
        },
        "outputId": "2f7b3636-04f1-4911-fc9d-bf4b13d4d759"
      },
      "execution_count": null,
      "outputs": [
        {
          "output_type": "stream",
          "name": "stdout",
          "text": [
            "12\n"
          ]
        }
      ]
    },
    {
      "cell_type": "code",
      "source": [
        "# first run the two codes above\n",
        "# make subclass Circle\n",
        "import math\n",
        "class Circle (Shape) :\n",
        "\t  def __init__(self, r):\n",
        "\t      self.radius = r\n",
        "\t  def get_area (self) :\n",
        "\t      return math.pi * self.radius**2\n",
        "\n",
        "circle = Circle(r=5)\n",
        "print(f'{circle.get_area():.2f}')"
      ],
      "metadata": {
        "id": "UubNaX-5pqJK",
        "colab": {
          "base_uri": "https://localhost:8080/"
        },
        "outputId": "7e28f572-08fe-4906-a783-1ce51f35ce9a"
      },
      "execution_count": null,
      "outputs": [
        {
          "output_type": "stream",
          "name": "stdout",
          "text": [
            "78.54\n"
          ]
        }
      ]
    },
    {
      "cell_type": "code",
      "source": [
        "# first run the two codes above\n",
        "def print_area(shape):\n",
        "\t  print(f'{shape.get_area():.2f}')\n",
        "\n",
        "rec = Rectangle(10, 2)\n",
        "circle = Circle(3)\n",
        "shapes = [rec, circle]\n",
        "for item in shapes :\n",
        "\t  print_area(item)"
      ],
      "metadata": {
        "id": "-ecSx0CjqrxI",
        "colab": {
          "base_uri": "https://localhost:8080/"
        },
        "outputId": "b779674b-614b-41c3-a0c4-1efac85d84f2"
      },
      "execution_count": null,
      "outputs": [
        {
          "output_type": "stream",
          "name": "stdout",
          "text": [
            "20.00\n",
            "28.27\n"
          ]
        }
      ]
    },
    {
      "cell_type": "markdown",
      "source": [
        "##Interfaces and Abstract Classes\n",
        "\n"
      ],
      "metadata": {
        "id": "OFTNQdXHxxwQ"
      }
    },
    {
      "cell_type": "code",
      "source": [
        "# make superclass Shape – interface implementation\n",
        "class Shape :\n",
        "\t  def get_area (self) :\n",
        "\t      pass"
      ],
      "metadata": {
        "id": "aTm-n9Kex2Xc"
      },
      "execution_count": null,
      "outputs": []
    },
    {
      "cell_type": "markdown",
      "source": [
        "##Magic Methods\n",
        "\n",
        "Magic methods are methods that are used to define behaviours of various overloaded operators and built-in functions in Python. For example, \\_\\_init__ is used to construct objects belonging to different classes, \\_\\_str__ is used to convert an object into its string representation, \\_\\_lt__ is used to compare objects using the operator '<'. There are many more magic methods in Python:\n",
        "https://www.netjstech.com/2019/06/magic-methods-in-python-with-examples.html.\n"
      ],
      "metadata": {
        "id": "9QI2LdGMuD35"
      }
    },
    {
      "cell_type": "code",
      "source": [
        "class Person:\n",
        "      def __init__(self, name, age):\n",
        "           self.name = name\n",
        "           self.age = age\n",
        "      def __lt__(self, other):\n",
        "           return self.age < other.age\n",
        "\n",
        "brother = Person('Dave', 8)\n",
        "sister = Person ('Emily', 10)\n",
        "if brother < sister:\n",
        "     print (f'{brother.name} is younger than {sister.name}.')\n",
        "else:\n",
        "      print (f'{brother.name} is not younger than {sister.name}.')"
      ],
      "metadata": {
        "id": "zyH9shqQuHQJ"
      },
      "execution_count": null,
      "outputs": []
    },
    {
      "cell_type": "markdown",
      "metadata": {
        "id": "wOTTACrTM3jw"
      },
      "source": [
        "# Lecture 19 - Modules\n",
        "* Programming Approaches: Top-Down and Bottom-Up Approaches\n",
        "* Modular Programming\n",
        "* Modules, Packages, and Libraries\n",
        "* Creating and Importing Modules\n",
        "* Standard Python Library and Packages\n",
        "* Creating Own Packages\n",
        "* External Libraries\n"
      ]
    },
    {
      "cell_type": "markdown",
      "source": [
        "##Hashlib Module"
      ],
      "metadata": {
        "id": "ruLNDdlJhFaP"
      }
    },
    {
      "cell_type": "code",
      "source": [
        "from hashlib import md5, sha1\n",
        "\n",
        "text = input(\"Enter text to hash ('q' to quit): \")\n",
        "\n",
        "while text != 'q':\n",
        "    algorithm = input('Enter algorithm (md5/sha1): ')\n",
        "    if algorithm == 'md5':\n",
        "        output = md5(text.encode('utf-8'))\n",
        "    elif algorithm == 'sha1':\n",
        "        output = sha1(text.encode('utf-8'))\n",
        "    else:\n",
        "        output = 'Invalid algorithm selection'\n",
        "    print(f'Hash value: {output.hexdigest()}')\n",
        "\n",
        "    text = input(\"\\nEnter text to hash ('q' to quit): \")"
      ],
      "metadata": {
        "colab": {
          "base_uri": "https://localhost:8080/"
        },
        "id": "GAH48hb9bYUB",
        "outputId": "c4715d7c-bb13-49e8-9503-12c8e6b2823b"
      },
      "execution_count": null,
      "outputs": [
        {
          "name": "stdout",
          "output_type": "stream",
          "text": [
            "Enter text to hash ('q' to quit): hello\n",
            "Enter algorithm (md5/sha1): md5\n",
            "Hash value: 5d41402abc4b2a76b9719d911017c592\n",
            "\n",
            "Enter text to hash ('q' to quit): q\n"
          ]
        }
      ]
    },
    {
      "cell_type": "markdown",
      "source": [
        "##Datetime Module"
      ],
      "metadata": {
        "id": "fX1Ns8Mzg-Ai"
      }
    },
    {
      "cell_type": "code",
      "source": [
        "import datetime\n",
        "\n",
        "# Create a new date object representing the current date (May 30, 2016)\n",
        "today  = datetime.date.today()\n",
        "\n",
        "days_from_now = int(input('Enter number of days from now: '))\n",
        "\n",
        "# Create a new timedelta object that represents a difference in the\n",
        "# number of days between dates.\n",
        "day_difference = datetime.timedelta(days = days_from_now)\n",
        "\n",
        "# Calculate new date\n",
        "future_date = today + day_difference\n",
        "\n",
        "print(f'{days_from_now} days from now is {future_date.strftime(\"%B %d, %Y\")}')"
      ],
      "metadata": {
        "id": "6kjpE7M6g8ZT"
      },
      "execution_count": null,
      "outputs": []
    },
    {
      "cell_type": "markdown",
      "source": [
        "##Urllib Module"
      ],
      "metadata": {
        "id": "pdip3HwjhLBG"
      }
    },
    {
      "cell_type": "code",
      "source": [
        "import urllib.request\n",
        "\n",
        "def search(terms):\n",
        "    \"\"\"Do a fictional web engine search and return the results\"\"\"\n",
        "    html = _send_request(terms)\n",
        "    results = _get_results(html)\n",
        "    return results\n",
        "\n",
        "def _send_request(terms):\n",
        "    \"\"\"Send search to fictional web search engine and receive HTML response\"\"\"\n",
        "    terms = terms.replace(' ', '%20')  #replace spaces\n",
        "\n",
        "    url = 'https://en.wikipedia.org/wiki/search?q=' + terms\n",
        "    info = {'User-Agent': 'Mozilla/5.0'}\n",
        "    req = urllib.request.Request(url, headers=info)\n",
        "\n",
        "    response = urllib.request.urlopen(req)\n",
        "    html = str(response.read())\n",
        "    return html\n",
        "\n",
        "def _get_results(html):\n",
        "    \"\"\"\n",
        "    Finds the links returned in 1st page of results.\n",
        "    \"\"\"\n",
        "    start_tag = '<cite>'  # start of results\n",
        "    end_tag = '</cite>'   # Results end with this tag\n",
        "    links = []            # list of result links\n",
        "\n",
        "    start_tag_loc = html.find(start_tag)  # find 1st link\n",
        "\n",
        "    while start_tag_loc > -1:\n",
        "        link_start = start_tag_loc + len(start_tag)\n",
        "        link_end = html.find(end_tag, link_start)\n",
        "        links.append(html[link_start:link_end])\n",
        "        start_tag_loc = html.find(start_tag, link_end)\n",
        "\n",
        "    return links\n",
        "\n",
        "search_term  = input('Enter search terms: ')\n",
        "result = search(search_term)\n",
        "\n",
        "print(f'Found {len(result)} links:')\n",
        "for link in result:\n",
        "    print(' ', link)"
      ],
      "metadata": {
        "colab": {
          "base_uri": "https://localhost:8080/"
        },
        "id": "ySoWD9pycU9c",
        "outputId": "edf49a2b-cd89-4ae3-b746-04870db6c3db"
      },
      "execution_count": null,
      "outputs": [
        {
          "output_type": "stream",
          "name": "stdout",
          "text": [
            "Enter search terms: cat\n",
            "Found 0 links:\n"
          ]
        }
      ]
    },
    {
      "cell_type": "markdown",
      "metadata": {
        "id": "YmksWGCHM8Cv"
      },
      "source": [
        "# Lecture 20 - Advanced Topics (Optional)\n",
        "* Functional Programming (Brief Overview)\n",
        "  * Anonimous Functions (lambda)\n",
        "  * List and Dictionary Comprehensions\n",
        "  * Iterators\n",
        "  * Generators\n",
        "  * Higher Order Functions: Map, Filter, Reduce, and Decorator\n",
        "* Recursion and Memoization (Brief Overview)"
      ]
    }
  ]
}